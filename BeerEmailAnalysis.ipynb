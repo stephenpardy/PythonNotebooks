{
 "cells": [
  {
   "cell_type": "code",
   "execution_count": 1,
   "metadata": {
    "collapsed": true
   },
   "outputs": [],
   "source": [
    "import matplotlib\n",
    "import mailbox\n",
    "import email\n",
    "import re\n",
    "import datetime\n",
    "import time\n",
    "import matplotlib.pyplot as plt\n",
    "import email.utils\n",
    "import pandas as pd\n",
    "import numpy as np\n",
    "import statsmodels.api as sm\n",
    "from matplotlib.dates import HourLocator, MinuteLocator, DateFormatter\n",
    "import json\n",
    "import urllib.request\n",
    "from scipy import stats\n",
    "from collections import defaultdict\n",
    "%matplotlib inline"
   ]
  },
  {
   "cell_type": "code",
   "execution_count": 2,
   "metadata": {
    "collapsed": true
   },
   "outputs": [],
   "source": [
    "with open('/Users/spardy/.config/OAUTHS/wunderground.json') as f:\n",
    "    wunderground_api_key = json.load(f)['KEY']"
   ]
  },
  {
   "cell_type": "code",
   "execution_count": 3,
   "metadata": {
    "collapsed": true
   },
   "outputs": [],
   "source": [
    "def get_historical_weather(state, city, date, api_key):\n",
    "    with urllib.request.urlopen('http://api.wunderground.com/api/' +\n",
    "                          api_key +\n",
    "                          '/history_' +\n",
    "                          date +\n",
    "                          '/q/' +\n",
    "                          state +\n",
    "                          '/' +\n",
    "                          city +\n",
    "                          '.json') as response:\n",
    "        str_response = response.read().decode('utf-8')\n",
    "\n",
    "        data = json.loads(str_response)\n",
    "        return data"
   ]
  },
  {
   "cell_type": "code",
   "execution_count": null,
   "metadata": {
    "collapsed": true
   },
   "outputs": [],
   "source": []
  },
  {
   "cell_type": "code",
   "execution_count": 4,
   "metadata": {
    "collapsed": true
   },
   "outputs": [],
   "source": [
    "test_txts = [\n",
    "\"\"\"\n",
    "5:06pm at the mailboxes.\n",
    "\n",
    "Woo!\n",
    "\n",
    "_______________________________________________\n",
    "Social mailing list\n",
    "Social@astro.wisc.edu\n",
    "\"\"\",\n",
    "\"\"\"\n",
    "Meet at the mailboxes in 5 min!\n",
    "\n",
    "-- \n",
    "Jenna E. Ryon\n",
    "Graduate Student\n",
    "University of Wisconsin - Madison\n",
    "Department of Astronomy\n",
    "475 N Charter St.\n",
    "Madison, WI 53706\n",
    "\n",
    "_______________________________________________\n",
    "Social mailing list\n",
    "Social@astro.wisc.edu\n",
    "\"\"\"]"
   ]
  },
  {
   "cell_type": "code",
   "execution_count": 5,
   "metadata": {},
   "outputs": [
    {
     "name": "stdout",
     "output_type": "stream",
     "text": [
      "5:06\n",
      "in 5 min\n"
     ]
    }
   ],
   "source": [
    "for text in test_txts:\n",
    "    m = re.search(\"[0-9]:[0-9]{2}\", text)\n",
    "    if m is not None:\n",
    "        print(m.group())\n",
    "    else:\n",
    "        m = re.search(\"in [0-9] min\", text)\n",
    "        if m is not None:\n",
    "            print(m.group())\n",
    "        else:\n",
    "            print(text)"
   ]
  },
  {
   "cell_type": "code",
   "execution_count": 6,
   "metadata": {
    "collapsed": true
   },
   "outputs": [],
   "source": [
    "mbox = mailbox.mbox('/Users/spardy/Takeout/Mail/Beer.mbox')"
   ]
  },
  {
   "cell_type": "code",
   "execution_count": 7,
   "metadata": {
    "collapsed": true
   },
   "outputs": [],
   "source": [
    "skip_indices = [1, 19, 31, 70, 88, 104, 105, 106, 108, 132, 137, 153]"
   ]
  },
  {
   "cell_type": "code",
   "execution_count": 8,
   "metadata": {
    "collapsed": true
   },
   "outputs": [],
   "source": [
    "senders = []\n",
    "for i, message in enumerate(mbox):\n",
    "    if i in skip_indices:\n",
    "        continue\n",
    "    for header in message._headers:\n",
    "        if header[0] == 'From':\n",
    "            m = re.search(\"<(.*)@.*>\", header[1])\n",
    "            if m is not None:\n",
    "                senders.append(m.groups(1)[0])\n",
    "            else:\n",
    "                print(header)"
   ]
  },
  {
   "cell_type": "code",
   "execution_count": 10,
   "metadata": {
    "collapsed": true
   },
   "outputs": [],
   "source": [
    "times_sent = np.array([])\n",
    "times_to_go = np.array([])\n",
    "mail_indices = np.array([], dtype=int)\n",
    "\n",
    "for key, value in mbox.iteritems():\n",
    "\n",
    "    if key in skip_indices:\n",
    "        continue\n",
    "\n",
    "        \n",
    "    #date = datetime.datetime.fromtimestamp(time.mktime(email.utils.parsedate(value['Date'])))\n",
    "    date = datetime.datetime.fromtimestamp(email.utils.mktime_tz(email.utils.parsedate_tz(value['Date'])))\n",
    "    \n",
    "    times_sent = np.append(times_sent, date)\n",
    "    \n",
    "    msg = email.message_from_string(value.as_string())\n",
    "    \n",
    "    if msg.is_multipart():\n",
    "        text = msg.get_payload()[0].get_payload()\n",
    "        if type(text) is list:\n",
    "            text =','.join(str(v) for v in text)\n",
    "    else:\n",
    "        text = msg.get_payload()\n",
    "        \n",
    "    m = re.search(\"([0-9]):([0-9]{2})\", text)\n",
    "    if m is not None:\n",
    "        hour = int(m.group(1))\n",
    "        minute = int(m.group(2))\n",
    "        new_date = date.replace(hour=hour+12, minute=minute)\n",
    "        times_to_go = np.append(times_to_go, new_date)\n",
    "        mail_indices = np.append(mail_indices, key)\n",
    "    else:\n",
    "        m = re.search(\"([0-9])pm\", text)\n",
    "        if m is not None:\n",
    "            hour = int(m.group(1)[0])\n",
    "            new_date = date.replace(hour=hour+12, minute=0)\n",
    "            times_to_go = np.append(times_to_go, new_date)\n",
    "            mail_indices = np.append(mail_indices, key)\n",
    "        else: \n",
    "            m = re.search(\"in ([0-9]+) min\", text)\n",
    "            if m is not None:\n",
    "                minutes = int(m.groups(1)[0])\n",
    "                new_date = date + datetime.timedelta(minutes = minutes)\n",
    "                times_to_go = np.append(times_to_go, new_date)\n",
    "                mail_indices = np.append(mail_indices, key)\n",
    "            else:\n",
    "                times_to_go = np.append(times_to_go, date)\n",
    "                mail_indices = np.append(mail_indices, key)\n",
    "                #print(key, text)\n",
    "    \n"
   ]
  },
  {
   "cell_type": "code",
   "execution_count": 11,
   "metadata": {
    "collapsed": true
   },
   "outputs": [],
   "source": [
    "def get_beer_time(date):\n",
    "    return date.replace(year=2000, month=1, day=1)\n",
    "    \n",
    "beer_times = list(map(get_beer_time, times_to_go))\n",
    "\n",
    "beer_timestamps = np.array(list(map(lambda t: t.timestamp(), beer_times)))\n"
   ]
  },
  {
   "cell_type": "code",
   "execution_count": 12,
   "metadata": {
    "collapsed": true
   },
   "outputs": [],
   "source": [
    "times_by_sender = defaultdict(list)\n",
    "for sender, time in zip(senders, beer_times):\n",
    "    times_by_sender[sender].append(time)\n"
   ]
  },
  {
   "cell_type": "code",
   "execution_count": 13,
   "metadata": {},
   "outputs": [
    {
     "data": {
      "text/plain": [
       "defaultdict(list,\n",
       "            {'andrew': [datetime.datetime(2000, 1, 1, 16, 38, 21)],\n",
       "             'bard': [datetime.datetime(2000, 1, 1, 16, 40, 21),\n",
       "              datetime.datetime(2000, 1, 1, 16, 41, 27),\n",
       "              datetime.datetime(2000, 1, 1, 17, 15, 21)],\n",
       "             'boettche': [datetime.datetime(2000, 1, 1, 16, 45, 4)],\n",
       "             'burkhart': [datetime.datetime(2000, 1, 1, 16, 42, 6),\n",
       "              datetime.datetime(2000, 1, 1, 16, 13, 13)],\n",
       "             'casanova': [datetime.datetime(2000, 1, 1, 16, 30, 30)],\n",
       "             'chisholm': [datetime.datetime(2000, 1, 1, 16, 30, 50)],\n",
       "             'cmurray': [datetime.datetime(2000, 1, 1, 16, 35, 21)],\n",
       "             'ebc': [datetime.datetime(2000, 1, 1, 17, 3, 7)],\n",
       "             'edonghia': [datetime.datetime(2000, 1, 1, 16, 30, 32)],\n",
       "             'eigenbrot': [datetime.datetime(2000, 1, 1, 16, 43, 33),\n",
       "              datetime.datetime(2000, 1, 1, 16, 45, 13),\n",
       "              datetime.datetime(2000, 1, 1, 16, 33, 58),\n",
       "              datetime.datetime(2000, 1, 1, 16, 45, 55),\n",
       "              datetime.datetime(2000, 1, 1, 16, 39, 23),\n",
       "              datetime.datetime(2000, 1, 1, 16, 47, 42),\n",
       "              datetime.datetime(2000, 1, 1, 16, 42, 51),\n",
       "              datetime.datetime(2000, 1, 1, 16, 39, 22),\n",
       "              datetime.datetime(2000, 1, 1, 16, 38, 56),\n",
       "              datetime.datetime(2000, 1, 1, 16, 43, 11),\n",
       "              datetime.datetime(2000, 1, 1, 16, 31, 30),\n",
       "              datetime.datetime(2000, 1, 1, 16, 23, 12),\n",
       "              datetime.datetime(2000, 1, 1, 16, 36, 39),\n",
       "              datetime.datetime(2000, 1, 1, 16, 37, 40),\n",
       "              datetime.datetime(2000, 1, 1, 16, 38, 45),\n",
       "              datetime.datetime(2000, 1, 1, 16, 30, 50),\n",
       "              datetime.datetime(2000, 1, 1, 16, 39, 52),\n",
       "              datetime.datetime(2000, 1, 1, 16, 41, 41),\n",
       "              datetime.datetime(2000, 1, 1, 16, 30, 37),\n",
       "              datetime.datetime(2000, 1, 1, 16, 38, 52),\n",
       "              datetime.datetime(2000, 1, 1, 16, 48, 13),\n",
       "              datetime.datetime(2000, 1, 1, 16, 40, 23),\n",
       "              datetime.datetime(2000, 1, 1, 16, 52, 44),\n",
       "              datetime.datetime(2000, 1, 1, 16, 49, 6),\n",
       "              datetime.datetime(2000, 1, 1, 17, 3, 30),\n",
       "              datetime.datetime(2000, 1, 1, 17, 16, 45),\n",
       "              datetime.datetime(2000, 1, 1, 16, 53, 11),\n",
       "              datetime.datetime(2000, 1, 1, 16, 58, 29),\n",
       "              datetime.datetime(2000, 1, 1, 16, 49, 50),\n",
       "              datetime.datetime(2000, 1, 1, 16, 51, 31),\n",
       "              datetime.datetime(2000, 1, 1, 16, 38, 24),\n",
       "              datetime.datetime(2000, 1, 1, 17, 0, 25),\n",
       "              datetime.datetime(2000, 1, 1, 16, 47, 33),\n",
       "              datetime.datetime(2000, 1, 1, 16, 54, 3),\n",
       "              datetime.datetime(2000, 1, 1, 16, 41, 27),\n",
       "              datetime.datetime(2000, 1, 1, 17, 10, 39),\n",
       "              datetime.datetime(2000, 1, 1, 17, 0, 42),\n",
       "              datetime.datetime(2000, 1, 1, 16, 53, 25)],\n",
       "             'ezbc': [datetime.datetime(2000, 1, 1, 16, 40, 45)],\n",
       "             'frenchd': [datetime.datetime(2000, 1, 1, 17, 6, 30),\n",
       "              datetime.datetime(2000, 1, 1, 16, 51, 43),\n",
       "              datetime.datetime(2000, 1, 1, 17, 17, 9),\n",
       "              datetime.datetime(2000, 1, 1, 16, 52, 2),\n",
       "              datetime.datetime(2000, 1, 1, 16, 48, 13),\n",
       "              datetime.datetime(2000, 1, 1, 16, 47, 51),\n",
       "              datetime.datetime(2000, 1, 1, 16, 38, 30),\n",
       "              datetime.datetime(2000, 1, 1, 17, 10, 43),\n",
       "              datetime.datetime(2000, 1, 1, 17, 22, 52)],\n",
       "             'gosnell': [datetime.datetime(2000, 1, 1, 16, 11, 39),\n",
       "              datetime.datetime(2000, 1, 1, 16, 30, 46)],\n",
       "             'jdavis': [datetime.datetime(2000, 1, 1, 16, 50, 5),\n",
       "              datetime.datetime(2000, 1, 1, 16, 55, 40)],\n",
       "             'johnchisholm59': [datetime.datetime(2000, 1, 1, 16, 30, 10)],\n",
       "             'khall': [datetime.datetime(2000, 1, 1, 17, 15, 39),\n",
       "              datetime.datetime(2000, 1, 1, 16, 52, 59),\n",
       "              datetime.datetime(2000, 1, 1, 17, 4, 7)],\n",
       "             'krishnarao': [datetime.datetime(2000, 1, 1, 17, 3, 36),\n",
       "              datetime.datetime(2000, 1, 1, 16, 55, 53),\n",
       "              datetime.datetime(2000, 1, 1, 16, 51, 22)],\n",
       "             'leiner': [datetime.datetime(2000, 1, 1, 16, 30, 32),\n",
       "              datetime.datetime(2000, 1, 1, 16, 52, 44),\n",
       "              datetime.datetime(2000, 1, 1, 17, 7, 29),\n",
       "              datetime.datetime(2000, 1, 1, 16, 50, 17)],\n",
       "             'lia': [datetime.datetime(2000, 1, 1, 17, 1, 8)],\n",
       "             'mpollack': [datetime.datetime(2000, 1, 1, 17, 8, 22)],\n",
       "             'nhill': [datetime.datetime(2000, 1, 1, 16, 52, 36),\n",
       "              datetime.datetime(2000, 1, 1, 16, 39, 53),\n",
       "              datetime.datetime(2000, 1, 1, 16, 41, 3)],\n",
       "             'ryon': [datetime.datetime(2000, 1, 1, 16, 51, 54),\n",
       "              datetime.datetime(2000, 1, 1, 18, 42, 55),\n",
       "              datetime.datetime(2000, 1, 1, 16, 54, 7),\n",
       "              datetime.datetime(2000, 1, 1, 16, 50, 11),\n",
       "              datetime.datetime(2000, 1, 1, 16, 54, 19),\n",
       "              datetime.datetime(2000, 1, 1, 16, 30, 8),\n",
       "              datetime.datetime(2000, 1, 1, 16, 59, 10),\n",
       "              datetime.datetime(2000, 1, 1, 16, 30, 45),\n",
       "              datetime.datetime(2000, 1, 1, 16, 13, 20),\n",
       "              datetime.datetime(2000, 1, 1, 16, 57, 9),\n",
       "              datetime.datetime(2000, 1, 1, 15, 26, 38),\n",
       "              datetime.datetime(2000, 1, 1, 16, 29, 53),\n",
       "              datetime.datetime(2000, 1, 1, 16, 45, 24),\n",
       "              datetime.datetime(2000, 1, 1, 16, 42, 31)],\n",
       "             'spardy': [datetime.datetime(2000, 1, 1, 16, 35, 15),\n",
       "              datetime.datetime(2000, 1, 1, 19, 1, 4),\n",
       "              datetime.datetime(2000, 1, 1, 16, 45, 56),\n",
       "              datetime.datetime(2000, 1, 1, 16, 45, 27),\n",
       "              datetime.datetime(2000, 1, 1, 16, 40, 57),\n",
       "              datetime.datetime(2000, 1, 1, 16, 55, 59)],\n",
       "             'tofflemi': [datetime.datetime(2000, 1, 1, 16, 44, 22),\n",
       "              datetime.datetime(2000, 1, 1, 16, 30, 41),\n",
       "              datetime.datetime(2000, 1, 1, 16, 40, 46),\n",
       "              datetime.datetime(2000, 1, 1, 16, 38, 16),\n",
       "              datetime.datetime(2000, 1, 1, 14, 38, 11),\n",
       "              datetime.datetime(2000, 1, 1, 16, 35, 25),\n",
       "              datetime.datetime(2000, 1, 1, 16, 45, 31),\n",
       "              datetime.datetime(2000, 1, 1, 17, 1, 49),\n",
       "              datetime.datetime(2000, 1, 1, 17, 0, 7),\n",
       "              datetime.datetime(2000, 1, 1, 17, 0, 43),\n",
       "              datetime.datetime(2000, 1, 1, 16, 38, 24),\n",
       "              datetime.datetime(2000, 1, 1, 16, 50, 21),\n",
       "              datetime.datetime(2000, 1, 1, 16, 36, 37),\n",
       "              datetime.datetime(2000, 1, 1, 18, 3, 14),\n",
       "              datetime.datetime(2000, 1, 1, 16, 42, 29),\n",
       "              datetime.datetime(2000, 1, 1, 16, 55, 36),\n",
       "              datetime.datetime(2000, 1, 1, 16, 46, 52),\n",
       "              datetime.datetime(2000, 1, 1, 16, 45, 53),\n",
       "              datetime.datetime(2000, 1, 1, 16, 50, 14)],\n",
       "             'wood': [datetime.datetime(2000, 1, 1, 16, 39, 15),\n",
       "              datetime.datetime(2000, 1, 1, 16, 30, 46),\n",
       "              datetime.datetime(2000, 1, 1, 16, 33, 20),\n",
       "              datetime.datetime(2000, 1, 1, 16, 30, 39),\n",
       "              datetime.datetime(2000, 1, 1, 16, 30, 30),\n",
       "              datetime.datetime(2000, 1, 1, 16, 41, 47),\n",
       "              datetime.datetime(2000, 1, 1, 16, 45, 33),\n",
       "              datetime.datetime(2000, 1, 1, 16, 56, 40),\n",
       "              datetime.datetime(2000, 1, 1, 16, 30, 13)],\n",
       "             'zpace': [datetime.datetime(2000, 1, 1, 16, 47, 32),\n",
       "              datetime.datetime(2000, 1, 1, 16, 48, 18),\n",
       "              datetime.datetime(2000, 1, 1, 16, 48, 18),\n",
       "              datetime.datetime(2000, 1, 1, 16, 47, 59),\n",
       "              datetime.datetime(2000, 1, 1, 16, 53, 27),\n",
       "              datetime.datetime(2000, 1, 1, 16, 55, 51),\n",
       "              datetime.datetime(2000, 1, 1, 16, 46, 6),\n",
       "              datetime.datetime(2000, 1, 1, 16, 45, 20),\n",
       "              datetime.datetime(2000, 1, 1, 16, 47, 58),\n",
       "              datetime.datetime(2000, 1, 1, 17, 57, 24),\n",
       "              datetime.datetime(2000, 1, 1, 16, 47, 2),\n",
       "              datetime.datetime(2000, 1, 1, 17, 15, 33),\n",
       "              datetime.datetime(2000, 1, 1, 17, 19, 47),\n",
       "              datetime.datetime(2000, 1, 1, 16, 48, 42),\n",
       "              datetime.datetime(2000, 1, 1, 16, 45, 2),\n",
       "              datetime.datetime(2000, 1, 1, 16, 47, 10),\n",
       "              datetime.datetime(2000, 1, 1, 16, 29, 39),\n",
       "              datetime.datetime(2000, 1, 1, 16, 47, 24),\n",
       "              datetime.datetime(2000, 1, 1, 16, 59, 34),\n",
       "              datetime.datetime(2000, 1, 1, 17, 1, 41),\n",
       "              datetime.datetime(2000, 1, 1, 17, 1, 12),\n",
       "              datetime.datetime(2000, 1, 1, 16, 52, 8),\n",
       "              datetime.datetime(2000, 1, 1, 16, 53, 7),\n",
       "              datetime.datetime(2000, 1, 1, 16, 47, 28),\n",
       "              datetime.datetime(2000, 1, 1, 17, 1, 51),\n",
       "              datetime.datetime(2000, 1, 1, 16, 36, 56)]})"
      ]
     },
     "execution_count": 13,
     "metadata": {},
     "output_type": "execute_result"
    }
   ],
   "source": [
    "times_by_sender"
   ]
  },
  {
   "cell_type": "code",
   "execution_count": 14,
   "metadata": {
    "collapsed": true
   },
   "outputs": [],
   "source": [
    "timestamp_by_sender = {key: [t.timestamp() for t in value]\n",
    "                       for key, value in times_by_sender.items()}\n"
   ]
  },
  {
   "cell_type": "code",
   "execution_count": 21,
   "metadata": {},
   "outputs": [
    {
     "name": "stdout",
     "output_type": "stream",
     "text": [
      "ryon 14\n",
      "wood 9\n",
      "spardy 6\n",
      "frenchd 9\n",
      "eigenbrot 38\n",
      "tofflemi 19\n",
      "zpace 26\n",
      "leiner 4\n"
     ]
    }
   ],
   "source": [
    "for k, t in timestamp_by_sender.items():\n",
    "    if len(t) > 3:\n",
    "        print(k, len(t))"
   ]
  },
  {
   "cell_type": "code",
   "execution_count": 22,
   "metadata": {},
   "outputs": [
    {
     "name": "stdout",
     "output_type": "stream",
     "text": [
      "ryon 14\n",
      "wood 9\n",
      "spardy 6\n",
      "frenchd 9\n",
      "eigenbrot 38\n",
      "tofflemi 19\n",
      "zpace 26\n",
      "leiner 4\n"
     ]
    },
    {
     "data": {
      "text/plain": [
       "<matplotlib.text.Text at 0x112cead68>"
      ]
     },
     "execution_count": 22,
     "metadata": {},
     "output_type": "execute_result"
    },
    {
     "data": {
      "image/png": "[encoded data removed]",
      "text/plain": [
       "<matplotlib.figure.Figure at 0x112b48898>"
      ]
     },
     "metadata": {},
     "output_type": "display_data"
    }
   ],
   "source": [
    "fig, axis = plt.subplots(1)\n",
    "\n",
    "data = []\n",
    "\n",
    "for k, t in timestamp_by_sender.items():\n",
    "    if len(t) > 3:\n",
    "        data.append(t)\n",
    "        print(k, len(t))\n",
    "\n",
    "#data = [t for t in timestamp_by_sender.values() if len(t) > 3]\n",
    "plt.violinplot(data, showmedians=True)\n",
    "y_formatter = matplotlib.ticker.ScalarFormatter(useOffset=False)\n",
    "axis.yaxis.set_major_formatter(y_formatter)\n",
    "plt.draw()\n",
    "\n",
    "for i, datum in enumerate(data):\n",
    "    axis.text(i+0.7, np.max(datum)+100, \"n = {:d}\".format(len(datum)))\n",
    "\n",
    "labels = [item.get_text() for item in axis.get_yticklabels()]\n",
    "for i, label in enumerate(labels):\n",
    "    if label:\n",
    "        label_date = datetime.datetime.fromtimestamp(float(label)*1e+8)\n",
    "        labels[i] = \"{:d}:{:02d}\".format(label_date.hour-12, label_date.minute)\n",
    "    \n",
    "_ = axis.set_yticklabels(labels)\n",
    "axis.set_xlabel(\"Sender Number\")\n",
    "axis.set_ylabel(\"Social Time (CST)\")\n",
    "\n",
    "#fig.savefig('./beertimes_by_sender.jpg', dpi=600)"
   ]
  },
  {
   "cell_type": "code",
   "execution_count": 68,
   "metadata": {},
   "outputs": [
    {
     "name": "stdout",
     "output_type": "stream",
     "text": [
      "frenchd 9 16 52\n",
      "khall 3 17 4\n",
      "eigenbrot 38 16 43\n",
      "nhill 3 16 41\n",
      "leiner 4 16 51\n",
      "krishnarao 3 16 55\n",
      "gosnell 2 16 21\n",
      "zpace 26 16 48\n",
      "jdavis 2 16 52\n",
      "burkhart 2 16 27\n",
      "wood 9 16 33\n",
      "bard 3 16 41\n",
      "tofflemi 19 16 45\n",
      "spardy 6 16 45\n",
      "ryon 14 16 47\n"
     ]
    }
   ],
   "source": [
    "for key, value in times_by_sender.items():\n",
    "    ts = [t.timestamp() for t in value]\n",
    "    median_ts = np.median(ts)\n",
    "    median_time = datetime.datetime.fromtimestamp(median_ts)\n",
    "    \n",
    "    if len(value) > 1:\n",
    "        print(key, len(value), median_time.hour, median_time.minute)"
   ]
  },
  {
   "cell_type": "code",
   "execution_count": 49,
   "metadata": {
    "collapsed": true
   },
   "outputs": [],
   "source": [
    "def running_median(x, width, upper=90, lower=10):\n",
    "    if width % 2 == 0:\n",
    "        width += 1\n",
    "    \n",
    "    N = width // 2\n",
    "    \n",
    "    def make_window(x, i):\n",
    "        ln = len(x)\n",
    "        start = i - N if i > N else 0\n",
    "        end = i + N if i < ln - N else ln\n",
    "        return x[start:end]\n",
    "    \n",
    "    medians = np.empty_like(x)\n",
    "    upper_perc = np.empty_like(x)\n",
    "    lower_perc = np.empty_like(x)\n",
    "    \n",
    "    for i in range(len(x)):\n",
    "        window = make_window(x, i)\n",
    "        medians[i] = np.median(window)\n",
    "        upper_perc[i] = np.percentile(window, upper)\n",
    "        lower_perc[i] = np.percentile(window, lower)\n",
    "        \n",
    "    return medians, upper_perc, lower_perc\n",
    "    "
   ]
  },
  {
   "cell_type": "code",
   "execution_count": 50,
   "metadata": {
    "collapsed": true
   },
   "outputs": [],
   "source": [
    "def running_mean(x, N):\n",
    "    cumsum = np.cumsum(np.insert(x, 0, 0)) \n",
    "    return (cumsum[N:] - cumsum[:-N]) / N "
   ]
  },
  {
   "cell_type": "code",
   "execution_count": 13,
   "metadata": {
    "collapsed": true
   },
   "outputs": [],
   "source": [
    "#Averaging\n",
    "\n",
    "s = np.argsort(times_sent)\n",
    "\n",
    "sorted_sent_times = times_sent[s]\n",
    "sorted_beer_times = beer_timestamps[s]\n",
    "\n",
    "window_size = 11\n",
    "\n",
    "end_size = window_size // 2\n",
    "\n",
    "avg_beer_time, upper_beer_time, lower_beer_time = running_median(sorted_beer_times,\n",
    "                                                                 window_size, upper=75, lower=25)\n",
    "\n",
    "#avg_beer_time = running_mean(sorted_beer_times, window_size)\n",
    "avg_beer_datetimes = np.array(list(map(lambda t: datetime.datetime.fromtimestamp(t), avg_beer_time)))\n",
    "upper_beer_datetimes = np.array(list(map(lambda t: datetime.datetime.fromtimestamp(t), upper_beer_time)))\n",
    "lower_beer_datetimes = np.array(list(map(lambda t: datetime.datetime.fromtimestamp(t), lower_beer_time)))\n"
   ]
  },
  {
   "cell_type": "code",
   "execution_count": 11,
   "metadata": {},
   "outputs": [
    {
     "data": {
      "text/plain": [
       "array([datetime.datetime(2000, 1, 1, 16, 30, 37),\n",
       "       datetime.datetime(2000, 1, 1, 16, 31, 58, 500000)], dtype=object)"
      ]
     },
     "execution_count": 11,
     "metadata": {},
     "output_type": "execute_result"
    }
   ],
   "source": [
    "avg_beer_datetimes[0:2]"
   ]
  },
  {
   "cell_type": "code",
   "execution_count": 12,
   "metadata": {},
   "outputs": [
    {
     "data": {
      "text/plain": [
       "array([datetime.datetime(2000, 1, 1, 16, 51, 22),\n",
       "       datetime.datetime(2000, 1, 1, 16, 48, 37, 500000)], dtype=object)"
      ]
     },
     "execution_count": 12,
     "metadata": {},
     "output_type": "execute_result"
    }
   ],
   "source": [
    "avg_beer_datetimes[-2:]"
   ]
  },
  {
   "cell_type": "code",
   "execution_count": 69,
   "metadata": {},
   "outputs": [
    {
     "data": {
      "image/png": "[encoded data removed]",
      "text/plain": [
       "<matplotlib.figure.Figure at 0x116024cf8>"
      ]
     },
     "metadata": {},
     "output_type": "display_data"
    }
   ],
   "source": [
    "fig, axes = plt.subplots(1, 2, figsize=(15, 5))\n",
    "\n",
    "hours = HourLocator()\n",
    "minutes = MinuteLocator()\n",
    "hoursFmt = DateFormatter('%I')\n",
    "\n",
    "# format the ticks\n",
    "axes[0].yaxis.set_major_locator(hours)\n",
    "axes[0].yaxis.set_major_formatter(hoursFmt)\n",
    "#axis.yaxis.set_minor_locator(minutes)\n",
    "axes[0].autoscale_view()\n",
    "\n",
    "axes[0].set_xlabel('Date', fontsize=15)\n",
    "axes[0].set_ylabel('Time of Social Hour (CST)', fontsize=15)\n",
    "\n",
    "axes[0].plot(times_sent, beer_times, 'b.')\n",
    "\n",
    "axes[0].plot(sorted_sent_times[sorted_sent_times < datetime.datetime(2015, 1, 1)],\n",
    "             avg_beer_datetimes[sorted_sent_times < datetime.datetime(2015, 1, 1)], 'k-', zorder=-1)\n",
    "\n",
    "axes[0].plot(sorted_sent_times[sorted_sent_times > datetime.datetime(2015, 3, 1)],\n",
    "             avg_beer_datetimes[sorted_sent_times > datetime.datetime(2015, 3, 1)], 'k-', zorder=-1)\n",
    "\n",
    "axes[0].fill_between(sorted_sent_times, upper_beer_datetimes, lower_beer_datetimes,\n",
    "                     where=sorted_sent_times < datetime.datetime(2014, 8, 15),\n",
    "                     facecolor='gray', interpolate=True, zorder=-10, alpha=0.7)\n",
    "\n",
    "axes[0].fill_between(sorted_sent_times, upper_beer_datetimes, lower_beer_datetimes,\n",
    "                     where=sorted_sent_times > datetime.datetime(2015, 3, 1),\n",
    "                     facecolor='gray', interpolate=True, zorder=-10, alpha=0.7)\n",
    "\n",
    "\n",
    "axes[0].fmt_ydata = DateFormatter('%I:%M')\n",
    "\n",
    "axes[0].axvspan(datetime.datetime(2014, 9, 1), datetime.datetime(2015, 3, 1),\n",
    "                hatch='/', facecolor='white', edgecolor='black')\n",
    "axes[0].text(datetime.datetime(2014, 11, 1), datetime.datetime(2000, 1, 1, 17, 0),\n",
    "             'No Data', rotation=90, fontsize=12, backgroundcolor='white')\n",
    "\n",
    "# fitting\n",
    "\n",
    "X = np.array([t.timestamp() for t in sorted_sent_times])\n",
    "xrange = np.linspace(X.min(), X.max(), 100)\n",
    "X = sm.add_constant(X)\n",
    "Y = np.array([t.timestamp() for t in avg_beer_datetimes])\n",
    "\n",
    "model = sm.OLS(Y, X)\n",
    "results = model.fit()\n",
    "\n",
    "xfit = np.array([datetime.datetime.fromtimestamp(x) for x in xrange])\n",
    "yfit = np.array([datetime.datetime.fromtimestamp(y) for y in xrange*results.params[1]+results.params[0]])\n",
    "\n",
    "y1 = 2013\n",
    "y2 = 2014\n",
    "\n",
    "t1 = datetime.datetime(year=y1, month=1, day=1)\n",
    "ts1 = t1.timestamp()*results.params[1]+results.params[0]\n",
    "\n",
    "t2 = datetime.datetime(year=y2, month=1, day=1)\n",
    "ts2 = t2.timestamp()*results.params[1]+results.params[0]\n",
    "\n",
    "slope = (datetime.datetime.fromtimestamp(ts2) - datetime.datetime.fromtimestamp(ts1)).seconds/60.  # mins per year\n",
    "\n",
    "# format the ticks\n",
    "\n",
    "axes[1].yaxis.set_major_locator(HourLocator())\n",
    "axes[1].yaxis.set_major_formatter(hoursFmt)\n",
    "#axis.yaxis.set_minor_locator(minutes)\n",
    "#axis.autoscale_view()\n",
    "\n",
    "axes[1].set_xlabel('Date', fontsize=15)\n",
    "axes[1].set_ylabel('Time of Social Hour (CST)', fontsize=15)\n",
    "\n",
    "axes[1].plot(times_sent, beer_times, 'b.', label='Data')\n",
    "\n",
    "axes[1].plot(sorted_sent_times[sorted_sent_times < datetime.datetime(2015, 1, 1)],\n",
    "             avg_beer_datetimes[sorted_sent_times < datetime.datetime(2015, 1, 1)], 'k-', zorder=-1)\n",
    "\n",
    "axes[1].plot(sorted_sent_times[sorted_sent_times > datetime.datetime(2015, 3, 1)],\n",
    "             avg_beer_datetimes[sorted_sent_times > datetime.datetime(2015, 3, 1)], 'k-', zorder=-1,\n",
    "             label='Median')\n",
    "\n",
    "axes[1].fill_between(sorted_sent_times, upper_beer_datetimes, lower_beer_datetimes,\n",
    "                     where=sorted_sent_times < datetime.datetime(2014, 8, 15),\n",
    "                     facecolor='gray', interpolate=True, zorder=-10, alpha=0.7)\n",
    "\n",
    "axes[1].fill_between(sorted_sent_times, upper_beer_datetimes, lower_beer_datetimes,\n",
    "                     where=sorted_sent_times > datetime.datetime(2015, 3, 1),\n",
    "                     facecolor='gray', interpolate=True, zorder=-10, alpha=0.7,\n",
    "                     label='Interquartile Range')\n",
    "\n",
    "axes[1].fmt_ydata = DateFormatter('%I:%M')\n",
    "\n",
    "axes[1].set_ylim([datetime.datetime(2000, 1, 1, 16), datetime.datetime(2000, 1, 1, 17, 30)])\n",
    "\n",
    "\n",
    "\n",
    "axes[1].plot(xfit, yfit, linewidth=3, color='red', label='Linear fit: {:1.1f} minutes per year'.format(slope))\n",
    "\n",
    "axes[1].axvspan(datetime.datetime(2014, 9, 1), datetime.datetime(2015, 3, 1),\n",
    "                hatch='/', facecolor='white', edgecolor='black', zorder=3)\n",
    "axes[1].text(datetime.datetime(2014, 11, 1), datetime.datetime(2000, 1, 1, 16, 50),\n",
    "             'No Data', rotation=90, fontsize=12, backgroundcolor='white')\n",
    "\n",
    "\n",
    "axes[1].legend()\n",
    "\n",
    "plt.savefig('./beer_email_analysis.jpg', dpi=600)"
   ]
  },
  {
   "cell_type": "code",
   "execution_count": 14,
   "metadata": {},
   "outputs": [
    {
     "data": {
      "text/html": [
       "<table class=\"simpletable\">\n",
       "<caption>OLS Regression Results</caption>\n",
       "<tr>\n",
       "  <th>Dep. Variable:</th>            <td>y</td>        <th>  R-squared:         </th> <td>   0.665</td>\n",
       "</tr>\n",
       "<tr>\n",
       "  <th>Model:</th>                   <td>OLS</td>       <th>  Adj. R-squared:    </th> <td>   0.663</td>\n",
       "</tr>\n",
       "<tr>\n",
       "  <th>Method:</th>             <td>Least Squares</td>  <th>  F-statistic:       </th> <td>   301.5</td>\n",
       "</tr>\n",
       "<tr>\n",
       "  <th>Date:</th>             <td>Sat, 29 Apr 2017</td> <th>  Prob (F-statistic):</th> <td>6.58e-38</td>\n",
       "</tr>\n",
       "<tr>\n",
       "  <th>Time:</th>                 <td>10:38:49</td>     <th>  Log-Likelihood:    </th> <td> -1068.4</td>\n",
       "</tr>\n",
       "<tr>\n",
       "  <th>No. Observations:</th>      <td>   154</td>      <th>  AIC:               </th> <td>   2141.</td>\n",
       "</tr>\n",
       "<tr>\n",
       "  <th>Df Residuals:</th>          <td>   152</td>      <th>  BIC:               </th> <td>   2147.</td>\n",
       "</tr>\n",
       "<tr>\n",
       "  <th>Df Model:</th>              <td>     1</td>      <th>                     </th>     <td> </td>   \n",
       "</tr>\n",
       "<tr>\n",
       "  <th>Covariance Type:</th>      <td>nonrobust</td>    <th>                     </th>     <td> </td>   \n",
       "</tr>\n",
       "</table>\n",
       "<table class=\"simpletable\">\n",
       "<tr>\n",
       "    <td></td>       <th>coef</th>     <th>std err</th>      <th>t</th>      <th>P>|t|</th> <th>[95.0% Conf. Int.]</th> \n",
       "</tr>\n",
       "<tr>\n",
       "  <th>const</th> <td> 9.468e+08</td> <td>  840.207</td> <td> 1.13e+06</td> <td> 0.000</td> <td> 9.47e+08  9.47e+08</td>\n",
       "</tr>\n",
       "<tr>\n",
       "  <th>x1</th>    <td> 1.014e-05</td> <td> 5.84e-07</td> <td>   17.363</td> <td> 0.000</td> <td> 8.98e-06  1.13e-05</td>\n",
       "</tr>\n",
       "</table>\n",
       "<table class=\"simpletable\">\n",
       "<tr>\n",
       "  <th>Omnibus:</th>       <td> 9.399</td> <th>  Durbin-Watson:     </th> <td>   0.302</td>\n",
       "</tr>\n",
       "<tr>\n",
       "  <th>Prob(Omnibus):</th> <td> 0.009</td> <th>  Jarque-Bera (JB):  </th> <td>   9.856</td>\n",
       "</tr>\n",
       "<tr>\n",
       "  <th>Skew:</th>          <td> 0.620</td> <th>  Prob(JB):          </th> <td> 0.00724</td>\n",
       "</tr>\n",
       "<tr>\n",
       "  <th>Kurtosis:</th>      <td> 3.011</td> <th>  Cond. No.          </th> <td>5.98e+10</td>\n",
       "</tr>\n",
       "</table>"
      ],
      "text/plain": [
       "<class 'statsmodels.iolib.summary.Summary'>\n",
       "\"\"\"\n",
       "                            OLS Regression Results                            \n",
       "==============================================================================\n",
       "Dep. Variable:                      y   R-squared:                       0.665\n",
       "Model:                            OLS   Adj. R-squared:                  0.663\n",
       "Method:                 Least Squares   F-statistic:                     301.5\n",
       "Date:                Sat, 29 Apr 2017   Prob (F-statistic):           6.58e-38\n",
       "Time:                        10:38:49   Log-Likelihood:                -1068.4\n",
       "No. Observations:                 154   AIC:                             2141.\n",
       "Df Residuals:                     152   BIC:                             2147.\n",
       "Df Model:                           1                                         \n",
       "Covariance Type:            nonrobust                                         \n",
       "==============================================================================\n",
       "                 coef    std err          t      P>|t|      [95.0% Conf. Int.]\n",
       "------------------------------------------------------------------------------\n",
       "const       9.468e+08    840.207   1.13e+06      0.000      9.47e+08  9.47e+08\n",
       "x1          1.014e-05   5.84e-07     17.363      0.000      8.98e-06  1.13e-05\n",
       "==============================================================================\n",
       "Omnibus:                        9.399   Durbin-Watson:                   0.302\n",
       "Prob(Omnibus):                  0.009   Jarque-Bera (JB):                9.856\n",
       "Skew:                           0.620   Prob(JB):                      0.00724\n",
       "Kurtosis:                       3.011   Cond. No.                     5.98e+10\n",
       "==============================================================================\n",
       "\n",
       "Warnings:\n",
       "[1] Standard Errors assume that the covariance matrix of the errors is correctly specified.\n",
       "[2] The condition number is large, 5.98e+10. This might indicate that there are\n",
       "strong multicollinearity or other numerical problems.\n",
       "\"\"\""
      ]
     },
     "execution_count": 14,
     "metadata": {},
     "output_type": "execute_result"
    }
   ],
   "source": [
    "results.summary()"
   ]
  },
  {
   "cell_type": "code",
   "execution_count": 15,
   "metadata": {},
   "outputs": [
    {
     "name": "stdout",
     "output_type": "stream",
     "text": [
      "2017 2000-01-01 16:54:16.249951\n",
      "2027 2000-01-01 17:47:35.291488\n",
      "2037 2000-01-01 18:40:55.208994\n",
      "2047 2000-01-01 19:34:14.250530\n",
      "2057 2000-01-01 20:27:34.168036\n",
      "2067 2000-01-01 21:20:53.209572\n",
      "2077 2000-01-01 22:14:13.127079\n",
      "2087 2000-01-01 23:07:32.168615\n",
      "2097 2000-01-02 00:00:52.086121\n"
     ]
    }
   ],
   "source": [
    "for y in range(2017, 2100, 10):\n",
    "    t = datetime.datetime(year=y, month=1, day=1)\n",
    "    ts = t.timestamp()*results.params[1]+results.params[0]\n",
    "    print(y, datetime.datetime.fromtimestamp(ts))"
   ]
  },
  {
   "cell_type": "code",
   "execution_count": 47,
   "metadata": {},
   "outputs": [
    {
     "data": {
      "text/plain": [
       "<statsmodels.regression.linear_model.RegressionResultsWrapper at 0x1088b98d0>"
      ]
     },
     "execution_count": 47,
     "metadata": {},
     "output_type": "execute_result"
    }
   ],
   "source": []
  },
  {
   "cell_type": "code",
   "execution_count": 37,
   "metadata": {
    "collapsed": true
   },
   "outputs": [],
   "source": []
  },
  {
   "cell_type": "code",
   "execution_count": 74,
   "metadata": {
    "collapsed": true
   },
   "outputs": [],
   "source": [
    "yearly_cycle = np.zeros_like(times_sent)\n",
    "beer_offsets = np.zeros_like(times_sent)\n",
    "beer_norm_times = np.zeros_like(times_sent)\n",
    "for i, (beer_time, time_sent) in enumerate(zip(beer_times, times_sent)):\n",
    "    pred = time_sent.timestamp()*results.params[1]+results.params[0]\n",
    "    offset = beer_time - datetime.datetime.fromtimestamp(pred)\n",
    "    beer_offsets[i] = offset\n",
    "    yearly_cycle[i] = time_sent.replace(year=2000)\n",
    "    beer_norm_times[i] = beer_time + offset"
   ]
  },
  {
   "cell_type": "code",
   "execution_count": 155,
   "metadata": {},
   "outputs": [
    {
     "data": {
      "image/png": "[encoded data removed]",
      "text/plain": [
       "<matplotlib.figure.Figure at 0x116f8fb38>"
      ]
     },
     "metadata": {},
     "output_type": "display_data"
    }
   ],
   "source": [
    "fig, axis = plt.subplots(1, figsize=(7.5, 5))\n",
    "\n",
    "hours = HourLocator()\n",
    "minutes = MinuteLocator()\n",
    "hoursFmt = DateFormatter('%I')\n",
    "\n",
    "# format the ticks\n",
    "axis.yaxis.set_major_locator(hours)\n",
    "axis.yaxis.set_major_formatter(hoursFmt)\n",
    "#axis.yaxis.set_minor_locator(minutes)\n",
    "axis.autoscale_view()\n",
    "\n",
    "#axis.set_xlabel('Date', fontsize=15)\n",
    "axis.set_ylabel('Time of Social Hour (CST)', fontsize=15)\n",
    "\n",
    "axis.plot(yearly_cycle, beer_times, 'b.')\n",
    "\n",
    "axis.set_ylim([datetime.datetime(2000, 1, 1, 16), datetime.datetime(2000, 1, 1, 18)])\n",
    "\n",
    "axis.xaxis.set_major_formatter(DateFormatter('%B'))\n",
    "axis.set_title('Monthly Pattern')\n",
    "fig.savefig('monthly_beer_pattern.jpg', dpi=300)"
   ]
  },
  {
   "cell_type": "code",
   "execution_count": 150,
   "metadata": {},
   "outputs": [
    {
     "name": "stderr",
     "output_type": "stream",
     "text": [
      "/usr/local/lib/python3.5/site-packages/scipy/stats/stats.py:250: RuntimeWarning: The input array could not be properly checked for nan values. nan values will be ignored.\n",
      "  \"values. nan values will be ignored.\", RuntimeWarning)\n"
     ]
    },
    {
     "data": {
      "text/plain": [
       "SpearmanrResult(correlation=0.13182613867569742, pvalue=0.1031625173948847)"
      ]
     },
     "execution_count": 150,
     "metadata": {},
     "output_type": "execute_result"
    }
   ],
   "source": [
    "stats.spearmanr(yearly_cycle, beer_times)"
   ]
  },
  {
   "cell_type": "code",
   "execution_count": 132,
   "metadata": {
    "collapsed": true
   },
   "outputs": [],
   "source": [
    "max_temps = np.zeros_like(times_sent)\n",
    "for i, time_sent in enumerate(times_sent):\n",
    "    date = \"{:d}{:02d}{:02d}\".format(time_sent.year, time_sent.month, time_sent.day)\n",
    "    hist_weather_data = get_historical_weather('WI', 'Madison', date, wunderground_api_key)\n",
    "    max_temp = hist_weather_data['history']['dailysummary'][0]['maxtempi']\n",
    "    max_temps[i] = max_temp"
   ]
  },
  {
   "cell_type": "code",
   "execution_count": 156,
   "metadata": {},
   "outputs": [
    {
     "data": {
      "image/png": "[encoded data removed]",
      "text/plain": [
       "<matplotlib.figure.Figure at 0x116f8fcf8>"
      ]
     },
     "metadata": {},
     "output_type": "display_data"
    }
   ],
   "source": [
    "fig, axis = plt.subplots(1, figsize=(7.5, 5))\n",
    "\n",
    "hours = HourLocator()\n",
    "minutes = MinuteLocator()\n",
    "hoursFmt = DateFormatter('%I')\n",
    "\n",
    "# format the ticks\n",
    "axis.yaxis.set_major_locator(hours)\n",
    "axis.yaxis.set_major_formatter(hoursFmt)\n",
    "#axis.yaxis.set_minor_locator(minutes)\n",
    "axis.autoscale_view()\n",
    "\n",
    "axis.set_xlabel('Daily High Temperature (F)', fontsize=15)\n",
    "axis.set_ylabel('Time of Social Hour (CST)', fontsize=15)\n",
    "\n",
    "axis.plot(max_temps, beer_times, 'b.')\n",
    "axis.set_ylim([datetime.datetime(2000, 1, 1, 16), datetime.datetime(2000, 1, 1, 18)])\n",
    "fig.savefig('temperature_beer.jpg', dpi=300)\n"
   ]
  },
  {
   "cell_type": "code",
   "execution_count": 151,
   "metadata": {},
   "outputs": [
    {
     "name": "stderr",
     "output_type": "stream",
     "text": [
      "/usr/local/lib/python3.5/site-packages/scipy/stats/stats.py:250: RuntimeWarning: The input array could not be properly checked for nan values. nan values will be ignored.\n",
      "  \"values. nan values will be ignored.\", RuntimeWarning)\n"
     ]
    },
    {
     "data": {
      "text/plain": [
       "SpearmanrResult(correlation=-0.087406252241794324, pvalue=0.28107381778942692)"
      ]
     },
     "execution_count": 151,
     "metadata": {},
     "output_type": "execute_result"
    }
   ],
   "source": [
    "stats.spearmanr(max_temps, beer_times)"
   ]
  }
 ],
 "metadata": {
  "kernelspec": {
   "display_name": "Python 3",
   "language": "python",
   "name": "python3"
  },
  "language_info": {
   "codemirror_mode": {
    "name": "ipython",
    "version": 3
   },
   "file_extension": ".py",
   "mimetype": "text/x-python",
   "name": "python",
   "nbconvert_exporter": "python",
   "pygments_lexer": "ipython3",
   "version": "3.5.1"
  }
 },
 "nbformat": 4,
 "nbformat_minor": 1
}
