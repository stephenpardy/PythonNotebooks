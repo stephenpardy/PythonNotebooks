{
 "cells": [
  {
   "cell_type": "code",
   "execution_count": 16,
   "metadata": {
    "collapsed": true
   },
   "outputs": [],
   "source": [
    "import numpy as np\n",
    "import matplotlib.pyplot as plt\n",
    "from scipy import stats\n",
    "from collections import defaultdict\n",
    "\n",
    "%matplotlib inline"
   ]
  },
  {
   "cell_type": "code",
   "execution_count": 43,
   "metadata": {
    "collapsed": true
   },
   "outputs": [],
   "source": [
    "def keymax(d):\n",
    "    return max(d.items(), key=lambda x: x[1])[0]"
   ]
  },
  {
   "cell_type": "code",
   "execution_count": 84,
   "metadata": {},
   "outputs": [],
   "source": [
    "NRounds = 5\n",
    "total_coffee = defaultdict(float)\n",
    "coffee_range = np.arange(0, 1, 0.001)\n",
    "coffee_indices = np.arange(len(coffee_range), dtype=int)\n",
    "for _ in range(NRounds):\n",
    "    NTrips = 10000\n",
    "    for trip in range(NTrips):\n",
    "        _draw = np.random.permutation(coffee_indices)\n",
    "        pot_size = 1\n",
    "        poured = 0\n",
    "        for ind in _draw:\n",
    "            take = coffee_range[ind]\n",
    "            if take + poured > pot_size:\n",
    "                poured = pot_size\n",
    "                pot_size += 1\n",
    "            else:\n",
    "                total_coffee[ind] += take\n",
    "                poured += take\n",
    "\n",
    "    best_choice = coffee_range[keymax(total_coffee)]  # find the best one from last run\n",
    "    # add many more of this choice\n",
    "    coffee_range = np.append(coffee_range, [best_choice]*100)\n",
    "    coffee_indices = np.append(coffee_indices, np.arange(coffee_indices.max(),\n",
    "                                                         coffee_indices.max()+100,\n",
    "                                                         dtype=int))\n",
    "    "
   ]
  },
  {
   "cell_type": "code",
   "execution_count": 85,
   "metadata": {},
   "outputs": [
    {
     "name": "stdout",
     "output_type": "stream",
     "text": [
      "999\n",
      "0.999\n"
     ]
    }
   ],
   "source": [
    "print(keymax(total_coffee))\n",
    "print(coffee_range[keymax(total_coffee)])"
   ]
  },
  {
   "cell_type": "code",
   "execution_count": 83,
   "metadata": {},
   "outputs": [
    {
     "data": {
      "text/plain": [
       "36432.531000006376"
      ]
     },
     "execution_count": 83,
     "metadata": {},
     "output_type": "execute_result"
    }
   ],
   "source": [
    "total_coffee[999]"
   ]
  },
  {
   "cell_type": "code",
   "execution_count": 80,
   "metadata": {},
   "outputs": [
    {
     "data": {
      "text/plain": [
       "[<matplotlib.lines.Line2D at 0x112822c18>]"
      ]
     },
     "execution_count": 80,
     "metadata": {},
     "output_type": "execute_result"
    },
    {
     "data": {
      "image/png": "[encoded data removed]",
      "text/plain": [
       "<matplotlib.figure.Figure at 0x11276aa58>"
      ]
     },
     "metadata": {},
     "output_type": "display_data"
    }
   ],
   "source": [
    "plt.plot(coffee_range[list(total_coffee.keys())],\n",
    "         list(total_coffee.values()), 'k.', alpha=0.1)"
   ]
  },
  {
   "cell_type": "code",
   "execution_count": 91,
   "metadata": {
    "collapsed": true
   },
   "outputs": [],
   "source": [
    "NRounds = 5\n",
    "coffee_trips = defaultdict(list)\n",
    "coffee_range = np.arange(0, 1, 0.001)\n",
    "coffee_indices = np.arange(len(coffee_range), dtype=int)\n",
    "for _ in range(NRounds):\n",
    "    NTrips = 10000\n",
    "    for trip in range(NTrips):\n",
    "        _draw = np.random.permutation(coffee_indices)\n",
    "        pot_size = 1\n",
    "        poured = 0\n",
    "        for ind in _draw:\n",
    "            take = coffee_range[ind]\n",
    "            if take + poured > pot_size:\n",
    "                poured = pot_size\n",
    "                pot_size += 1\n",
    "                coffee_trips[ind].append(0)\n",
    "            else:\n",
    "                coffee_trips[ind].append(take)\n",
    "                poured += take\n",
    "\n",
    "    best_choice = max([(k, np.mean(c)) for k, c in coffee_trips.items()], key=lambda x: x[1])\n",
    "    best_choice = coffee_range[best_choice[0]]\n",
    "    #best_choice = coffee_range[keymax(total_coffee)]  # find the best one from last run\n",
    "    # add many more of this choice\n",
    "    coffee_range = np.append(coffee_range, [best_choice]*100)\n",
    "    coffee_indices = np.append(coffee_indices, np.arange(coffee_indices.max(),\n",
    "                                                         coffee_indices.max()+100,\n",
    "                                                         dtype=int))\n",
    "    "
   ]
  },
  {
   "cell_type": "code",
   "execution_count": 92,
   "metadata": {},
   "outputs": [
    {
     "data": {
      "text/plain": [
       "(1312, 0.42893550000000003)"
      ]
     },
     "execution_count": 92,
     "metadata": {},
     "output_type": "execute_result"
    }
   ],
   "source": [
    "max([(k, np.mean(c)) for k, c in coffee_trips.items()], key=lambda x: x[1])"
   ]
  },
  {
   "cell_type": "code",
   "execution_count": 93,
   "metadata": {},
   "outputs": [
    {
     "data": {
      "text/plain": [
       "0.94500000000000006"
      ]
     },
     "execution_count": 93,
     "metadata": {},
     "output_type": "execute_result"
    }
   ],
   "source": [
    "coffee_range[1312]"
   ]
  },
  {
   "cell_type": "code",
   "execution_count": null,
   "metadata": {
    "collapsed": true
   },
   "outputs": [],
   "source": []
  }
 ],
 "metadata": {
  "kernelspec": {
   "display_name": "Python 3",
   "language": "python",
   "name": "python3"
  },
  "language_info": {
   "codemirror_mode": {
    "name": "ipython",
    "version": 3
   },
   "file_extension": ".py",
   "mimetype": "text/x-python",
   "name": "python",
   "nbconvert_exporter": "python",
   "pygments_lexer": "ipython3",
   "version": "3.5.1"
  }
 },
 "nbformat": 4,
 "nbformat_minor": 2
}
