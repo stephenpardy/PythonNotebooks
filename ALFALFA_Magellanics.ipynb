{
 "cells": [
  {
   "cell_type": "code",
   "execution_count": 20,
   "metadata": {
    "collapsed": true
   },
   "outputs": [],
   "source": [
    "import astroquery\n",
    "\n",
    "import sympy\n",
    "from sympy import Symbol, nsolve, solve\n",
    "\n",
    "from astropy.coordinates import Angle\n",
    "from astropy.coordinates import match_coordinates_sky\n",
    "from astropy import units as u\n",
    "from astropy.coordinates import SkyCoord\n",
    "\n",
    "import numpy as np\n",
    "import pandas as pd\n",
    "from astroquery.ned import Ned\n",
    "from bs4 import BeautifulSoup\n",
    "\n",
    "import requests\n",
    "\n",
    "import matplotlib.pyplot as plt\n",
    "\n",
    "%matplotlib inline"
   ]
  },
  {
   "cell_type": "markdown",
   "metadata": {},
   "source": [
    "## Download data"
   ]
  },
  {
   "cell_type": "code",
   "execution_count": 112,
   "metadata": {
    "collapsed": true
   },
   "outputs": [],
   "source": [
    "Im_url = 'https://ned.ipac.caltech.edu/cgi-bin/OBJatt?delimiter=bar&nondb=row_count&crosid=objname&position=ra%2Cdec&enotes=objnote&position=pretype&position=z&position=zflag&attdat_CON=M&attdat_CON=S&attdat=attned&M=1149&page={:d}'\n",
    "Sdm_url = 'https://ned.ipac.caltech.edu/cgi-bin/OBJatt?delimiter=bar&nondb=row_count&crosid=objname&position=ra%2Cdec&enotes=objnote&position=pretype&position=z&position=zflag&attdat_CON=M&attdat_CON=S&attdat=attned&M=2368&page={:d}'\n",
    "Sm_url = 'https://ned.ipac.caltech.edu/cgi-bin/OBJatt?delimiter=bar&nondb=row_count&crosid=objname&position=ra%2Cdec&enotes=objnote&position=pretype&position=z&position=zflag&attdat_CON=M&attdat_CON=S&attdat=attned&M=2374&page={:d}'"
   ]
  },
  {
   "cell_type": "code",
   "execution_count": 113,
   "metadata": {
    "collapsed": true
   },
   "outputs": [],
   "source": [
    "info = {'Im': {'url': Im_url, 'pages': 12}, 'Sdm': {'url': Sdm_url, 'pages': 11}, 'Sm': {'url': Sm_url, 'pages': 9}}"
   ]
  },
  {
   "cell_type": "code",
   "execution_count": 121,
   "metadata": {
    "collapsed": true
   },
   "outputs": [],
   "source": [
    "for type_name in info.keys():\n",
    "    type_info = info[type_name]\n",
    "    pages = []\n",
    "    for pagenum in range(1, type_info['pages']+1):\n",
    "        r = requests.get(type_info['url'].format(pagenum))\n",
    "        content = r.content\n",
    "        soup = BeautifulSoup(content, 'lxml')\n",
    "        # now grab the first link\n",
    "        first_link = soup.find('pre').find('a')\n",
    "        text = '1  '\n",
    "        rows = []\n",
    "        row = []\n",
    "        # and all the rows\n",
    "        for element in first_link.next_elements:\n",
    "            if (element.name == 'a' and\n",
    "                element.attrs['href'].startswith('/cgi-bin/objsearch?') and\n",
    "                element.text != text):\n",
    "                rows.append(row)\n",
    "                row = []\n",
    "                text = element.text\n",
    "            elif element.name == 'h4':\n",
    "                break  # break when we see the h4 tag that appears after the table\n",
    "            else:\n",
    "                row.append(element)\n",
    "        else:  # no break\n",
    "            raise RunTimeError\n",
    "\n",
    "        rows.append(row)  # append last row\n",
    "\n",
    "        pages.append(rows)  # and add this table to our pages list\n",
    "        type_info['pages'] = pages"
   ]
  },
  {
   "cell_type": "code",
   "execution_count": 193,
   "metadata": {
    "collapsed": true
   },
   "outputs": [],
   "source": [
    "names = []\n",
    "ras = []\n",
    "decs = []\n",
    "obj_types = []\n",
    "redshifts = []\n",
    "hrefs = []\n",
    "gal_types = []\n",
    "\n",
    "for page in pages:\n",
    "    for col in page:\n",
    "        if len(col) < 3:\n",
    "            continue\n",
    "        if col[2].name == 'span':\n",
    "            col_num = col[0]\n",
    "            details = col[6]\n",
    "            link = col[7]\n",
    "            _, name, ra, dec, obj_type, redshift, _, _ = details.split('|')\n",
    "        else:\n",
    "            col_num, details, link = col[:3]\n",
    "            _, _, name, ra, dec, obj_type, redshift, _, _ = details.split('|')\n",
    "        \n",
    "        href = link.attrs['href']\n",
    "        gal_type = link.text\n",
    "        \n",
    "        names.append(name)\n",
    "        ras.append(Angle(ra))\n",
    "        decs.append(Angle(dec))\n",
    "        obj_types.append(obj_type)\n",
    "        redshifts.append(redshift)\n",
    "        hrefs.append(href)\n",
    "        gal_types.append(gal_type)\n",
    "\n",
    "ned_data = pd.DataFrame({'name': names, 'ra': ras, 'dec': decs, 'obj_type': obj_types,\n",
    "                         'redshift': redshifts, 'href': hrefs, 'gal_type': gal_types})"
   ]
  },
  {
   "cell_type": "code",
   "execution_count": 275,
   "metadata": {
    "collapsed": true
   },
   "outputs": [],
   "source": [
    "ned_data.to_csv('/Users/spardy/Research/data/ned_magellanics.csv')"
   ]
  },
  {
   "cell_type": "markdown",
   "metadata": {},
   "source": [
    "## Reload from disk"
   ]
  },
  {
   "cell_type": "code",
   "execution_count": 2,
   "metadata": {
    "collapsed": true
   },
   "outputs": [],
   "source": [
    "ned_data = pd.read_csv('/Users/spardy/Research/data/ned_magellanics.csv')"
   ]
  },
  {
   "cell_type": "code",
   "execution_count": 3,
   "metadata": {
    "collapsed": true
   },
   "outputs": [],
   "source": [
    "alfalfa_df = pd.read_csv('/Users/spardy/Research/data/a70_160624.csv')"
   ]
  },
  {
   "cell_type": "markdown",
   "metadata": {},
   "source": [
    "## Analysis"
   ]
  },
  {
   "cell_type": "code",
   "execution_count": 4,
   "metadata": {
    "collapsed": true
   },
   "outputs": [],
   "source": [
    "ned_c = SkyCoord(ned_data['ra'], ned_data['dec'])\n",
    "alfalfa_c = SkyCoord(alfalfa_df['OCra']*u.degree, alfalfa_df['OCdec']*u.degree)"
   ]
  },
  {
   "cell_type": "code",
   "execution_count": 5,
   "metadata": {
    "collapsed": true
   },
   "outputs": [],
   "source": [
    "idx, d2d, d3d = alfalfa_c.match_to_catalog_sky(ned_c)\n",
    "alfalfa_matches, = np.where(d2d < Angle('2 arcsec'))\n",
    "ned_matches = idx[alfalfa_matches]"
   ]
  },
  {
   "cell_type": "code",
   "execution_count": 6,
   "metadata": {},
   "outputs": [
    {
     "data": {
      "text/plain": [
       "58"
      ]
     },
     "execution_count": 6,
     "metadata": {},
     "output_type": "execute_result"
    }
   ],
   "source": [
    "len(ned_matches)"
   ]
  },
  {
   "cell_type": "code",
   "execution_count": 7,
   "metadata": {},
   "outputs": [
    {
     "data": {
      "text/plain": [
       "<matplotlib.collections.PathCollection at 0x11caed6a0>"
      ]
     },
     "execution_count": 7,
     "metadata": {},
     "output_type": "execute_result"
    },
    {
     "data": {
      "image/png": "[encoded data removed]",
      "text/plain": [
       "<matplotlib.figure.Figure at 0x11cf49668>"
      ]
     },
     "metadata": {},
     "output_type": "display_data"
    }
   ],
   "source": [
    "fig = plt.figure(figsize=(8,6))\n",
    "ax = fig.add_subplot(111, projection=\"mollweide\")\n",
    "ax.scatter(ned_c[ned_matches].ra.wrap_at(180*u.degree).radian,\n",
    "           ned_c[ned_matches].dec.radian)\n"
   ]
  },
  {
   "cell_type": "code",
   "execution_count": 8,
   "metadata": {},
   "outputs": [
    {
     "data": {
      "text/plain": [
       "(array([ 49.,   6.,   0.,   1.,   0.,   0.,   1.,   0.,   0.,   1.]),\n",
       " array([  1.1  ,   8.467,  15.834,  23.201,  30.568,  37.935,  45.302,\n",
       "         52.669,  60.036,  67.403,  74.77 ]),\n",
       " <a list of 10 Patch objects>)"
      ]
     },
     "execution_count": 8,
     "metadata": {},
     "output_type": "execute_result"
    },
    {
     "data": {
      "image/png": "[encoded data removed]",
      "text/plain": [
       "<matplotlib.figure.Figure at 0x11cf2be10>"
      ]
     },
     "metadata": {},
     "output_type": "display_data"
    }
   ],
   "source": [
    "plt.hist(alfalfa_df.loc[alfalfa_matches, 'flux'])"
   ]
  },
  {
   "cell_type": "code",
   "execution_count": 11,
   "metadata": {},
   "outputs": [],
   "source": [
    "top_ten = alfalfa_df.loc[alfalfa_matches].sort_values(by='flux')[-10:]"
   ]
  },
  {
   "cell_type": "code",
   "execution_count": 12,
   "metadata": {},
   "outputs": [
    {
     "data": {
      "text/html": [
       "<div>\n",
       "<style>\n",
       "    .dataframe thead tr:only-child th {\n",
       "        text-align: right;\n",
       "    }\n",
       "\n",
       "    .dataframe thead th {\n",
       "        text-align: left;\n",
       "    }\n",
       "\n",
       "    .dataframe tbody tr th {\n",
       "        vertical-align: top;\n",
       "    }\n",
       "</style>\n",
       "<table border=\"1\" class=\"dataframe\">\n",
       "  <thead>\n",
       "    <tr style=\"text-align: right;\">\n",
       "      <th></th>\n",
       "      <th>AGCNr</th>\n",
       "      <th>Name</th>\n",
       "      <th>HIra</th>\n",
       "      <th>HIdec</th>\n",
       "      <th>OCra</th>\n",
       "      <th>OCdec</th>\n",
       "      <th>v21</th>\n",
       "      <th>w50</th>\n",
       "      <th>werr</th>\n",
       "      <th>flux</th>\n",
       "      <th>fluxerr</th>\n",
       "      <th>snratio</th>\n",
       "      <th>rms</th>\n",
       "      <th>dist</th>\n",
       "      <th>loghimass</th>\n",
       "      <th>detcode</th>\n",
       "    </tr>\n",
       "  </thead>\n",
       "  <tbody>\n",
       "    <tr>\n",
       "      <th>7374</th>\n",
       "      <td>4254</td>\n",
       "      <td>003-015</td>\n",
       "      <td>122.350418</td>\n",
       "      <td>0.611667</td>\n",
       "      <td>122.350418</td>\n",
       "      <td>0.609444</td>\n",
       "      <td>1803</td>\n",
       "      <td>156</td>\n",
       "      <td>2</td>\n",
       "      <td>7.55</td>\n",
       "      <td>0.10</td>\n",
       "      <td>44.8</td>\n",
       "      <td>3.01</td>\n",
       "      <td>28.2</td>\n",
       "      <td>9.15</td>\n",
       "      <td>1</td>\n",
       "    </tr>\n",
       "    <tr>\n",
       "      <th>22180</th>\n",
       "      <td>9500</td>\n",
       "      <td>DDO196</td>\n",
       "      <td>221.339584</td>\n",
       "      <td>7.864722</td>\n",
       "      <td>221.339157</td>\n",
       "      <td>7.862500</td>\n",
       "      <td>1690</td>\n",
       "      <td>24</td>\n",
       "      <td>2</td>\n",
       "      <td>9.09</td>\n",
       "      <td>0.06</td>\n",
       "      <td>143.9</td>\n",
       "      <td>2.73</td>\n",
       "      <td>27.6</td>\n",
       "      <td>9.21</td>\n",
       "      <td>1</td>\n",
       "    </tr>\n",
       "    <tr>\n",
       "      <th>11810</th>\n",
       "      <td>5774</td>\n",
       "      <td>N3306</td>\n",
       "      <td>159.292084</td>\n",
       "      <td>12.655833</td>\n",
       "      <td>159.292923</td>\n",
       "      <td>12.652222</td>\n",
       "      <td>2889</td>\n",
       "      <td>265</td>\n",
       "      <td>3</td>\n",
       "      <td>11.27</td>\n",
       "      <td>0.09</td>\n",
       "      <td>66.0</td>\n",
       "      <td>2.34</td>\n",
       "      <td>46.6</td>\n",
       "      <td>9.76</td>\n",
       "      <td>1</td>\n",
       "    </tr>\n",
       "    <tr>\n",
       "      <th>4593</th>\n",
       "      <td>1073</td>\n",
       "      <td>481-008</td>\n",
       "      <td>22.531666</td>\n",
       "      <td>25.866667</td>\n",
       "      <td>22.531250</td>\n",
       "      <td>25.863335</td>\n",
       "      <td>3674</td>\n",
       "      <td>153</td>\n",
       "      <td>2</td>\n",
       "      <td>11.46</td>\n",
       "      <td>0.08</td>\n",
       "      <td>82.1</td>\n",
       "      <td>2.52</td>\n",
       "      <td>50.1</td>\n",
       "      <td>9.83</td>\n",
       "      <td>1</td>\n",
       "    </tr>\n",
       "    <tr>\n",
       "      <th>4822</th>\n",
       "      <td>1230</td>\n",
       "      <td>M+405005</td>\n",
       "      <td>26.386251</td>\n",
       "      <td>25.521389</td>\n",
       "      <td>26.385416</td>\n",
       "      <td>25.520834</td>\n",
       "      <td>3837</td>\n",
       "      <td>88</td>\n",
       "      <td>2</td>\n",
       "      <td>13.93</td>\n",
       "      <td>0.06</td>\n",
       "      <td>145.4</td>\n",
       "      <td>2.27</td>\n",
       "      <td>52.2</td>\n",
       "      <td>9.95</td>\n",
       "      <td>1</td>\n",
       "    </tr>\n",
       "    <tr>\n",
       "      <th>3994</th>\n",
       "      <td>634</td>\n",
       "      <td>410-023</td>\n",
       "      <td>15.353333</td>\n",
       "      <td>7.629722</td>\n",
       "      <td>15.354583</td>\n",
       "      <td>7.625834</td>\n",
       "      <td>2212</td>\n",
       "      <td>138</td>\n",
       "      <td>2</td>\n",
       "      <td>14.56</td>\n",
       "      <td>0.07</td>\n",
       "      <td>117.0</td>\n",
       "      <td>2.36</td>\n",
       "      <td>26.3</td>\n",
       "      <td>9.38</td>\n",
       "      <td>1</td>\n",
       "    </tr>\n",
       "    <tr>\n",
       "      <th>757</th>\n",
       "      <td>12212</td>\n",
       "      <td>M+553019</td>\n",
       "      <td>342.627930</td>\n",
       "      <td>29.136667</td>\n",
       "      <td>342.625824</td>\n",
       "      <td>29.138332</td>\n",
       "      <td>894</td>\n",
       "      <td>99</td>\n",
       "      <td>2</td>\n",
       "      <td>15.60</td>\n",
       "      <td>0.07</td>\n",
       "      <td>140.2</td>\n",
       "      <td>2.48</td>\n",
       "      <td>14.5</td>\n",
       "      <td>8.89</td>\n",
       "      <td>1</td>\n",
       "    </tr>\n",
       "    <tr>\n",
       "      <th>17</th>\n",
       "      <td>11820</td>\n",
       "      <td>M+255015</td>\n",
       "      <td>327.373352</td>\n",
       "      <td>14.227221</td>\n",
       "      <td>327.368774</td>\n",
       "      <td>14.230833</td>\n",
       "      <td>1104</td>\n",
       "      <td>116</td>\n",
       "      <td>2</td>\n",
       "      <td>25.90</td>\n",
       "      <td>0.08</td>\n",
       "      <td>215.4</td>\n",
       "      <td>2.49</td>\n",
       "      <td>18.2</td>\n",
       "      <td>9.31</td>\n",
       "      <td>1</td>\n",
       "    </tr>\n",
       "    <tr>\n",
       "      <th>6163</th>\n",
       "      <td>2302</td>\n",
       "      <td>389-024</td>\n",
       "      <td>42.281666</td>\n",
       "      <td>2.129722</td>\n",
       "      <td>42.286247</td>\n",
       "      <td>2.126944</td>\n",
       "      <td>1104</td>\n",
       "      <td>52</td>\n",
       "      <td>2</td>\n",
       "      <td>50.86</td>\n",
       "      <td>0.08</td>\n",
       "      <td>501.4</td>\n",
       "      <td>3.10</td>\n",
       "      <td>14.8</td>\n",
       "      <td>9.42</td>\n",
       "      <td>1</td>\n",
       "    </tr>\n",
       "    <tr>\n",
       "      <th>2183</th>\n",
       "      <td>12732</td>\n",
       "      <td>476-106</td>\n",
       "      <td>355.167908</td>\n",
       "      <td>26.230556</td>\n",
       "      <td>355.165802</td>\n",
       "      <td>26.236111</td>\n",
       "      <td>747</td>\n",
       "      <td>118</td>\n",
       "      <td>2</td>\n",
       "      <td>74.77</td>\n",
       "      <td>0.10</td>\n",
       "      <td>493.7</td>\n",
       "      <td>3.11</td>\n",
       "      <td>11.6</td>\n",
       "      <td>9.38</td>\n",
       "      <td>1</td>\n",
       "    </tr>\n",
       "  </tbody>\n",
       "</table>\n",
       "</div>"
      ],
      "text/plain": [
       "       AGCNr      Name        HIra      HIdec        OCra      OCdec   v21  \\\n",
       "7374    4254  003-015   122.350418   0.611667  122.350418   0.609444  1803   \n",
       "22180   9500  DDO196    221.339584   7.864722  221.339157   7.862500  1690   \n",
       "11810   5774  N3306     159.292084  12.655833  159.292923  12.652222  2889   \n",
       "4593    1073  481-008    22.531666  25.866667   22.531250  25.863335  3674   \n",
       "4822    1230  M+405005   26.386251  25.521389   26.385416  25.520834  3837   \n",
       "3994     634  410-023    15.353333   7.629722   15.354583   7.625834  2212   \n",
       "757    12212  M+553019  342.627930  29.136667  342.625824  29.138332   894   \n",
       "17     11820  M+255015  327.373352  14.227221  327.368774  14.230833  1104   \n",
       "6163    2302  389-024    42.281666   2.129722   42.286247   2.126944  1104   \n",
       "2183   12732  476-106   355.167908  26.230556  355.165802  26.236111   747   \n",
       "\n",
       "       w50  werr   flux  fluxerr  snratio   rms  dist  loghimass  detcode  \n",
       "7374   156     2   7.55     0.10     44.8  3.01  28.2       9.15        1  \n",
       "22180   24     2   9.09     0.06    143.9  2.73  27.6       9.21        1  \n",
       "11810  265     3  11.27     0.09     66.0  2.34  46.6       9.76        1  \n",
       "4593   153     2  11.46     0.08     82.1  2.52  50.1       9.83        1  \n",
       "4822    88     2  13.93     0.06    145.4  2.27  52.2       9.95        1  \n",
       "3994   138     2  14.56     0.07    117.0  2.36  26.3       9.38        1  \n",
       "757     99     2  15.60     0.07    140.2  2.48  14.5       8.89        1  \n",
       "17     116     2  25.90     0.08    215.4  2.49  18.2       9.31        1  \n",
       "6163    52     2  50.86     0.08    501.4  3.10  14.8       9.42        1  \n",
       "2183   118     2  74.77     0.10    493.7  3.11  11.6       9.38        1  "
      ]
     },
     "execution_count": 12,
     "metadata": {},
     "output_type": "execute_result"
    }
   ],
   "source": [
    "top_ten"
   ]
  },
  {
   "cell_type": "markdown",
   "metadata": {},
   "source": [
    "## VLA Sensitivity"
   ]
  },
  {
   "cell_type": "markdown",
   "metadata": {},
   "source": [
    "![sensitivity calc](sensitivity_calc.png)"
   ]
  },
  {
   "cell_type": "markdown",
   "metadata": {},
   "source": [
    "## HI abundance matching and SHMF"
   ]
  },
  {
   "cell_type": "code",
   "execution_count": 52,
   "metadata": {
    "collapsed": true
   },
   "outputs": [],
   "source": [
    "nchans = 10\n",
    "deltaV = 6.6\n",
    "channel_flux = 8e-6  # just above confusion level\n",
    "SdelV = channel_flux*nchans*deltaV"
   ]
  },
  {
   "cell_type": "code",
   "execution_count": 59,
   "metadata": {
    "collapsed": true
   },
   "outputs": [],
   "source": [
    "# more conservative\n",
    "nchans = 6  # full width ~ 36 km/s\n",
    "deltaV = 6.6\n",
    "channel_flux = 4e-5  # 5 times confusion level\n",
    "SdelV = channel_flux*nchans*deltaV"
   ]
  },
  {
   "cell_type": "code",
   "execution_count": 60,
   "metadata": {
    "collapsed": true
   },
   "outputs": [],
   "source": [
    "# parameters from https://arxiv.org/abs/1608.00007\n",
    "M10 = 4.58*10**11\n",
    "N10 = 9.89*10**-3\n",
    "b10 = 0.9\n",
    "y10 = 0.74"
   ]
  },
  {
   "cell_type": "code",
   "execution_count": 61,
   "metadata": {
    "collapsed": true
   },
   "outputs": [],
   "source": [
    "# parameters from Dooley+2016 and Dooley+2017 -- using Brook model (http://adsabs.harvard.edu/abs/2014ApJ...784L..14B)\n",
    "alpha = 1.88\n",
    "K0 = 0.00282"
   ]
  },
  {
   "cell_type": "code",
   "execution_count": 65,
   "metadata": {},
   "outputs": [
    {
     "name": "stdout",
     "output_type": "stream",
     "text": [
      "Min MHI: 2.973e+05, min subhalo mass: 6.243e+7, central MHI: 1.413e+09, central halo mass: 9.228e+10, 40.8 subhalos\n",
      "Min MHI: 2.848e+05, min subhalo mass: 6.016e+7, central MHI: 1.622e+09, central halo mass: 1.039e+11, 47.4 subhalos\n",
      "Min MHI: 8.118e+05, min subhalo mass: 1.484e+8, central MHI: 5.754e+09, central halo mass: 3.097e+11, 63.9 subhalos\n",
      "Min MHI: 9.383e+05, min subhalo mass: 1.682e+8, central MHI: 6.761e+09, central halo mass: 3.559e+11, 65.8 subhalos\n",
      "Min MHI: 1.019e+06, min subhalo mass: 1.805e+8, central MHI: 8.913e+09, central halo mass: 4.516e+11, 78.4 subhalos\n",
      "Min MHI: 2.586e+05, min subhalo mass: 5.536e+7, central MHI: 2.399e+09, central halo mass: 1.457e+11, 71.6 subhalos\n",
      "Min MHI: 7.860e+04, min subhalo mass: 1.983e+7, central MHI: 7.762e+08, central halo mass: 5.508e+10, 66.8 subhalos\n",
      "Min MHI: 1.238e+05, min subhalo mass: 2.934e+7, central MHI: 2.042e+09, central halo mass: 1.268e+11, 108.9 subhalos\n",
      "Min MHI: 8.188e+04, min subhalo mass: 2.054e+7, central MHI: 2.630e+09, central halo mass: 1.577e+11, 185.5 subhalos\n",
      "Min MHI: 5.030e+04, min subhalo mass: 1.350e+7, central MHI: 2.399e+09, central halo mass: 1.457e+11, 248.0 subhalos\n"
     ]
    }
   ],
   "source": [
    "#distance = 30  # Mpc\n",
    "distance = top_ten['dist']\n",
    "min_HI_mass = 2.36e+5 * distance**2 * SdelV\n",
    "\n",
    "for min_mass, halo_mass in zip(min_HI_mass, top_ten['loghimass']):\n",
    "    # first compute halo mass for minimum HI mass\n",
    "    M = Symbol('M')\n",
    "    abundance_func = 2*N10*M*((M/M10)**-b10 * (M/M10)**y10)**-1 - min_mass\n",
    "    min_subhalo_mass = solve(abundance_func, M)[0]\n",
    "        \n",
    "    # now compute halo mass for central gal\n",
    "    MHI = 10**halo_mass\n",
    "    M = Symbol('M')\n",
    "    abundance_func = 2*N10*M*((M/M10)**-b10 * (M/M10)**y10)**-1 - MHI\n",
    "    Mhost = solve(abundance_func, M)[0]\n",
    "        \n",
    "    # now compute N subhalos between min and halo mass\n",
    "    # from Dooley+2016 (see above)\n",
    "    \n",
    "    Nsubhalos = K0*Mhost/(alpha - 1) * (min_subhalo_mass**(1 - alpha) - Mhost**(1 - alpha))\n",
    "    \n",
    "    output_string = \"Min MHI: {:.2e}, min subhalo mass: {:.2e}, central MHI: {:.2e}\"\n",
    "    output_string += \", central halo mass: {:.2e}, {:0.1f} subhalos\"\n",
    "    \n",
    "    print(output_string.format(min_mass, min_subhalo_mass, MHI, Mhost, Nsubhalos))\n",
    "\n",
    "    "
   ]
  },
  {
   "cell_type": "markdown",
   "metadata": {},
   "source": []
  },
  {
   "cell_type": "code",
   "execution_count": null,
   "metadata": {
    "collapsed": true
   },
   "outputs": [],
   "source": []
  }
 ],
 "metadata": {
  "kernelspec": {
   "display_name": "Python [conda root]",
   "language": "python",
   "name": "conda-root-py"
  },
  "language_info": {
   "codemirror_mode": {
    "name": "ipython",
    "version": 3
   },
   "file_extension": ".py",
   "mimetype": "text/x-python",
   "name": "python",
   "nbconvert_exporter": "python",
   "pygments_lexer": "ipython3",
   "version": "3.6.2"
  }
 },
 "nbformat": 4,
 "nbformat_minor": 2
}
