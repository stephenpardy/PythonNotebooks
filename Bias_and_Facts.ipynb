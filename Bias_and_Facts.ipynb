{
 "cells": [
  {
   "cell_type": "code",
   "execution_count": 80,
   "metadata": {
    "collapsed": true
   },
   "outputs": [],
   "source": [
    "import numpy as np\n",
    "import pandas as pd\n",
    "import requests\n",
    "import re\n",
    "import json\n",
    "from bs4 import BeautifulSoup\n",
    "import matplotlib.pyplot as plt\n",
    "import pandas as pd\n",
    "from collections import Counter\n",
    "\n",
    "import seaborn as sn\n",
    "\n",
    "%matplotlib inline"
   ]
  },
  {
   "cell_type": "code",
   "execution_count": 81,
   "metadata": {
    "collapsed": true
   },
   "outputs": [],
   "source": [
    "sn.set_style()"
   ]
  },
  {
   "cell_type": "code",
   "execution_count": null,
   "metadata": {},
   "outputs": [],
   "source": [
    "facts_right = {}\n",
    "\n",
    "right_url = 'https://mediabiasfactcheck.com/right/'\n",
    "r = requests.get(right_url)\n",
    "right_soup = BeautifulSoup(r.text)\n",
    "right_sources = right_soup.find('div', {'class': 'entry clearfix'}).find_all('a', {'class': ''})\n",
    "for source in right_sources:\n",
    "    name = source.text\n",
    "    _url = source['href']\n",
    "    _r = requests.get(_url)\n",
    "    _soup = BeautifulSoup(_r.text)\n",
    "\n",
    "    for p in _soup.find('div', {'class': 'entry-content'}).find_all('p'):\n",
    "        if p.text.startswith('Factual Reporting'):\n",
    "            facts_right[name] = p.text.split(':')[-1].strip()\n",
    "            break\n",
    "    else:\n",
    "        print('No factual reporting found for {:s}'.format(_url))"
   ]
  },
  {
   "cell_type": "code",
   "execution_count": 49,
   "metadata": {},
   "outputs": [],
   "source": [
    "# correct a few incorrect/missing entries\n",
    "facts_right['Ethics & Religious Liberty Commission\\n'] = 'MIXED'\n",
    "facts_right['American Center for Law & Justice (ACLJ)\\n'] = 'MIXED'"
   ]
  },
  {
   "cell_type": "code",
   "execution_count": 38,
   "metadata": {},
   "outputs": [
    {
     "name": "stderr",
     "output_type": "stream",
     "text": [
      "/usr/local/lib/python3.5/site-packages/bs4/__init__.py:181: UserWarning: No parser was explicitly specified, so I'm using the best available HTML parser for this system (\"lxml\"). This usually isn't a problem, but if you run this code on another system, or in a different virtual environment, it may use a different parser and behave differently.\n",
      "\n",
      "The code that caused this warning is on line 170 of the file /usr/local/Cellar/python3/3.5.1/Frameworks/Python.framework/Versions/3.5/lib/python3.5/runpy.py. To get rid of this warning, change code that looks like this:\n",
      "\n",
      " BeautifulSoup([your markup])\n",
      "\n",
      "to this:\n",
      "\n",
      " BeautifulSoup([your markup], \"lxml\")\n",
      "\n",
      "  markup_type=markup_type))\n"
     ]
    },
    {
     "name": "stdout",
     "output_type": "stream",
     "text": [
      "No factual reporting found for http://mediabiasfactcheck.com/politicususa/\n"
     ]
    }
   ],
   "source": [
    "facts_left = {}\n",
    "\n",
    "right_url = 'https://mediabiasfactcheck.com/left/'\n",
    "r = requests.get(right_url)\n",
    "right_soup = BeautifulSoup(r.text)\n",
    "right_sources = right_soup.find('div', {'class': 'entry clearfix'}).find_all('a', {'class': ''})\n",
    "for source in right_sources:\n",
    "    name = source.text\n",
    "    _url = source['href']\n",
    "    _r = requests.get(_url)\n",
    "    _soup = BeautifulSoup(_r.text)\n",
    "\n",
    "    for p in _soup.find('div', {'class': 'entry-content'}).find_all('p'):\n",
    "        if p.text.startswith('Factual Reporting'):\n",
    "            facts_left[name] = p.text.split(':')[-1].strip()\n",
    "            break\n",
    "    else:\n",
    "        print('No factual reporting found for {:s}'.format(_url))"
   ]
  },
  {
   "cell_type": "code",
   "execution_count": 46,
   "metadata": {
    "collapsed": true
   },
   "outputs": [],
   "source": [
    "# fix four incorrect/missing entries\n",
    "facts_left['PoliticusUSA'] = 'HIGH'\n",
    "facts_left['Pravda Report\\n'] = 'MIXED'\n",
    "facts_left['Merry Jane\\n'] = 'HIGH'\n",
    "facts_left['Daily Record (Scotland)\\n'] = 'MIXED'"
   ]
  },
  {
   "cell_type": "code",
   "execution_count": 50,
   "metadata": {},
   "outputs": [
    {
     "data": {
      "text/plain": [
       "{'HIGH', 'MIXED'}"
      ]
     },
     "execution_count": 50,
     "metadata": {},
     "output_type": "execute_result"
    }
   ],
   "source": [
    "set(facts_left.values())"
   ]
  },
  {
   "cell_type": "code",
   "execution_count": 51,
   "metadata": {},
   "outputs": [
    {
     "data": {
      "text/plain": [
       "{'HIGH', 'MIXED'}"
      ]
     },
     "execution_count": 51,
     "metadata": {},
     "output_type": "execute_result"
    }
   ],
   "source": [
    "set(facts_right.values())"
   ]
  },
  {
   "cell_type": "code",
   "execution_count": 54,
   "metadata": {},
   "outputs": [],
   "source": [
    "left_count = Counter(facts_left.values())\n",
    "right_count = Counter(facts_right.values())"
   ]
  },
  {
   "cell_type": "code",
   "execution_count": 57,
   "metadata": {},
   "outputs": [
    {
     "name": "stdout",
     "output_type": "stream",
     "text": [
      "Counter({'HIGH': 136, 'MIXED': 83})\n",
      "Counter({'MIXED': 65, 'HIGH': 11})\n"
     ]
    }
   ],
   "source": [
    "print(left_count)\n",
    "print(right_count)"
   ]
  },
  {
   "cell_type": "code",
   "execution_count": 79,
   "metadata": {},
   "outputs": [
    {
     "name": "stdout",
     "output_type": "stream",
     "text": [
      "Percentage of left-leaning publications with High factual reporting score: 62.1\n",
      "Percentage of left-leaning publications with Mixed factual reporting score: 37.9\n"
     ]
    }
   ],
   "source": [
    "text1 = \"Percentage of left-leaning publications with High factual reporting score: {:0.1f}\"\n",
    "text2 = \"Percentage of left-leaning publications with Mixed factual reporting score: {:0.1f}\"\n",
    "\n",
    "print(text1.format(100*left_count['HIGH']/sum(left_count.values())))\n",
    "print(text2.format(100*left_count['MIXED']/sum(left_count.values())))"
   ]
  },
  {
   "cell_type": "code",
   "execution_count": 77,
   "metadata": {},
   "outputs": [
    {
     "name": "stdout",
     "output_type": "stream",
     "text": [
      "Percentage of right-leaning publications with High factual reporting score: 14.5\n",
      "Percentage of right-leaning publications with Mixed factual reporting score: 85.5\n"
     ]
    }
   ],
   "source": [
    "text1 = \"Percentage of right-leaning publications with High factual reporting score: {:0.1f}\"\n",
    "text2 = \"Percentage of right-leaning publications with Mixed factual reporting score: {:0.1f}\"\n",
    "\n",
    "print(text1.format(100*right_count['HIGH']/sum(right_count.values())))\n",
    "print(text2.format(100*right_count['MIXED']/sum(right_count.values())))"
   ]
  },
  {
   "cell_type": "code",
   "execution_count": 96,
   "metadata": {},
   "outputs": [
    {
     "data": {
      "image/png": "[encoded data removed]",
      "text/plain": [
       "<matplotlib.figure.Figure at 0x11b17f160>"
      ]
     },
     "metadata": {},
     "output_type": "display_data"
    }
   ],
   "source": [
    "fig, axis = plt.subplots(1)\n",
    "\n",
    "for i, value in enumerate(['HIGH', 'MIXED']):\n",
    "    left = i*3\n",
    "    \n",
    "    axis.bar(left, left_count[value], color='Blue')\n",
    "    axis.bar(left+1, right_count[value], color='Red')\n",
    "   \n",
    "axis.text(2.5, 90, 'Left-leaning', color='Blue')\n",
    "axis.text(3.5, 70, 'Right-leaning', color='Red')\n",
    "\n",
    "axis.set_xticks([0.5, 3.5])\n",
    "axis.set_xticklabels(['High', 'Mixed'], fontsize=14)\n",
    "\n",
    "axis.set_ylabel('Number of publications', fontsize=14)\n",
    "axis.set_xlabel('Factual Reporting Score', fontsize=14)\n",
    "\n",
    "fig.tight_layout()\n",
    "fig.savefig('factual_reporting.jpeg', dpi=300, bbox_inches='tight')"
   ]
  },
  {
   "cell_type": "code",
   "execution_count": null,
   "metadata": {
    "collapsed": true
   },
   "outputs": [],
   "source": []
  }
 ],
 "metadata": {
  "kernelspec": {
   "display_name": "Python 3",
   "language": "python",
   "name": "python3"
  },
  "language_info": {
   "codemirror_mode": {
    "name": "ipython",
    "version": 3
   },
   "file_extension": ".py",
   "mimetype": "text/x-python",
   "name": "python",
   "nbconvert_exporter": "python",
   "pygments_lexer": "ipython3",
   "version": "3.5.1"
  }
 },
 "nbformat": 4,
 "nbformat_minor": 2
}
