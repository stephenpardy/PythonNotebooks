{
 "cells": [
  {
   "cell_type": "code",
   "execution_count": null,
   "metadata": {
    "collapsed": false
   },
   "outputs": [],
   "source": [
    "from astropy.io import fits\n",
    "import numpy as np\n",
    "\n",
    "from sklearn.cluster import DBSCAN\n",
    "from sklearn import metrics\n",
    "from sklearn.datasets.samples_generator import make_blobs\n",
    "from sklearn.preprocessing import StandardScaler\n",
    "from sklearn.manifold import TSNE\n",
    "from scipy import stats\n",
    "from scipy import cluster\n",
    "import matplotlib\n",
    "import matplotlib.pyplot as plt\n",
    "%matplotlib inline\n",
    "import mpld3\n",
    "mpld3.disable_notebook()\n"
   ]
  },
  {
   "cell_type": "code",
   "execution_count": null,
   "metadata": {
    "collapsed": true
   },
   "outputs": [],
   "source": [
    "goodstars = good_abundances(elements)"
   ]
  },
  {
   "cell_type": "code",
   "execution_count": null,
   "metadata": {
    "collapsed": false
   },
   "outputs": [],
   "source": [
    "len(goodstars)"
   ]
  },
  {
   "cell_type": "code",
   "execution_count": null,
   "metadata": {
    "collapsed": false
   },
   "outputs": [],
   "source": [
    "cluster_name = ['']*np.sum(goodstars)\n",
    "for i, ID in enumerate(cat[1].data['APOGEE_ID'][goodstars]):\n",
    "    whereid = np.where(ID == cluster_stars[0])[0]\n",
    "    if len(whereid) > 0:\n",
    "        cluster_name[i] = cluster_stars[1][whereid][0]\n",
    "    else:\n",
    "        cluster_name[i] = 'background'"
   ]
  },
  {
   "cell_type": "code",
   "execution_count": null,
   "metadata": {
    "collapsed": false
   },
   "outputs": [],
   "source": [
    "header = 'GLON,GLAT,C/H,N/H,O/H,NA/H,MG/H,AL/H,SI/H,S/H,K/H,CA/H,TI/H,V/H,MN/H,FE/H,NI/H,Cluster'\n",
    "dataset = np.vstack((cat[1].data['GLON'][goodstars],\n",
    "                        cat[1].data['GLAT'][goodstars],\n",
    "                        cat[1].data['C_H'][goodstars],\n",
    "                        cat[1].data['N_H'][goodstars],\n",
    "                        cat[1].data['O_H'][goodstars],\n",
    "                        cat[1].data['NA_H'][goodstars],\n",
    "                        cat[1].data['MG_H'][goodstars],\n",
    "                        cat[1].data['AL_H'][goodstars],\n",
    "                        cat[1].data['SI_H'][goodstars],\n",
    "                        cat[1].data['S_H'][goodstars],\n",
    "                        cat[1].data['K_H'][goodstars],\n",
    "                        cat[1].data['CA_H'][goodstars],\n",
    "                        cat[1].data['TI_H'][goodstars],\n",
    "                        cat[1].data['V_H'][goodstars],\n",
    "                        cat[1].data['MN_H'][goodstars],\n",
    "                        cat[1].data['FE_H'][goodstars],\n",
    "                        cat[1].data['NI_H'][goodstars],\n",
    "                        np.array(cluster_name)))\n",
    "\n",
    "frmt = ('%s, '*17)+'%s'\n",
    "np.savetxt(\"APOGEE_chemicals_all.csv\", dataset.T,\n",
    "           delimiter=',',\n",
    "           fmt=frmt, header=header)"
   ]
  },
  {
   "cell_type": "code",
   "execution_count": null,
   "metadata": {
    "collapsed": false
   },
   "outputs": [],
   "source": [
    "cluster_stars = np.loadtxt('/Users/spardy/Google Drive/ChemicalTagging/APOGEE/table4.dat', usecols=(0, 1), dtype=('S', 'S'), unpack=True)"
   ]
  },
  {
   "cell_type": "code",
   "execution_count": null,
   "metadata": {
    "collapsed": true
   },
   "outputs": [],
   "source": [
    "cat = fits.open('/Users/spardy/Google Drive/ChemicalTagging/APOGEE/allStar-v603.fits')\n",
    "names = np.array([name[5:].rstrip() for name in cat[1].data['TARGET_ID']])"
   ]
  },
  {
   "cell_type": "code",
   "execution_count": null,
   "metadata": {
    "collapsed": false
   },
   "outputs": [],
   "source": [
    "for element_name in element_names:\n",
    "    print element_name\n",
    "    #dat = cat[1].data[element_name]\n",
    "    #print stats.describe(dat[dat > -9999])\n",
    "    err = cat[1].data['%s_ERR' % element_name]\n",
    "    print err[err > -9999].mean()"
   ]
  },
  {
   "cell_type": "code",
   "execution_count": null,
   "metadata": {
    "collapsed": true
   },
   "outputs": [],
   "source": [
    "element_names = ['C_H', 'N_H', 'O_H', 'NA_H', 'MG_H', 'AL_H',\n",
    "                 'SI_H', 'S_H', 'K_H', 'CA_H', 'TI_H', 'V_H',\n",
    "                 'MN_H', 'FE_H', 'NI_H']\n",
    "#element_scalings = [0.041, 0.044, 0.037, 0.111, 0.032, 0.055,\n",
    "#                     0.041, 0.054, 0.069, 0.043, 0.072, 0.146,\n",
    "#                     0.041, 0.019, 0.034]\n",
    "element_scalings = [1, 1, 1, 1, 1, 1, 1, 1, 1, 1, 1, 1, 1, 1, 1]\n",
    "elements = {}\n",
    "for element, scale in zip(element_names, element_scalings):\n",
    "    elements[element] = cat[1].data[element]/scale\n"
   ]
  },
  {
   "cell_type": "code",
   "execution_count": null,
   "metadata": {
    "collapsed": false
   },
   "outputs": [],
   "source": [
    "for element in elements:\n",
    "    print np.max(cat[1].data[element][cat[1].data[element] > -9999])"
   ]
  },
  {
   "cell_type": "code",
   "execution_count": null,
   "metadata": {
    "collapsed": false
   },
   "outputs": [],
   "source": [
    "cluster_name = 'M13'\n",
    "cluststars = [name for name in cluster_stars[0][cluster_stars[1] == cluster_name]]"
   ]
  },
  {
   "cell_type": "code",
   "execution_count": null,
   "metadata": {
    "collapsed": true
   },
   "outputs": [],
   "source": [
    "def good_abundances(data, index=None):\n",
    "    if index is not None:\n",
    "        good = np.ones_like(index, dtype=bool)\n",
    "        for element in element_names:\n",
    "            good *= data[element][index] > -9999\n",
    "    else:\n",
    "        good = np.ones(len(data[element_names[0]]), dtype=bool)\n",
    "        for element in element_names:\n",
    "            good *= data[element] > -9999\n",
    "\n",
    "    return good"
   ]
  },
  {
   "cell_type": "code",
   "execution_count": null,
   "metadata": {
    "collapsed": false
   },
   "outputs": [],
   "source": [
    "fig, axes = plt.subplots(1,2, figsize=(10, 5))\n",
    "ind = []\n",
    "\n",
    "for i, cluststar in enumerate(cluststars): \n",
    "    _ind = np.where(names == cluststar)[0][0]\n",
    "    if good_abundances(elements, _ind):\n",
    "        ind.append(_ind)\n",
    "\n",
    "\n",
    "avg_glon = np.mean(cat[1].data['GLON'][ind])\n",
    "avg_glat = np.mean(cat[1].data['GLAT'][ind])\n",
    "\n",
    "within_box = np.where((np.abs(cat[1].data['GLON'] - avg_glon) < 2)*\n",
    "                      (np.abs(cat[1].data['GLAT'] - avg_glat) < 2)*\n",
    "                      good_abundances(elements, range(len(cat[1].data['GLON']))))\n",
    "\n",
    "\n",
    "labels_true = np.zeros(len(within_box[0]))-1\n",
    "\n",
    "for i, cluststar in enumerate(cluststars): \n",
    "    _ind = np.where(names == cluststar)[0][0]\n",
    "    if good_abundances(elements, _ind):\n",
    "        _ = np.where(names[within_box] == cluststar)[0]\n",
    "        labels_true[_] = 0\n",
    "\n",
    "axis = axes[0]\n",
    "axis.plot(cat[1].data['GLON'][within_box],\n",
    "         cat[1].data['GLAT'][within_box], 'k.', zorder=-1, label='Background Stars')\n",
    "\n",
    "  \n",
    "axis.plot(cat[1].data['GLON'][ind], cat[1].data['GLAT'][ind], 'r.', label='Known Cluster Members')#, markerfacecolor='none', markeredgecolor='r')\n",
    "axis.set_xlabel('Galactic Longitude', fontsize=15)\n",
    "axis.set_ylabel('Galactic Latitude', fontsize=15)\n",
    "axis.set_title(cluster_name)\n",
    "axis.legend(loc='upper right', fontsize=15)\n",
    "axis.tick_params(axis='both', which='major', labelsize=15)\n",
    "\n",
    "axis = axes[1]\n",
    "axis.boxplot((cat[1].data['FE_H'][within_box], cat[1].data['FE_H'][ind]),\n",
    "             labels=['Background', 'Cluster'])\n",
    "axis.set_ylabel('Iron Abundance [dex]', fontsize=15)\n",
    "axis.tick_params(axis='both', which='major', labelsize=15)\n",
    "#tot = np.sum(cat[1].data['FE_H'][within_box])\n",
    "#axis.plot(np.linspace(0, 1, len(within_box[0])), np.cumsum(sorted(cat[1].data['FE_H'][within_box]))/tot)\n",
    "#tot = np.sum(cat[1].data['FE_H'][ind])\n",
    "#axis.plot(np.linspace(0, 1, len(ind)), np.cumsum(sorted(cat[1].data['FE_H'][ind]))/tot)\n",
    "  \n",
    "#axis.plot(cat[1].data['GLON'][ind], cat[1].data['GLAT'][ind], 'r.', label='Known Cluster Members')#, markerfacecolor='none', markeredgecolor='r')\n",
    "plt.tight_layout()\n",
    "\n",
    "axis.set_title(cluster_name)\n",
    "#plt.savefig('/Users/spardy/Desktop/M13_metal_spread.png', dpi=600, bbox_inches='tight')"
   ]
  },
  {
   "cell_type": "code",
   "execution_count": null,
   "metadata": {
    "collapsed": false
   },
   "outputs": [],
   "source": [
    "fig, axes = plt.subplots(1, 2, figsize=(10, 5))\n",
    "X = np.vstack((elements[name][within_box] for name in element_names)).T\n",
    "axes[0].plot(X[:, 0], X[:, 1], 'k.')\n",
    "axes[0].plot(X[labels_true == 0, 0], X[labels_true == 0, 1], 'bo')\n",
    "model = TSNE(n_components=2, random_state=0)\n",
    "XTSNE = model.fit_transform(X)\n",
    "axes[1].plot(XTSNE[:, 0], XTSNE[:, 1], 'k.')\n",
    "axes[1].plot(XTSNE[labels_true == 0, 0], XTSNE[labels_true == 0, 1], 'bo')\n"
   ]
  },
  {
   "cell_type": "code",
   "execution_count": null,
   "metadata": {
    "collapsed": false
   },
   "outputs": [],
   "source": [
    "header = 'C/H,N/H,O/H,NA/H,MG/H,AL/H,SI/H,S/H,K/H,CA/H,TI/H,V/H,MN/H,FE/H,NI/H,Cluster'\n",
    "frmt = ('%5.5f,'*15)+'%d'\n",
    "field_stars = np.setdiff1d(within_box, ind)\n",
    "\n",
    "\n",
    "dataset = np.vstack((np.concatenate((cat[1].data['C_H'][ind], cat[1].data['C_H'][field_stars])),\n",
    "                       np.concatenate((cat[1].data['N_H'][ind], cat[1].data['N_H'][field_stars])),\n",
    "                       np.concatenate((cat[1].data['O_H'][ind], cat[1].data['O_H'][field_stars])),\n",
    "                       np.concatenate((cat[1].data['NA_H'][ind], cat[1].data['NA_H'][field_stars])),\n",
    "                       np.concatenate((cat[1].data['MG_H'][ind], cat[1].data['MG_H'][field_stars])),\n",
    "                       np.concatenate((cat[1].data['AL_H'][ind], cat[1].data['AL_H'][field_stars])),\n",
    "                       np.concatenate((cat[1].data['SI_H'][ind], cat[1].data['SI_H'][field_stars])),\n",
    "                       np.concatenate((cat[1].data['S_H'][ind], cat[1].data['S_H'][field_stars])),\n",
    "                       np.concatenate((cat[1].data['K_H'][ind], cat[1].data['K_H'][field_stars])),\n",
    "                       np.concatenate((cat[1].data['CA_H'][ind], cat[1].data['CA_H'][field_stars])),\n",
    "                       np.concatenate((cat[1].data['TI_H'][ind], cat[1].data['TI_H'][field_stars])),\n",
    "                       np.concatenate((cat[1].data['V_H'][ind], cat[1].data['V_H'][field_stars])),\n",
    "                       np.concatenate((cat[1].data['MN_H'][ind], cat[1].data['MN_H'][field_stars])),\n",
    "                       np.concatenate((cat[1].data['FE_H'][ind], cat[1].data['FE_H'][field_stars])),\n",
    "                       np.concatenate((cat[1].data['NI_H'][ind], cat[1].data['NI_H'][field_stars])),\n",
    "                       np.concatenate((np.zeros(len(ind)), np.ones(len(field_stars))) )))\n",
    "\n",
    "\n",
    "np.savetxt(\"M13_chemicals.csv\", dataset.T, fmt=frmt, header=header)"
   ]
  },
  {
   "cell_type": "code",
   "execution_count": null,
   "metadata": {
    "collapsed": false
   },
   "outputs": [],
   "source": [
    "fig, axes = plt.subplots(2, 3, figsize=(15, 10))\n",
    "axes = axes.flatten()\n",
    "\n",
    "xlabels = ['FE_H', 'K_H', 'AL_H', 'O_H', 'N_H', 'AL_H']\n",
    "ylabels = ['MG_H', 'MG_H', 'MG_H', 'NA_H', 'C_H', 'S_H']\n",
    "\n",
    "for axis, xlabel, ylabel in zip(axes, xlabels, ylabels):\n",
    "    if (xlabel != 'FE_H'):\n",
    "        xscale = elements['FE_H']\n",
    "        xscalename = '/FE_H'\n",
    "    else:\n",
    "        xscale = np.ones_like(elements['FE_H'])\n",
    "        xscalename = ''\n",
    "    if (ylabel != 'FE_H'):\n",
    "        yscale = elements['FE_H']\n",
    "        yscalename = '/FE_H'\n",
    "    else:\n",
    "        yscale = np.ones_like(elements['FE_H'])\n",
    "        yscalename = ''\n",
    "        \n",
    "    axis.plot(elements[xlabel][within_box]/xscale[within_box],\n",
    "              elements[ylabel][within_box]/yscale[within_box],\n",
    "              'k.', zorder=-1)\n",
    "\n",
    "    axis.plot(elements[xlabel][ind]/xscale[ind],\n",
    "              elements[ylabel][ind]/yscale[ind],\n",
    "              'o', markerfacecolor='none', markeredgecolor='r')\n",
    "    \n",
    "    xhigh = np.percentile(elements[xlabel][within_box]/xscale[within_box], 99)\n",
    "    xlow = np.percentile(elements[xlabel][within_box]/xscale[within_box], 1)\n",
    "    yhigh = np.percentile(elements[ylabel][within_box]/yscale[within_box], 99)\n",
    "    ylow = np.percentile(elements[ylabel][within_box]/yscale[within_box], 1)    \n",
    "\n",
    "    axis.set_xlim([xlow, xhigh])\n",
    "    axis.set_ylim([ylow, yhigh])\n",
    "\n",
    "    axis.set_ylabel(ylabel+yscalename)\n",
    "    axis.set_xlabel(xlabel+xscalename)\n",
    "\n",
    "plt.tight_layout()"
   ]
  },
  {
   "cell_type": "code",
   "execution_count": null,
   "metadata": {
    "collapsed": false
   },
   "outputs": [],
   "source": [
    "fig, axes = plt.subplots(2, 3, figsize=(15, 10))\n",
    "axes = axes.flatten()\n",
    "\n",
    "xlabels = ['FE_H', 'K_H', 'AL_H', 'O_H', 'N_H', 'AL_H']\n",
    "ylabels = ['MG_H', 'MG_H', 'MG_H', 'NA_H', 'C_H', 'S_H']\n",
    "\n",
    "for axis, xlabel, ylabel in zip(axes, xlabels, ylabels):\n",
    "    axis.plot(elements[xlabel][within_box],\n",
    "              elements[ylabel][within_box],\n",
    "              'k.', zorder=-1)\n",
    "\n",
    "    axis.plot(elements[xlabel][ind],\n",
    "              elements[ylabel][ind],\n",
    "              'o', markerfacecolor='none', markeredgecolor='r')\n",
    "    \n",
    "    xhigh = np.percentile(elements[xlabel][within_box], 99)\n",
    "    xlow = np.percentile(elements[xlabel][within_box], 1)\n",
    "    yhigh = np.percentile(elements[ylabel][within_box], 99)\n",
    "    ylow = np.percentile(elements[ylabel][within_box], 1)    \n",
    "\n",
    "    axis.set_xlim([xlow, xhigh])\n",
    "    axis.set_ylim([ylow, yhigh])\n",
    "\n",
    "    axis.set_ylabel(ylabel)\n",
    "    axis.set_xlabel(xlabel)\n",
    "\n",
    "plt.tight_layout()"
   ]
  },
  {
   "cell_type": "code",
   "execution_count": null,
   "metadata": {
    "collapsed": false
   },
   "outputs": [],
   "source": [
    "fig, axes = plt.subplots(3, 5, figsize=(15, 10))\n",
    "axes = axes.flatten()\n",
    "\n",
    "ylabel = 'VHELIO_AVG'\n",
    "\n",
    "for axis, xlabel in zip(axes, element_names):\n",
    "    if (xlabel != 'FE_H'):\n",
    "        xscale = elements['FE_H']\n",
    "        xscalename = '/FE_H'\n",
    "    else:\n",
    "        xscale = np.ones_like(elements['FE_H'])\n",
    "        xscalename = ''\n",
    "        \n",
    "    axis.plot(elements[xlabel][within_box]/xscale[within_box],\n",
    "              cat[1].data[ylabel][within_box],\n",
    "              'k.', zorder=-1)\n",
    "\n",
    "    axis.plot(elements[xlabel][ind]/xscale[ind],\n",
    "              cat[1].data[ylabel][ind],\n",
    "              'o', markerfacecolor='none', markeredgecolor='r')\n",
    "\n",
    "    xhigh = np.percentile(elements[xlabel][within_box]/xscale[within_box], 99)\n",
    "    xlow = np.percentile(elements[xlabel][within_box]/xscale[within_box], 1)\n",
    "    yhigh = np.percentile(cat[1].data[ylabel][within_box], 99)\n",
    "    ylow = np.percentile(cat[1].data[ylabel][within_box], 1)  \n",
    "\n",
    "    axis.set_xlim([xlow, xhigh])\n",
    "    axis.set_ylim([ylow, yhigh])\n",
    "\n",
    "    axis.set_ylabel(ylabel)\n",
    "    axis.set_xlabel(xlabel+xscalename)\n",
    "\n",
    "plt.tight_layout()"
   ]
  },
  {
   "cell_type": "code",
   "execution_count": null,
   "metadata": {
    "collapsed": false
   },
   "outputs": [],
   "source": [
    "X = np.vstack((elements[name][within_box] for name in element_names)).T\n",
    "#X = np.vstack((X, cat[1].data['VHELIO_AVG'][within_box])).T"
   ]
  },
  {
   "cell_type": "code",
   "execution_count": null,
   "metadata": {
    "collapsed": false
   },
   "outputs": [],
   "source": [
    "eps = 10\n",
    "min_samples = 20\n",
    "db = DBSCAN(eps=eps, min_samples=min_samples).fit(X)\n",
    "core_samples_mask = np.zeros_like(db.labels_, dtype=bool)\n",
    "core_samples_mask[db.core_sample_indices_] = True\n",
    "labels = db.labels_\n",
    "\n",
    "n_clusters_ = len(set(labels)) - (1 if -1 in labels else 0)\n",
    "##############################################################################\n",
    "# Plot result\n",
    "\n",
    "# Black removed and is used for noise instead.\n",
    "unique_labels = set(labels)\n",
    "colors = plt.cm.Spectral(np.linspace(0, 1, len(unique_labels)))\n",
    "\n",
    "print('Estimated number of clusters: %d' % n_clusters_)\n",
    "print(\"Homogeneity: %0.3f\" % metrics.homogeneity_score(labels_true, labels))\n",
    "print(\"Completeness: %0.3f\" % metrics.completeness_score(labels_true, labels))\n",
    "print(\"V-measure: %0.3f\" % metrics.v_measure_score(labels_true, labels))\n",
    "print(\"Adjusted Rand Index: %0.3f\"\n",
    "  % metrics.adjusted_rand_score(labels_true, labels))\n",
    "print(\"Adjusted Mutual Information: %0.3f\"\n",
    "  % metrics.adjusted_mutual_info_score(labels_true, labels))\n",
    "if n_clusters_ > 0:\n",
    "    print(\"Silhouette Coefficient: %0.3f\"\n",
    "      % metrics.silhouette_score(X, labels))"
   ]
  },
  {
   "cell_type": "code",
   "execution_count": null,
   "metadata": {
    "collapsed": false
   },
   "outputs": [],
   "source": [
    "Homogeneity = np.empty((10, 10))\n",
    "Completeness = np.empty((10, 10))\n",
    "V_measure = np.empty((10, 10))\n",
    "Adjusted_Rand_Index = np.empty((10, 10))\n",
    "Adjusted_Mutual_Information = np.empty((10, 10))\n",
    "Silhouette_Coefficient = np.empty((10, 10))\n",
    "\n",
    "for i, eps in enumerate(np.linspace(1, 10, 10)):\n",
    "    for j, min_sample in enumerate(np.linspace(11, 20, 10)):\n",
    "        db = DBSCAN(eps=eps, min_samples=min_samples).fit(X)\n",
    "        core_samples_mask = np.zeros_like(db.labels_, dtype=bool)\n",
    "        core_samples_mask[db.core_sample_indices_] = True\n",
    "        labels = db.labels_\n",
    "\n",
    "        n_clusters_ = len(set(labels)) - (1 if -1 in labels else 0)\n",
    "\n",
    "        Homogeneity[i, j] = metrics.homogeneity_score(labels_true, labels)\n",
    "        Completeness[i, j] = metrics.completeness_score(labels_true, labels)\n",
    "        V_measure[i, j] = metrics.v_measure_score(labels_true, labels)\n",
    "        Adjusted_Rand_Index[i, j] = metrics.adjusted_rand_score(labels_true, labels)\n",
    "        Adjusted_Mutual_Information[i, j] = metrics.adjusted_mutual_info_score(labels_true, labels)\n",
    "        if n_clusters_ > 0:\n",
    "            Silhouette_Coefficient[i, j] = metrics.silhouette_score(X, labels)\n",
    "        else:\n",
    "            Silhouette_Coefficient[i, j] = np.nan"
   ]
  },
  {
   "cell_type": "code",
   "execution_count": null,
   "metadata": {
    "collapsed": false
   },
   "outputs": [],
   "source": [
    "V_measure.argmax()"
   ]
  },
  {
   "cell_type": "code",
   "execution_count": null,
   "metadata": {
    "collapsed": false,
    "scrolled": false
   },
   "outputs": [],
   "source": [
    "fig, axes = plt.subplots(2, 3, figsize=(15, 10))\n",
    "axes = axes.flatten()\n",
    "\n",
    "xlabels = ['FE_H', 'K_H', 'AL_H', 'O_H', 'N_H', 'AL_H']\n",
    "ylabels = ['MG_H', 'MG_H', 'MG_H', 'NA_H', 'C_H', 'S_H']\n",
    "\n",
    "for axis, xlabel, ylabel in zip(axes, xlabels, ylabels):\n",
    "    for k, col in zip(unique_labels, colors):\n",
    "        class_member_mask = (labels == k)\n",
    "        if k == -1:\n",
    "            # Black used for noise.\n",
    "            col = 'k'\n",
    "            x = elements[xlabel][within_box][class_member_mask]\n",
    "            y = elements[ylabel][within_box][class_member_mask]\n",
    "            #print np.std(xy, axis=1)\n",
    "            axis.plot(x, y, '.', markerfacecolor=col,\n",
    "                     markeredgecolor='k', markersize=10, zorder=-1)\n",
    "        else:\n",
    "            x = elements[xlabel][within_box][class_member_mask & core_samples_mask]\n",
    "            y = elements[ylabel][within_box][class_member_mask & core_samples_mask]\n",
    "            axis.plot(x, y, '.', markerfacecolor=col,\n",
    "                     markeredgecolor='k', markersize=12)\n",
    "\n",
    "            x = elements[xlabel][within_box][class_member_mask & ~core_samples_mask]\n",
    "            y = elements[ylabel][within_box][class_member_mask & ~core_samples_mask]\n",
    "            axis.plot(x, y, '.', markerfacecolor=col,\n",
    "                     markeredgecolor='k', markersize=12)\n",
    "\n",
    "\n",
    "    xhigh = np.percentile(elements[xlabel][ind], 99)\n",
    "    xlow = np.percentile(elements[xlabel][ind], 1)\n",
    "    yhigh = np.percentile(elements[ylabel][ind], 99)\n",
    "    ylow = np.percentile(elements[ylabel][ind], 1) \n",
    "\n",
    "    x = elements[xlabel][ind]\n",
    "    y = elements[ylabel][ind]\n",
    "    axis.plot(x, y, 'o', markerfacecolor='none', markeredgecolor='blue', markersize=12)\n",
    "\n",
    "    #axis.set_xlim([xlow, xhigh])\n",
    "    #axis.set_ylim([ylow, yhigh])\n",
    "\n",
    "    axis.set_ylabel(ylabel)\n",
    "    axis.set_xlabel(xlabel)\n",
    "\n",
    "\n",
    "\n",
    "plt.tight_layout()\n",
    "\n",
    "    #axis.set_title('eps=%3.2f\\nEstimated number of clusters: %d' % (eps, n_clusters_))"
   ]
  },
  {
   "cell_type": "code",
   "execution_count": null,
   "metadata": {
    "collapsed": false
   },
   "outputs": [],
   "source": [
    "fig, axis = plt.subplots(figsize=(7.5, 5))\n",
    "#axes = axes.flatten()\n",
    "#for axis, eps in zip(axes, [0.01, 0.02, 0.03, 0.04]):\n",
    "DBSCAN_plot(axis, X, 0.05, 15, labels_true)"
   ]
  },
  {
   "cell_type": "markdown",
   "metadata": {},
   "source": [
    "## Hierarchical CLustering"
   ]
  },
  {
   "cell_type": "code",
   "execution_count": null,
   "metadata": {
    "collapsed": false
   },
   "outputs": [],
   "source": [
    "Z = cluster.hierarchy.complete(X)\n",
    "max_d = 1.1\n",
    "min_samples = 10\n",
    "labels = cluster.hierarchy.fcluster(Z, max_d)\n",
    "unq_clusters = np.unique(labels)\n",
    "for ucluster in unq_clusters:\n",
    "    match = labels == ucluster\n",
    "    if np.sum(match) > min_samples:\n",
    "        print np.sum(match), np.sum(labels_true[match] == 0)\n",
    "        print np.std(X[match, :], axis=0).mean()\n",
    "    else:\n",
    "        labels[match] = -1\n",
    "    \n",
    "unq_clusters = np.unique(labels)\n",
    "n_clusters_ = len(unq_clusters)\n",
    "print('Estimated number of clusters: %d' % n_clusters_)\n",
    "print(\"Homogeneity: %0.3f\" % metrics.homogeneity_score(labels_true, labels))\n",
    "print(\"Completeness: %0.3f\" % metrics.completeness_score(labels_true, labels))\n",
    "print(\"V-measure: %0.3f\" % metrics.v_measure_score(labels_true, labels))\n",
    "print(\"Adjusted Rand Index: %0.3f\"\n",
    "  % metrics.adjusted_rand_score(labels_true, labels))\n",
    "print(\"Adjusted Mutual Information: %0.3f\"\n",
    "  % metrics.adjusted_mutual_info_score(labels_true, labels))\n",
    "if n_clusters_ > 0:\n",
    "    print(\"Silhouette Coefficient: %0.3f\"\n",
    "      % metrics.silhouette_score(X, labels))\n",
    "\n",
    "fig, axis = plt.subplots(1, figsize=(10, 5))\n",
    "\n",
    "xlabel = 'FE_H'\n",
    "ylabel = 'MG_H'\n",
    "axis.scatter(elements[xlabel][within_box][clusters > -1],\n",
    "                elements[ylabel][within_box][clusters > -1],\n",
    "                c=clusters)  # plot points with cluster dependent colors\n",
    "\n",
    "axis.plot(elements[xlabel][ind],\n",
    "                elements[ylabel][ind], 'o',\n",
    "         markerfacecolor='none', markeredgecolor='red', markersize=12)\n",
    "xhigh = np.percentile(elements[xlabel][ind], 99)\n",
    "xlow = np.percentile(elements[xlabel][ind], 1)\n",
    "yhigh = np.percentile(elements[ylabel][ind], 99)\n",
    "ylow = np.percentile(elements[ylabel][ind], 1) \n",
    "\n",
    "axis.set_xlim([xlow, xhigh])\n",
    "axis.set_ylim([ylow, yhigh])"
   ]
  },
  {
   "cell_type": "markdown",
   "metadata": {},
   "source": [
    "## Ward"
   ]
  },
  {
   "cell_type": "code",
   "execution_count": null,
   "metadata": {
    "collapsed": false
   },
   "outputs": [],
   "source": []
  },
  {
   "cell_type": "code",
   "execution_count": null,
   "metadata": {
    "collapsed": false
   },
   "outputs": [],
   "source": [
    "default_linewidth = matplotlib.rcParams['lines.linewidth']\n",
    "\n",
    "def color_func(k):\n",
    "    print k\n",
    "    return 'black'\n",
    "\n",
    "Z = cluster.hierarchy.ward(X)\n",
    "max_d = 100\n",
    "clusters = cluster.hierarchy.fcluster(Z, max_d, criterion='distance')\n",
    "fig, axis = plt.subplots(1, figsize=(6, 5))\n",
    "\n",
    "matplotlib.rcParams['lines.linewidth'] = 1.2\n",
    "\n",
    "dendro = cluster.hierarchy.dendrogram(\n",
    "    Z,\n",
    "    leaf_rotation=90.,  # rotates the x axis labels\n",
    "    leaf_font_size=8.,  # font size for the x axis labels\n",
    "    #no_plot=True,\n",
    "    ax=axis,\n",
    "    color_threshold = max_d\n",
    ")\n",
    "\n",
    "axis.set_xticklabels([])\n",
    "axis.set_yticklabels([])\n",
    "axis.axhline(y=max_d, linestyle='--', color='gray')\n",
    "axis.set_ylabel('Difference in chemical composition', fontsize=15)\n",
    "axis.set_title('Dendrogram of M13', fontsize=15)\n",
    "plt.savefig('/Users/spardy/Desktop/M13_dendrogram.png', dpi=600)\n",
    "matplotlib.rcParams['lines.linewidth'] = default_linewidth\n"
   ]
  },
  {
   "cell_type": "code",
   "execution_count": null,
   "metadata": {
    "collapsed": false
   },
   "outputs": [],
   "source": [
    "Z = cluster.hierarchy.ward(X)\n",
    "max_d = 50\n",
    "clusters = cluster.hierarchy.fcluster(Z, max_d, criterion='distance')\n",
    "fig, axes = plt.subplots(1, 2, figsize=(10, 5))\n",
    "dendro = cluster.hierarchy.dendrogram(\n",
    "    Z,\n",
    "    leaf_rotation=90.,  # rotates the x axis labels\n",
    "    leaf_font_size=8.,  # font size for the x axis labels\n",
    "    #no_plot=True,\n",
    "    ax=axes[1],\n",
    "    color_threshold = max_d\n",
    ")\n",
    "xlabel = 'FE_H'\n",
    "ylabel = 'MG_H'\n",
    "axes[0].scatter(elements[xlabel][within_box],\n",
    "                elements[ylabel][within_box],\n",
    "                c=clusters)  # plot points with cluster dependent colors\n",
    "\n",
    "axes[0].plot(elements[xlabel][ind],\n",
    "                elements[ylabel][ind], 'o',\n",
    "         markerfacecolor='none', markeredgecolor='red', markersize=12)\n",
    "xhigh = np.percentile(elements[xlabel][ind], 99)\n",
    "xlow = np.percentile(elements[xlabel][ind], 1)\n",
    "yhigh = np.percentile(elements[ylabel][ind], 99)\n",
    "ylow = np.percentile(elements[ylabel][ind], 1) \n",
    "\n",
    "axes[0].set_xlim([xlow, xhigh])\n",
    "axes[0].set_ylim([ylow, yhigh])"
   ]
  },
  {
   "cell_type": "markdown",
   "metadata": {},
   "source": [
    "## Median"
   ]
  },
  {
   "cell_type": "code",
   "execution_count": null,
   "metadata": {
    "collapsed": false
   },
   "outputs": [],
   "source": [
    "Z = cluster.hierarchy.median(X)\n",
    "max_d = 0.1\n",
    "clusters = cluster.hierarchy.fcluster(Z, max_d, criterion='distance')\n",
    "fig, axis = plt.subplots(figsize=(10, 5))\n",
    "dendro = cluster.hierarchy.dendrogram(\n",
    "    Z,\n",
    "    leaf_rotation=90.,  # rotates the x axis labels\n",
    "    leaf_font_size=8.,  # font size for the x axis labels\n",
    "    color_threshold = max_d,\n",
    "    no_plot=True\n",
    ")\n",
    "axis.scatter(X[:,0], X[:,1], c=dendro['color_list'])  # plot points with cluster dependent colors\n",
    "axis.plot(cat[1].data['FE_H'][ind],\n",
    "         cat[1].data['C_H'][ind], '+',\n",
    "         markerfacecolor='blue', markeredgecolor='blue')\n"
   ]
  },
  {
   "cell_type": "markdown",
   "metadata": {},
   "source": [
    "## Complete "
   ]
  },
  {
   "cell_type": "code",
   "execution_count": null,
   "metadata": {
    "collapsed": false
   },
   "outputs": [],
   "source": [
    "Z = cluster.hierarchy.complete(X)\n",
    "max_d = 0.5\n",
    "clusters = cluster.hierarchy.fcluster(Z, max_d, criterion='distance')\n",
    "fig, axis = plt.subplots(figsize=(10, 5))\n",
    "dendro = cluster.hierarchy.dendrogram(\n",
    "    Z,\n",
    "    leaf_rotation=90.,  # rotates the x axis labels\n",
    "    leaf_font_size=8.,  # font size for the x axis labels\n",
    "    no_plot=True,\n",
    "    color_threshold = max_d\n",
    ")\n",
    "axis.scatter(X[:,0], X[:,1], c=dendro['color_list'])  # plot points with cluster dependent colors\n",
    "axis.plot(cat[1].data['FE_H'][ind],\n",
    "         cat[1].data['C_H'][ind], '+',\n",
    "         markerfacecolor='blue', markeredgecolor='blue')\n"
   ]
  },
  {
   "cell_type": "code",
   "execution_count": null,
   "metadata": {
    "collapsed": false
   },
   "outputs": [],
   "source": []
  },
  {
   "cell_type": "code",
   "execution_count": null,
   "metadata": {
    "collapsed": true
   },
   "outputs": [],
   "source": []
  }
 ],
 "metadata": {
  "kernelspec": {
   "display_name": "Python 2",
   "language": "python",
   "name": "python2"
  },
  "language_info": {
   "codemirror_mode": {
    "name": "ipython",
    "version": 2
   },
   "file_extension": ".py",
   "mimetype": "text/x-python",
   "name": "python",
   "nbconvert_exporter": "python",
   "pygments_lexer": "ipython2",
   "version": "2.7.10"
  },
  "toc": {
   "toc_cell": false,
   "toc_number_sections": true,
   "toc_threshold": 4,
   "toc_window_display": false
  }
 },
 "nbformat": 4,
 "nbformat_minor": 0
}
