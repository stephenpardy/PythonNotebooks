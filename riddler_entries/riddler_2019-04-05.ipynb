{
 "cells": [
  {
   "cell_type": "code",
   "execution_count": 1,
   "metadata": {
    "collapsed": true
   },
   "outputs": [],
   "source": [
    "import numpy as np\n",
    "from scipy.special import factorial"
   ]
  },
  {
   "cell_type": "markdown",
   "metadata": {},
   "source": [
    "Using one of each card can be thought of as a [one dimensional random walk](https://en.wikipedia.org/wiki/Random_walk#One-dimensional_random_walk) which follows [Pascal's triangle](http://mathworld.wolfram.com/PascalsTriangle.html). \n",
    "\n",
    "The column index of Pascal's triangle gives us the number of drinks we have purchased on one card. We are interested in the 50th column, because we know we have purchased 50 drinks on one card.\n",
    "\n",
    "The row index tells us the total number of drinks purchased. The entry at the row and the column gives us the number of times such an event will occur. \n",
    "\n",
    "From there we can characterize the entire distribution of number of drinks on the other card."
   ]
  },
  {
   "cell_type": "code",
   "execution_count": 2,
   "metadata": {},
   "outputs": [],
   "source": [
    "def pascal(n, k):\n",
    "    # compute Pascal's triangle for the nth row and the kth column\n",
    "    return factorial(n)/(factorial(k) * factorial(n - k))"
   ]
  },
  {
   "cell_type": "code",
   "execution_count": 3,
   "metadata": {},
   "outputs": [],
   "source": [
    "N = sum(pascal(n, 50) for n in range(50, 101))"
   ]
  },
  {
   "cell_type": "code",
   "execution_count": 4,
   "metadata": {},
   "outputs": [
    {
     "name": "stdout",
     "output_type": "stream",
     "text": [
      "Probability to have drinks left on other card: 49.505%\n"
     ]
    }
   ],
   "source": [
    "print(f\"Probability to have drinks left on other card: {(1 - pascal(100, 50)/N)*100.:.3f}%\")"
   ]
  },
  {
   "cell_type": "code",
   "execution_count": 5,
   "metadata": {},
   "outputs": [
    {
     "name": "stdout",
     "output_type": "stream",
     "text": [
      "Expected number of drinks on other card: 0.962\n"
     ]
    }
   ],
   "source": [
    "print(f\"Expected number of drinks on other card: {50-sum(((n - 50.) * pascal(n, 50))/N for n in range(50, 101)):.3f}\")   "
   ]
  }
 ],
 "metadata": {
  "kernelspec": {
   "display_name": "Python [conda root]",
   "language": "python",
   "name": "conda-root-py"
  },
  "language_info": {
   "codemirror_mode": {
    "name": "ipython",
    "version": 3
   },
   "file_extension": ".py",
   "mimetype": "text/x-python",
   "name": "python",
   "nbconvert_exporter": "python",
   "pygments_lexer": "ipython3",
   "version": "3.6.5"
  }
 },
 "nbformat": 4,
 "nbformat_minor": 2
}
