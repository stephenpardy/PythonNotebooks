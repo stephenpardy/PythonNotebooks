{
 "cells": [
  {
   "cell_type": "code",
   "execution_count": 260,
   "metadata": {
    "collapsed": true
   },
   "outputs": [],
   "source": [
    "import numpy as np\n",
    "import matplotlib.pyplot as plt\n",
    "from scipy import stats\n",
    "%matplotlib inline"
   ]
  },
  {
   "cell_type": "code",
   "execution_count": 257,
   "metadata": {
    "collapsed": false
   },
   "outputs": [],
   "source": [
    "import argparse\n",
    "import json\n",
    "import pprint\n",
    "import sys\n",
    "import urllib\n",
    "import urllib2\n",
    "\n",
    "import oauth2\n",
    "\n",
    "API_HOST = 'api.yelp.com'\n",
    "SEARCH_PATH = '/v2/search/'\n",
    "BUSINESS_PATH = '/v2/business/'\n",
    "\n",
    "KEYS = json.load(file('/Users/spardy/.config/OAUTHS/Yelp.json'))\n",
    "\n",
    "CONSUMER_KEY = KEYS['CONSUMER_KEY']\n",
    "CONSUMER_SECRET = KEYS['CONSUMER_SECRET']\n",
    "TOKEN = KEYS['TOKEN']\n",
    "TOKEN_SECRET = KEYS['TOKEN_SECRET']\n",
    "\n",
    "\n",
    "def request(host, path, url_params=None):\n",
    "    \"\"\"Prepares OAuth authentication and sends the request to the API.\n",
    "\n",
    "    Args:\n",
    "        host (str): The domain host of the API.\n",
    "        path (str): The path of the API after the domain.\n",
    "        url_params (dict): An optional set of query parameters in the request.\n",
    "\n",
    "    Returns:\n",
    "        dict: The JSON response from the request.\n",
    "\n",
    "    Raises:\n",
    "        urllib2.HTTPError: An error occurs from the HTTP request.\n",
    "    \"\"\"\n",
    "    url_params = url_params or {}\n",
    "    url = 'http://{0}{1}?'.format(host, urllib.quote(path.encode('utf8')))\n",
    "\n",
    "    consumer = oauth2.Consumer(CONSUMER_KEY, CONSUMER_SECRET)\n",
    "    oauth_request = oauth2.Request(method=\"GET\", url=url, parameters=url_params)\n",
    "\n",
    "    oauth_request.update(\n",
    "        {\n",
    "            'oauth_nonce': oauth2.generate_nonce(),\n",
    "            'oauth_timestamp': oauth2.generate_timestamp(),\n",
    "            'oauth_token': TOKEN,\n",
    "            'oauth_consumer_key': CONSUMER_KEY\n",
    "        }\n",
    "    )\n",
    "    token = oauth2.Token(TOKEN, TOKEN_SECRET)\n",
    "    oauth_request.sign_request(oauth2.SignatureMethod_HMAC_SHA1(), consumer, token)\n",
    "    signed_url = oauth_request.to_url()\n",
    "\n",
    "    conn = urllib2.urlopen(signed_url, None)\n",
    "    try:\n",
    "        response = json.loads(conn.read())\n",
    "    finally:\n",
    "        conn.close()\n",
    "\n",
    "    return response\n",
    "\n",
    "def search(term, location, search_limit=20, offset=0):\n",
    "    \"\"\"Query the Search API by a search term and location.\n",
    "\n",
    "    Args:\n",
    "        term (str): The search term passed to the API.\n",
    "        location (str): The search location passed to the API.\n",
    "\n",
    "    Returns:\n",
    "        dict: The JSON response from the request.\n",
    "    \"\"\"\n",
    "\n",
    "    url_params = {\n",
    "        'term': term.replace(' ', '+'),\n",
    "        'location': location.replace(' ', '+'),\n",
    "        'limit': search_limit,\n",
    "        'offset': offset\n",
    "    }\n",
    "    return request(API_HOST, SEARCH_PATH, url_params=url_params)\n",
    "\n"
   ]
  },
  {
   "cell_type": "code",
   "execution_count": 158,
   "metadata": {
    "collapsed": true
   },
   "outputs": [],
   "source": [
    "categories = {'asian': ['Japanese', 'Korean', 'Vietnamese', 'Indonesian', 'Chinese'],\n",
    "              'American': ['American', 'Pub', 'Burger'],\n",
    "              'Other': ['Mexican', 'Middle Eastern']}"
   ]
  },
  {
   "cell_type": "code",
   "execution_count": 159,
   "metadata": {
    "collapsed": false
   },
   "outputs": [
    {
     "name": "stdout",
     "output_type": "stream",
     "text": [
      "Querying http://api.yelp.com/v2/search/? ...\n",
      "Querying http://api.yelp.com/v2/search/? ...\n",
      "Querying http://api.yelp.com/v2/search/? ...\n",
      "Querying http://api.yelp.com/v2/search/? ...\n",
      "Querying http://api.yelp.com/v2/search/? ...\n",
      "Querying http://api.yelp.com/v2/search/? ...\n",
      "Querying http://api.yelp.com/v2/search/? ...\n",
      "Querying http://api.yelp.com/v2/search/? ...\n",
      "Querying http://api.yelp.com/v2/search/? ...\n",
      "Querying http://api.yelp.com/v2/search/? ...\n"
     ]
    }
   ],
   "source": [
    "Results = {c: {subgroup: search(subgroup, 'Madison, WI') for subgroup in group} for c, group in categories.iteritems()} \n",
    "#Japanese = search('Japanese', 'Madison, WI')"
   ]
  },
  {
   "cell_type": "code",
   "execution_count": 187,
   "metadata": {
    "collapsed": false
   },
   "outputs": [
    {
     "name": "stdout",
     "output_type": "stream",
     "text": [
      "Burger\n",
      "3.95\n",
      "American\n",
      "3.95\n",
      "Pub\n",
      "3.95\n",
      "Mexican\n",
      "3.85\n",
      "Middle Eastern\n",
      "3.875\n",
      "Korean\n",
      "3.66666666667\n",
      "Indonesian\n",
      "3.5\n",
      "Japanese\n",
      "3.675\n",
      "Chinese\n",
      "3.65\n",
      "Vietnamese\n",
      "3.6875\n"
     ]
    }
   ],
   "source": [
    "Results_V = {}\n",
    "for name, category in Results.iteritems():\n",
    "    for i, (subname, subcategory) in enumerate(category.iteritems()):\n",
    "        Results_V[subname] = []\n",
    "        print subname\n",
    "        for j, business in enumerate(subcategory['businesses']):\n",
    "            Results_V[subname].append(float(business['rating']))\n",
    "        print np.mean(Results_V[subname])\n"
   ]
  },
  {
   "cell_type": "code",
   "execution_count": 191,
   "metadata": {
    "collapsed": false
   },
   "outputs": [
    {
     "data": {
      "text/plain": [
       "[<matplotlib.text.Text at 0x10c17f290>,\n",
       " <matplotlib.text.Text at 0x10c08e8d0>,\n",
       " <matplotlib.text.Text at 0x10c315590>,\n",
       " <matplotlib.text.Text at 0x10c315cd0>,\n",
       " <matplotlib.text.Text at 0x10c31f450>,\n",
       " <matplotlib.text.Text at 0x10c31fb90>,\n",
       " <matplotlib.text.Text at 0x10c329310>,\n",
       " <matplotlib.text.Text at 0x10c329a50>,\n",
       " <matplotlib.text.Text at 0x10c3331d0>,\n",
       " <matplotlib.text.Text at 0x10c333910>]"
      ]
     },
     "execution_count": 191,
     "metadata": {},
     "output_type": "execute_result"
    },
    {
     "data": {
      "image/png": "[encoded data removed]",
      "text/plain": [
       "<matplotlib.figure.Figure at 0x10af40710>"
      ]
     },
     "metadata": {},
     "output_type": "display_data"
    }
   ],
   "source": [
    "fig, axis = plt.subplots(1, figsize=(5, 5))\n",
    "\n",
    "axis.boxplot([v for k, v in Results_V.iteritems()])\n",
    "axis.set_xticklabels([k for k, v in Results_V.iteritems()], rotation='vertical')\n"
   ]
  },
  {
   "cell_type": "code",
   "execution_count": 212,
   "metadata": {
    "collapsed": false
   },
   "outputs": [
    {
     "name": "stdout",
     "output_type": "stream",
     "text": [
      "Querying http://api.yelp.com/v2/search/? ...\n",
      "Querying http://api.yelp.com/v2/search/? ...\n",
      "Querying http://api.yelp.com/v2/search/? ...\n",
      "Querying http://api.yelp.com/v2/search/? ...\n",
      "Querying http://api.yelp.com/v2/search/? ...\n",
      "Querying http://api.yelp.com/v2/search/? ...\n",
      "Querying http://api.yelp.com/v2/search/? ...\n",
      "Querying http://api.yelp.com/v2/search/? ...\n",
      "Querying http://api.yelp.com/v2/search/? ...\n",
      "Querying http://api.yelp.com/v2/search/? ...\n",
      "Querying http://api.yelp.com/v2/search/? ...\n",
      "Querying http://api.yelp.com/v2/search/? ...\n",
      "Querying http://api.yelp.com/v2/search/? ...\n",
      "Querying http://api.yelp.com/v2/search/? ...\n",
      "Querying http://api.yelp.com/v2/search/? ...\n",
      "Querying http://api.yelp.com/v2/search/? ...\n",
      "Querying http://api.yelp.com/v2/search/? ...\n",
      "Querying http://api.yelp.com/v2/search/? ...\n",
      "Querying http://api.yelp.com/v2/search/? ...\n",
      "Querying http://api.yelp.com/v2/search/? ...\n",
      "Querying http://api.yelp.com/v2/search/? ...\n",
      "Querying http://api.yelp.com/v2/search/? ...\n",
      "Querying http://api.yelp.com/v2/search/? ...\n",
      "Querying http://api.yelp.com/v2/search/? ...\n",
      "Querying http://api.yelp.com/v2/search/? ...\n",
      "Querying http://api.yelp.com/v2/search/? ...\n",
      "Querying http://api.yelp.com/v2/search/? ...\n",
      "Querying http://api.yelp.com/v2/search/? ...\n",
      "Querying http://api.yelp.com/v2/search/? ...\n",
      "Querying http://api.yelp.com/v2/search/? ...\n",
      "Querying http://api.yelp.com/v2/search/? ...\n",
      "Querying http://api.yelp.com/v2/search/? ...\n",
      "Querying http://api.yelp.com/v2/search/? ...\n",
      "Querying http://api.yelp.com/v2/search/? ...\n",
      "Querying http://api.yelp.com/v2/search/? ...\n",
      "Querying http://api.yelp.com/v2/search/? ...\n",
      "Querying http://api.yelp.com/v2/search/? ...\n",
      "Querying http://api.yelp.com/v2/search/? ...\n",
      "Querying http://api.yelp.com/v2/search/? ...\n",
      "Querying http://api.yelp.com/v2/search/? ...\n",
      "Querying http://api.yelp.com/v2/search/? ...\n",
      "Querying http://api.yelp.com/v2/search/? ...\n",
      "Querying http://api.yelp.com/v2/search/? ...\n",
      "Querying http://api.yelp.com/v2/search/? ...\n",
      "Querying http://api.yelp.com/v2/search/? ...\n",
      "Querying http://api.yelp.com/v2/search/? ...\n",
      "Querying http://api.yelp.com/v2/search/? ...\n",
      "Querying http://api.yelp.com/v2/search/? ...\n",
      "Querying http://api.yelp.com/v2/search/? ...\n",
      "Querying http://api.yelp.com/v2/search/? ...\n",
      "Querying http://api.yelp.com/v2/search/? ...\n",
      "Querying http://api.yelp.com/v2/search/? ...\n",
      "Querying http://api.yelp.com/v2/search/? ...\n",
      "Querying http://api.yelp.com/v2/search/? ...\n",
      "Querying http://api.yelp.com/v2/search/? ...\n",
      "Querying http://api.yelp.com/v2/search/? ...\n",
      "Querying http://api.yelp.com/v2/search/? ...\n",
      "Querying http://api.yelp.com/v2/search/? ...\n",
      "Querying http://api.yelp.com/v2/search/? ...\n",
      "Querying http://api.yelp.com/v2/search/? ...\n",
      "Querying http://api.yelp.com/v2/search/? ...\n",
      "Querying http://api.yelp.com/v2/search/? ...\n",
      "Querying http://api.yelp.com/v2/search/? ...\n",
      "Querying http://api.yelp.com/v2/search/? ...\n",
      "Querying http://api.yelp.com/v2/search/? ...\n",
      "Querying http://api.yelp.com/v2/search/? ...\n",
      "Querying http://api.yelp.com/v2/search/? ...\n",
      "Querying http://api.yelp.com/v2/search/? ...\n",
      "Querying http://api.yelp.com/v2/search/? ...\n",
      "Querying http://api.yelp.com/v2/search/? ...\n",
      "Querying http://api.yelp.com/v2/search/? ...\n",
      "Querying http://api.yelp.com/v2/search/? ...\n",
      "Querying http://api.yelp.com/v2/search/? ...\n"
     ]
    }
   ],
   "source": [
    "results = {}\n",
    "categories = ['Japanese', 'Korean', 'Vietnamese', 'Indonesian', 'Chinese', 'American', 'Pub', 'Burger', 'Mexican', 'Middle Eastern', 'Gastro pub']\n",
    "for cat in categories:\n",
    "    temp = search(cat, 'Madison, WI')\n",
    "    sz = len(temp['businesses'])\n",
    "    tot = temp['total']\n",
    "    results[cat] = []\n",
    "    for t in temp['businesses']:\n",
    "        results[cat].append(t)\n",
    "    for off in xrange(sz, tot, 20):\n",
    "        temp = search(cat, 'Madison, WI', offset=off)\n",
    "        for t in temp['businesses']:\n",
    "            results[cat].append(t)\n",
    "        \n",
    "             "
   ]
  },
  {
   "cell_type": "code",
   "execution_count": 216,
   "metadata": {
    "collapsed": false
   },
   "outputs": [
    {
     "name": "stdout",
     "output_type": "stream",
     "text": [
      "Indonesian\n",
      "3.5\n",
      "Mexican\n",
      "3.31012658228\n",
      "Chinese\n",
      "3.23333333333\n",
      "Vietnamese\n",
      "3.6875\n",
      "Japanese\n",
      "3.52083333333\n",
      "Pub\n",
      "3.56944444444\n",
      "Middle Eastern\n",
      "3.875\n",
      "Burger\n",
      "3.41329479769\n",
      "American\n",
      "3.41713221601\n",
      "Gastro pub\n",
      "3.77586206897\n",
      "Korean\n",
      "3.66666666667\n"
     ]
    }
   ],
   "source": [
    "results_V = {}\n",
    "for name, category in results.iteritems():\n",
    "    results_V[name] = []\n",
    "    print name\n",
    "    for j, business in enumerate(category):\n",
    "        results_V[name].append(float(business['rating']))\n",
    "    print np.mean(results_V[name])\n"
   ]
  },
  {
   "cell_type": "code",
   "execution_count": 217,
   "metadata": {
    "collapsed": false
   },
   "outputs": [
    {
     "data": {
      "text/plain": [
       "[<matplotlib.text.Text at 0x10ed72ed0>,\n",
       " <matplotlib.text.Text at 0x10ed97f90>,\n",
       " <matplotlib.text.Text at 0x10efa2550>,\n",
       " <matplotlib.text.Text at 0x10efa2c90>,\n",
       " <matplotlib.text.Text at 0x10efad410>,\n",
       " <matplotlib.text.Text at 0x10efadb50>,\n",
       " <matplotlib.text.Text at 0x10efb82d0>,\n",
       " <matplotlib.text.Text at 0x10efb8a10>,\n",
       " <matplotlib.text.Text at 0x10efc2190>,\n",
       " <matplotlib.text.Text at 0x10efc28d0>,\n",
       " <matplotlib.text.Text at 0x10efcc050>]"
      ]
     },
     "execution_count": 217,
     "metadata": {},
     "output_type": "execute_result"
    },
    {
     "data": {
      "image/png": "[encoded data removed]",
      "text/plain": [
       "<matplotlib.figure.Figure at 0x10ec39d50>"
      ]
     },
     "metadata": {},
     "output_type": "display_data"
    }
   ],
   "source": [
    "fig, axis = plt.subplots(1, figsize=(5, 5))\n",
    "\n",
    "axis.boxplot([v for k, v in results_V.iteritems()])\n",
    "axis.set_xticklabels([k for k, v in results_V.iteritems()], rotation='vertical')\n"
   ]
  },
  {
   "cell_type": "code",
   "execution_count": 222,
   "metadata": {
    "collapsed": false
   },
   "outputs": [
    {
     "name": "stdout",
     "output_type": "stream",
     "text": [
      "Querying http://api.yelp.com/v2/search/? ...\n",
      "Querying http://api.yelp.com/v2/search/? ...\n",
      "Querying http://api.yelp.com/v2/search/? ...\n",
      "Querying http://api.yelp.com/v2/search/? ...\n",
      "Querying http://api.yelp.com/v2/search/? ...\n",
      "Querying http://api.yelp.com/v2/search/? ...\n",
      "Querying http://api.yelp.com/v2/search/? ...\n",
      "Querying http://api.yelp.com/v2/search/? ...\n",
      "Querying http://api.yelp.com/v2/search/? ...\n",
      "Querying http://api.yelp.com/v2/search/? ...\n",
      "Querying http://api.yelp.com/v2/search/? ...\n",
      "Querying http://api.yelp.com/v2/search/? ...\n",
      "Querying http://api.yelp.com/v2/search/? ...\n",
      "Querying http://api.yelp.com/v2/search/? ...\n",
      "Querying http://api.yelp.com/v2/search/? ...\n",
      "Querying http://api.yelp.com/v2/search/? ...\n",
      "Querying http://api.yelp.com/v2/search/? ...\n",
      "Querying http://api.yelp.com/v2/search/? ...\n",
      "Querying http://api.yelp.com/v2/search/? ...\n",
      "Querying http://api.yelp.com/v2/search/? ...\n",
      "Querying http://api.yelp.com/v2/search/? ...\n",
      "Querying http://api.yelp.com/v2/search/? ...\n",
      "Querying http://api.yelp.com/v2/search/? ...\n",
      "Querying http://api.yelp.com/v2/search/? ...\n",
      "Querying http://api.yelp.com/v2/search/? ...\n",
      "Querying http://api.yelp.com/v2/search/? ...\n",
      "Querying http://api.yelp.com/v2/search/? ...\n",
      "Querying http://api.yelp.com/v2/search/? ...\n",
      "Querying http://api.yelp.com/v2/search/? ...\n",
      "Querying http://api.yelp.com/v2/search/? ...\n",
      "Querying http://api.yelp.com/v2/search/? ...\n",
      "Querying http://api.yelp.com/v2/search/? ...\n",
      "Querying http://api.yelp.com/v2/search/? ...\n",
      "Querying http://api.yelp.com/v2/search/? ...\n",
      "Querying http://api.yelp.com/v2/search/? ...\n",
      "Querying http://api.yelp.com/v2/search/? ...\n",
      "Querying http://api.yelp.com/v2/search/? ...\n",
      "Querying http://api.yelp.com/v2/search/? ...\n",
      "American\n",
      "3.40823970037\n",
      "Asian\n",
      "3.41884816754\n"
     ]
    }
   ],
   "source": [
    "results_lim = {}\n",
    "categories = ['Asian', 'American']\n",
    "for cat in categories:\n",
    "    temp = search(cat, 'Madison, WI')\n",
    "    sz = len(temp['businesses'])\n",
    "    tot = temp['total']\n",
    "    results_lim[cat] = []\n",
    "    for t in temp['businesses']:\n",
    "        results_lim[cat].append(t)\n",
    "    for off in xrange(sz, tot, 20):\n",
    "        temp = search(cat, 'Madison, WI', offset=off)\n",
    "        for t in temp['businesses']:\n",
    "            results_lim[cat].append(t)\n",
    "            \n",
    "results_lim_V = {}\n",
    "for name, category in results_lim.iteritems():\n",
    "    results_lim_V[name] = []\n",
    "    print name\n",
    "    for j, business in enumerate(category):\n",
    "        results_lim_V[name].append(float(business['rating']))\n",
    "    print np.mean(results_lim_V[name])\n"
   ]
  },
  {
   "cell_type": "code",
   "execution_count": 256,
   "metadata": {
    "collapsed": false
   },
   "outputs": [
    {
     "data": {
      "image/png": "[encoded data removed]",
      "text/plain": [
       "<matplotlib.figure.Figure at 0x1118d3e90>"
      ]
     },
     "metadata": {},
     "output_type": "display_data"
    }
   ],
   "source": [
    "colors = ['#1b9e77', '#d95f02']\n",
    "\n",
    "fig, axis = plt.subplots(1, figsize=(5, 5))\n",
    "for i, (k, v) in enumerate(results_lim_V.iteritems()):\n",
    "    hist, bins = np.histogram(v, bins=[0.9, 1.4, 1.9, 2.4, 2.9, 3.4, 3.9, 4.4, 4.9, 5.4])\n",
    "    hist = hist.astype('float')/np.sum(hist)\n",
    "    axis.bar(np.array([0.9, 1.4, 1.9, 2.4, 2.9, 3.4, 3.9, 4.4, 4.9])+0.20*i,\n",
    "             hist, label=k, width=0.20, color=colors[i])\n",
    "    \n",
    "axis.legend(loc='upper left')\n",
    "axis.set_xlabel('Ratings', fontsize=15)\n",
    "axis.set_ylabel('Share', fontsize=15)\n",
    "plt.savefig('Yelp_Ratings.pdf', dpi=600)"
   ]
  },
  {
   "cell_type": "code",
   "execution_count": 273,
   "metadata": {
    "collapsed": false
   },
   "outputs": [
    {
     "name": "stdout",
     "output_type": "stream",
     "text": [
      "Skew: Asian: -0.703284, American: -0.680704\n",
      "Kurtosis: Asian: 1.35266, American: 0.903095\n"
     ]
    }
   ],
   "source": [
    "print \"Skew: Asian: {:g}, American: {:g}\".format(stats.skew(results_lim_V['Asian']),\n",
    "                                                 stats.skew(results_lim_V['American']))\n",
    "print \"Kurtosis: Asian: {:g}, American: {:g}\".format(stats.kurtosis(results_lim_V['Asian']),\n",
    "                                                 stats.kurtosis(results_lim_V['American']))"
   ]
  },
  {
   "cell_type": "code",
   "execution_count": 270,
   "metadata": {
    "collapsed": false
   },
   "outputs": [
    {
     "data": {
      "image/png": "[encoded data removed]",
      "text/plain": [
       "<matplotlib.figure.Figure at 0x11328f850>"
      ]
     },
     "metadata": {},
     "output_type": "display_data"
    }
   ],
   "source": [
    "colors = ['#1b9e77', '#d95f02']\n",
    "\n",
    "test_samples = {}\n",
    "\n",
    "fig, axis = plt.subplots(1, figsize=(5, 5))\n",
    "for i, (k, v) in enumerate(results_lim_V.iteritems()):\n",
    "    hist, bins = np.histogram(v, bins=[0.9, 1.4, 1.9, 2.4, 2.9, 3.4, 3.9, 4.4, 4.9, 5.4])\n",
    "    hist = hist.astype('float')/np.sum(hist)\n",
    "    hist = np.cumsum(hist)\n",
    "    test_samples[k] = hist\n",
    "    axis.step([1, 1.5, 2, 2.5, 3, 3.5, 4, 4.5, 5], hist, color=colors[i], label=k)\n",
    "\n",
    "axis.legend(loc='upper left')\n",
    "axis.set_xlabel('Ratings', fontsize=15)\n",
    "axis.set_ylabel('Cumulative Share', fontsize=15)\n",
    "plt.savefig('Yelp_Ratings_Cumulative.pdf', dpi=600)"
   ]
  },
  {
   "cell_type": "code",
   "execution_count": 276,
   "metadata": {
    "collapsed": false
   },
   "outputs": [
    {
     "name": "stdout",
     "output_type": "stream",
     "text": [
      "Test statistic: 0.111111, p-value: 1\n"
     ]
    }
   ],
   "source": [
    "print \"Test statistic: {:g}, p-value: {:g}\".format(*stats.ks_2samp(test_samples['Asian'], test_samples['American']))"
   ]
  },
  {
   "cell_type": "code",
   "execution_count": null,
   "metadata": {
    "collapsed": true
   },
   "outputs": [],
   "source": []
  }
 ],
 "metadata": {
  "kernelspec": {
   "display_name": "Python 2",
   "language": "python",
   "name": "python2"
  },
  "language_info": {
   "codemirror_mode": {
    "name": "ipython",
    "version": 2
   },
   "file_extension": ".py",
   "mimetype": "text/x-python",
   "name": "python",
   "nbconvert_exporter": "python",
   "pygments_lexer": "ipython2",
   "version": "2.7.10"
  }
 },
 "nbformat": 4,
 "nbformat_minor": 0
}
