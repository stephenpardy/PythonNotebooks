{
 "cells": [
  {
   "cell_type": "code",
   "execution_count": 1,
   "metadata": {
    "collapsed": true
   },
   "outputs": [],
   "source": [
    "import numpy as np\n",
    "import matplotlib.pyplot as plt\n",
    "from scipy import stats\n",
    "\n",
    "import argparse\n",
    "import json\n",
    "import pprint\n",
    "import sys\n",
    "import urllib\n",
    "import urllib2\n",
    "\n",
    "import oauth2\n",
    "\n",
    "from collections import defaultdict\n",
    "\n",
    "%matplotlib inline"
   ]
  },
  {
   "cell_type": "code",
   "execution_count": 34,
   "metadata": {
    "collapsed": false
   },
   "outputs": [],
   "source": [
    "API_HOST = 'api.yelp.com'\n",
    "SEARCH_PATH = '/v2/search/'\n",
    "BUSINESS_PATH = '/v2/business/'\n",
    "\n",
    "with file('/Users/spardy/.config/OAUTHS/Yelp.json') as f:\n",
    "    KEYS = json.load(f)\n",
    "\n",
    "CONSUMER_KEY = KEYS['CONSUMER_KEY']\n",
    "CONSUMER_SECRET = KEYS['CONSUMER_SECRET']\n",
    "TOKEN = KEYS['TOKEN']\n",
    "TOKEN_SECRET = KEYS['TOKEN_SECRET']\n",
    "\n",
    "\n",
    "def request(host, path, url_params=None):\n",
    "    \"\"\"Prepares OAuth authentication and sends the request to the API.\n",
    "\n",
    "    Args:\n",
    "        host (str): The domain host of the API.\n",
    "        path (str): The path of the API after the domain.\n",
    "        url_params (dict): An optional set of query parameters in the request.\n",
    "\n",
    "    Returns:\n",
    "        dict: The JSON response from the request.\n",
    "\n",
    "    Raises:\n",
    "        urllib2.HTTPError: An error occurs from the HTTP request.\n",
    "    \"\"\"\n",
    "    url_params = url_params or {}\n",
    "    url = 'http://{0}{1}?'.format(host, urllib.quote(path.encode('utf8')))\n",
    "\n",
    "    consumer = oauth2.Consumer(CONSUMER_KEY, CONSUMER_SECRET)\n",
    "    oauth_request = oauth2.Request(method=\"GET\", url=url, parameters=url_params)\n",
    "\n",
    "    oauth_request.update(\n",
    "        {\n",
    "            'oauth_nonce': oauth2.generate_nonce(),\n",
    "            'oauth_timestamp': oauth2.generate_timestamp(),\n",
    "            'oauth_token': TOKEN,\n",
    "            'oauth_consumer_key': CONSUMER_KEY\n",
    "        }\n",
    "    )\n",
    "    token = oauth2.Token(TOKEN, TOKEN_SECRET)\n",
    "    oauth_request.sign_request(oauth2.SignatureMethod_HMAC_SHA1(), consumer, token)\n",
    "    signed_url = oauth_request.to_url()\n",
    "\n",
    "    conn = urllib2.urlopen(signed_url, None)\n",
    "    try:\n",
    "        response = json.loads(conn.read())\n",
    "    finally:\n",
    "        conn.close()\n",
    "\n",
    "    return response\n",
    "\n",
    "def search(term, location, search_limit=20, offset=0):\n",
    "    \"\"\"Query the Search API by a search term and location.\n",
    "\n",
    "    Args:\n",
    "        term (str): The search term passed to the API.\n",
    "        location (str): The search location passed to the API.\n",
    "\n",
    "    Returns:\n",
    "        dict: The JSON response from the request.\n",
    "    \"\"\"\n",
    "\n",
    "    url_params = {\n",
    "        'term': term.replace(' ', '+'),\n",
    "        'location': location.replace(' ', '+'),\n",
    "        'limit': search_limit,\n",
    "        'offset': offset\n",
    "    }\n",
    "    return request(API_HOST, SEARCH_PATH, url_params=url_params)\n",
    "\n"
   ]
  },
  {
   "cell_type": "code",
   "execution_count": 28,
   "metadata": {
    "collapsed": true
   },
   "outputs": [],
   "source": [
    "results = [search('Restaurant', 'Madison, WI', offset=i*20) for i in xrange(50)]"
   ]
  },
  {
   "cell_type": "code",
   "execution_count": 29,
   "metadata": {
    "collapsed": false
   },
   "outputs": [],
   "source": [
    "c = {}\n",
    "for result in results:\n",
    "    for business in result['businesses']:\n",
    "        name = business['name']\n",
    "        if name in c.keys():\n",
    "            c[name] += 1\n",
    "        else:\n",
    "            c[name] = 1"
   ]
  },
  {
   "cell_type": "code",
   "execution_count": 2,
   "metadata": {
    "collapsed": false
   },
   "outputs": [],
   "source": [
    "dataset = []\n",
    "with file('/Users/spardy/Data/yelp_academic_dataset_business.json') as f:\n",
    "    for line in f:\n",
    "        dataset.append(json.loads(line))"
   ]
  },
  {
   "cell_type": "code",
   "execution_count": 3,
   "metadata": {
    "collapsed": false
   },
   "outputs": [],
   "source": [
    "madison_businesses = [datum for datum in dataset if datum['city'] == 'Madison']"
   ]
  },
  {
   "cell_type": "code",
   "execution_count": 4,
   "metadata": {
    "collapsed": false
   },
   "outputs": [],
   "source": [
    "madison_restaurants = [business for business in madison_businesses if ('Restaurants' in business['categories'])]"
   ]
  },
  {
   "cell_type": "code",
   "execution_count": 35,
   "metadata": {
    "collapsed": false
   },
   "outputs": [],
   "source": [
    "stars = defaultdict(list)\n",
    "for restaurant in madison_restaurants:\n",
    "    categories = restaurant['categories']\n",
    "    for category in categories:\n",
    "        stars[category].append(restaurant['stars'])\n",
    "        \n",
    "all_stars = np.concatenate(stars.values())"
   ]
  },
  {
   "cell_type": "code",
   "execution_count": 6,
   "metadata": {
    "collapsed": true
   },
   "outputs": [],
   "source": [
    "from snaptools import CBcm"
   ]
  },
  {
   "cell_type": "code",
   "execution_count": 7,
   "metadata": {
    "collapsed": false
   },
   "outputs": [
    {
     "data": {
      "text/plain": [
       "(0.0, 0.44823529411764707, 0.69725490196078432, 1.0)"
      ]
     },
     "execution_count": 7,
     "metadata": {},
     "output_type": "execute_result"
    }
   ],
   "source": [
    "CBcm.make_color_maps()[0]['BlBu'](254)"
   ]
  },
  {
   "cell_type": "code",
   "execution_count": 8,
   "metadata": {
    "collapsed": false
   },
   "outputs": [
    {
     "data": {
      "text/plain": [
       "<matplotlib.legend.Legend at 0x12f5fdf90>"
      ]
     },
     "execution_count": 8,
     "metadata": {},
     "output_type": "execute_result"
    },
    {
     "data": {
      "image/png": "[encoded data removed]",
      "text/plain": [
       "<matplotlib.figure.Figure at 0x12f513650>"
      ]
     },
     "metadata": {},
     "output_type": "display_data"
    }
   ],
   "source": [
    "fig, axis = plt.subplots(1, figsize=(10, 5))\n",
    "\n",
    "from itertools import cycle\n",
    "\n",
    "colors = cycle(['#66c2a5','#fc8d62','#8da0cb','#e78ac3','#a6d854','#ffd92f','#e5c494','#b3b3b3'])\n",
    "\n",
    "cutoff = 50\n",
    "for i, (category, v) in enumerate(stars.iteritems()):\n",
    "    if len(v) < cutoff or category == 'Food':\n",
    "        continue\n",
    "\n",
    "    axis.plot(sorted(v),\n",
    "              np.cumsum(sorted(v))/np.sum(v), color=colors.next(),\n",
    "              label=category)\n",
    "\n",
    "axis.plot(sorted(stars['Restaurants']),\n",
    "          np.cumsum(sorted(stars['Restaurants']))/np.sum(stars['Restaurants']),\n",
    "          label='All Restaurants', color='black', linewidth=3)\n",
    "    \n",
    "axis.legend(loc='upper left', ncol=2)\n"
   ]
  },
  {
   "cell_type": "code",
   "execution_count": 12,
   "metadata": {
    "collapsed": false
   },
   "outputs": [
    {
     "data": {
      "text/plain": [
       "806"
      ]
     },
     "execution_count": 12,
     "metadata": {},
     "output_type": "execute_result"
    }
   ],
   "source": [
    "len(stars['Restaurants'])"
   ]
  },
  {
   "cell_type": "code",
   "execution_count": 38,
   "metadata": {
    "collapsed": false
   },
   "outputs": [
    {
     "data": {
      "image/png": "[encoded data removed]",
      "text/plain": [
       "<matplotlib.figure.Figure at 0x12f978890>"
      ]
     },
     "metadata": {},
     "output_type": "display_data"
    }
   ],
   "source": [
    "fig, axis = plt.subplots(1, figsize=(10, 5))\n",
    "\n",
    "cutoff = 10\n",
    "\n",
    "axis.boxplot([v for k, v in stars.iteritems() if len(v) > cutoff])\n",
    "labels = axis.set_xticklabels([k for k, v in stars.iteritems()  if len(v) > cutoff], rotation='vertical')\n"
   ]
  },
  {
   "cell_type": "code",
   "execution_count": 39,
   "metadata": {
    "collapsed": false
   },
   "outputs": [
    {
     "name": "stdout",
     "output_type": "stream",
     "text": [
      "KS for Sandwiches: 0.0977719, p-value: 0.36554\n",
      "KS for Sushi Bars: 0.0679584, p-value: 0.999999\n",
      "KS for Dive Bars: 0.202152, p-value: 0.614513\n",
      "KS for Italian: 0.0990154, p-value: 0.722315\n",
      "KS for Salad: 0.295585, p-value: 0.0843204\n",
      "KS for Nightlife: 0.0489268, p-value: 0.898565\n",
      "KS for Thai: 0.151292, p-value: 0.773523\n",
      "KS for Restaurants: 0.0135229, p-value: 0.99985\n",
      "KS for Steakhouses: 0.119849, p-value: 0.877956\n",
      "KS for Mediterranean: 0.206847, p-value: 0.178822\n",
      "KS for Delis: 0.062958, p-value: 0.999993\n",
      "KS for Tex-Mex: 0.451272, p-value: 0.00656375\n",
      "KS for Event Planning & Services: 0.318405, p-value: 0.175673\n",
      "KS for Chicken Wings: 0.413233, p-value: 0.00581218\n",
      "KS for American (New): 0.142323, p-value: 0.106716\n",
      "KS for Breakfast & Brunch: 0.0414174, p-value: 0.999992\n",
      "KS for Coffee & Tea: 0.248993, p-value: 0.0472249\n",
      "KS for Lounges: 0.164112, p-value: 0.843849\n",
      "KS for Cafes: 0.297294, p-value: 0.00196791\n",
      "KS for Burgers: 0.110751, p-value: 0.597476\n",
      "KS for Ice Cream & Frozen Yogurt: 0.163233, p-value: 0.878556\n",
      "KS for Bars: 0.0551006, p-value: 0.806807\n",
      "KS for Chinese: 0.130214, p-value: 0.319903\n",
      "KS for Greek: 0.0798992, p-value: 0.999997\n",
      "KS for Asian Fusion: 0.175137, p-value: 0.504607\n",
      "KS for Food Trucks: 0.580151, p-value: 0.00124681\n",
      "KS for Indian: 0.255458, p-value: 0.214317\n",
      "KS for Barbeque: 0.144045, p-value: 0.822106\n",
      "KS for Vegan: 0.380151, p-value: 0.0840955\n",
      "KS for Pubs: 0.089387, p-value: 0.934578\n",
      "KS for Sports Bars: 0.442042, p-value: 7.14837e-05\n",
      "KS for Bakeries: 0.327508, p-value: 0.00470984\n",
      "KS for Vegetarian: 0.117958, p-value: 0.978615\n",
      "KS for Fast Food: 0.302763, p-value: 0.000298809\n",
      "KS for Pizza: 0.110613, p-value: 0.417319\n",
      "KS for Food: 0.190541, p-value: 0.0010075\n",
      "KS for Seafood: 0.117958, p-value: 0.930044\n",
      "KS for Mexican: 0.12965, p-value: 0.206395\n",
      "KS for American (Traditional): 0.15618, p-value: 0.00772697\n",
      "KS for Japanese: 0.0570888, p-value: 0.999999\n",
      "Cuttoff is : 0.00125\n"
     ]
    }
   ],
   "source": [
    "counter = 0.  # Bonferroni Correction\n",
    "pval = 0.05\n",
    "for k, v in stars.iteritems():\n",
    "    if len(v) < cutoff:\n",
    "        continue\n",
    "    counter += 1.\n",
    "    print \"KS for {:s}: \".format(k) +\\\n",
    "          \"{:g}, p-value: {:g}\".format(*stats.ks_2samp(sorted(v), sorted(all_stars)))\n",
    "        \n",
    "print \"Cuttoff is : {:3.5f}\".format(pval/counter)"
   ]
  },
  {
   "cell_type": "code",
   "execution_count": 43,
   "metadata": {
    "collapsed": false
   },
   "outputs": [
    {
     "data": {
      "image/png": "[encoded data removed]",
      "text/plain": [
       "<matplotlib.figure.Figure at 0x13159f7d0>"
      ]
     },
     "metadata": {},
     "output_type": "display_data"
    }
   ],
   "source": [
    "fig, axis = plt.subplots(1, figsize=(10, 5))\n",
    "\n",
    "names = ['Food Trucks', 'Fast Food', 'Sports Bars']\n",
    "\n",
    "axis.boxplot([stars[name] for name in names])\n",
    "labels = axis.set_xticklabels(names, rotation='vertical')\n"
   ]
  },
  {
   "cell_type": "code",
   "execution_count": 44,
   "metadata": {
    "collapsed": false
   },
   "outputs": [
    {
     "data": {
      "text/plain": [
       "<matplotlib.legend.Legend at 0x131516dd0>"
      ]
     },
     "execution_count": 44,
     "metadata": {},
     "output_type": "execute_result"
    },
    {
     "data": {
      "image/png": "[encoded data removed]",
      "text/plain": [
       "<matplotlib.figure.Figure at 0x131516f90>"
      ]
     },
     "metadata": {},
     "output_type": "display_data"
    }
   ],
   "source": [
    "fig, axis = plt.subplots(1, figsize=(10, 5))\n",
    "\n",
    "from itertools import cycle\n",
    "\n",
    "colors = ['#66c2a5','#fc8d62','#8da0cb','#e78ac3','#a6d854','#ffd92f','#e5c494','#b3b3b3']\n",
    "\n",
    "cutoff = 50\n",
    "for i, name in enumerate(names):\n",
    "    v = stars[name]\n",
    "    hist, bins = np.histogram(v, bins=[0.9, 1.4, 1.9, 2.4, 2.9, 3.4, 3.9, 4.4, 4.9, 5.4])\n",
    "    hist = hist.astype('float')/np.sum(hist)\n",
    "    axis.bar(np.array([0.9, 1.4, 1.9, 2.4, 2.9, 3.4, 3.9, 4.4, 4.9])+0.10*i,\n",
    "             hist, label=name, width=0.10, color=colors[i])\n",
    "\n",
    "v = all_stars\n",
    "hist, bins = np.histogram(v, bins=[0.9, 1.4, 1.9, 2.4, 2.9, 3.4, 3.9, 4.4, 4.9, 5.4])\n",
    "hist = hist.astype('float')/np.sum(hist)\n",
    "axis.bar(np.array([0.9, 1.4, 1.9, 2.4, 2.9, 3.4, 3.9, 4.4, 4.9])+0.10*4,\n",
    "         hist, label='All', width=0.10, color='black')\n",
    "\n",
    "axis.legend(loc='upper left', ncol=2)"
   ]
  },
  {
   "cell_type": "code",
   "execution_count": 71,
   "metadata": {
    "collapsed": true
   },
   "outputs": [],
   "source": [
    "categories = {'asian': ['Japanese', 'Korean', 'Vietnamese', 'Indonesian', 'Chinese'],\n",
    "              'American': ['American', 'Pub', 'Burger'],\n",
    "              'Other': ['Mexican', 'Middle Eastern']}"
   ]
  },
  {
   "cell_type": "code",
   "execution_count": 159,
   "metadata": {
    "collapsed": false
   },
   "outputs": [
    {
     "name": "stdout",
     "output_type": "stream",
     "text": [
      "Querying http://api.yelp.com/v2/search/? ...\n",
      "Querying http://api.yelp.com/v2/search/? ...\n",
      "Querying http://api.yelp.com/v2/search/? ...\n",
      "Querying http://api.yelp.com/v2/search/? ...\n",
      "Querying http://api.yelp.com/v2/search/? ...\n",
      "Querying http://api.yelp.com/v2/search/? ...\n",
      "Querying http://api.yelp.com/v2/search/? ...\n",
      "Querying http://api.yelp.com/v2/search/? ...\n",
      "Querying http://api.yelp.com/v2/search/? ...\n",
      "Querying http://api.yelp.com/v2/search/? ...\n"
     ]
    }
   ],
   "source": [
    "Results = {c: {subgroup: search(subgroup, 'Madison, WI') for subgroup in group} for c, group in categories.iteritems()} \n",
    "#Japanese = search('Japanese', 'Madison, WI')"
   ]
  },
  {
   "cell_type": "code",
   "execution_count": 187,
   "metadata": {
    "collapsed": false
   },
   "outputs": [
    {
     "name": "stdout",
     "output_type": "stream",
     "text": [
      "Burger\n",
      "3.95\n",
      "American\n",
      "3.95\n",
      "Pub\n",
      "3.95\n",
      "Mexican\n",
      "3.85\n",
      "Middle Eastern\n",
      "3.875\n",
      "Korean\n",
      "3.66666666667\n",
      "Indonesian\n",
      "3.5\n",
      "Japanese\n",
      "3.675\n",
      "Chinese\n",
      "3.65\n",
      "Vietnamese\n",
      "3.6875\n"
     ]
    }
   ],
   "source": [
    "Results_V = {}\n",
    "for name, category in Results.iteritems():\n",
    "    for i, (subname, subcategory) in enumerate(category.iteritems()):\n",
    "        Results_V[subname] = []\n",
    "        print subname\n",
    "        for j, business in enumerate(subcategory['businesses']):\n",
    "            Results_V[subname].append(float(business['rating']))\n",
    "        print np.mean(Results_V[subname])\n"
   ]
  },
  {
   "cell_type": "code",
   "execution_count": 191,
   "metadata": {
    "collapsed": false
   },
   "outputs": [
    {
     "data": {
      "text/plain": [
       "[<matplotlib.text.Text at 0x10c17f290>,\n",
       " <matplotlib.text.Text at 0x10c08e8d0>,\n",
       " <matplotlib.text.Text at 0x10c315590>,\n",
       " <matplotlib.text.Text at 0x10c315cd0>,\n",
       " <matplotlib.text.Text at 0x10c31f450>,\n",
       " <matplotlib.text.Text at 0x10c31fb90>,\n",
       " <matplotlib.text.Text at 0x10c329310>,\n",
       " <matplotlib.text.Text at 0x10c329a50>,\n",
       " <matplotlib.text.Text at 0x10c3331d0>,\n",
       " <matplotlib.text.Text at 0x10c333910>]"
      ]
     },
     "execution_count": 191,
     "metadata": {},
     "output_type": "execute_result"
    },
    {
     "data": {
      "image/png": "[encoded data removed]",
      "text/plain": [
       "<matplotlib.figure.Figure at 0x10af40710>"
      ]
     },
     "metadata": {},
     "output_type": "display_data"
    }
   ],
   "source": [
    "fig, axis = plt.subplots(1, figsize=(5, 5))\n",
    "\n",
    "axis.boxplot([v for k, v in Results_V.iteritems()])\n",
    "axis.set_xticklabels([k for k, v in Results_V.iteritems()], rotation='vertical')\n"
   ]
  },
  {
   "cell_type": "code",
   "execution_count": 212,
   "metadata": {
    "collapsed": false
   },
   "outputs": [
    {
     "name": "stdout",
     "output_type": "stream",
     "text": [
      "Querying http://api.yelp.com/v2/search/? ...\n",
      "Querying http://api.yelp.com/v2/search/? ...\n",
      "Querying http://api.yelp.com/v2/search/? ...\n",
      "Querying http://api.yelp.com/v2/search/? ...\n",
      "Querying http://api.yelp.com/v2/search/? ...\n",
      "Querying http://api.yelp.com/v2/search/? ...\n",
      "Querying http://api.yelp.com/v2/search/? ...\n",
      "Querying http://api.yelp.com/v2/search/? ...\n",
      "Querying http://api.yelp.com/v2/search/? ...\n",
      "Querying http://api.yelp.com/v2/search/? ...\n",
      "Querying http://api.yelp.com/v2/search/? ...\n",
      "Querying http://api.yelp.com/v2/search/? ...\n",
      "Querying http://api.yelp.com/v2/search/? ...\n",
      "Querying http://api.yelp.com/v2/search/? ...\n",
      "Querying http://api.yelp.com/v2/search/? ...\n",
      "Querying http://api.yelp.com/v2/search/? ...\n",
      "Querying http://api.yelp.com/v2/search/? ...\n",
      "Querying http://api.yelp.com/v2/search/? ...\n",
      "Querying http://api.yelp.com/v2/search/? ...\n",
      "Querying http://api.yelp.com/v2/search/? ...\n",
      "Querying http://api.yelp.com/v2/search/? ...\n",
      "Querying http://api.yelp.com/v2/search/? ...\n",
      "Querying http://api.yelp.com/v2/search/? ...\n",
      "Querying http://api.yelp.com/v2/search/? ...\n",
      "Querying http://api.yelp.com/v2/search/? ...\n",
      "Querying http://api.yelp.com/v2/search/? ...\n",
      "Querying http://api.yelp.com/v2/search/? ...\n",
      "Querying http://api.yelp.com/v2/search/? ...\n",
      "Querying http://api.yelp.com/v2/search/? ...\n",
      "Querying http://api.yelp.com/v2/search/? ...\n",
      "Querying http://api.yelp.com/v2/search/? ...\n",
      "Querying http://api.yelp.com/v2/search/? ...\n",
      "Querying http://api.yelp.com/v2/search/? ...\n",
      "Querying http://api.yelp.com/v2/search/? ...\n",
      "Querying http://api.yelp.com/v2/search/? ...\n",
      "Querying http://api.yelp.com/v2/search/? ...\n",
      "Querying http://api.yelp.com/v2/search/? ...\n",
      "Querying http://api.yelp.com/v2/search/? ...\n",
      "Querying http://api.yelp.com/v2/search/? ...\n",
      "Querying http://api.yelp.com/v2/search/? ...\n",
      "Querying http://api.yelp.com/v2/search/? ...\n",
      "Querying http://api.yelp.com/v2/search/? ...\n",
      "Querying http://api.yelp.com/v2/search/? ...\n",
      "Querying http://api.yelp.com/v2/search/? ...\n",
      "Querying http://api.yelp.com/v2/search/? ...\n",
      "Querying http://api.yelp.com/v2/search/? ...\n",
      "Querying http://api.yelp.com/v2/search/? ...\n",
      "Querying http://api.yelp.com/v2/search/? ...\n",
      "Querying http://api.yelp.com/v2/search/? ...\n",
      "Querying http://api.yelp.com/v2/search/? ...\n",
      "Querying http://api.yelp.com/v2/search/? ...\n",
      "Querying http://api.yelp.com/v2/search/? ...\n",
      "Querying http://api.yelp.com/v2/search/? ...\n",
      "Querying http://api.yelp.com/v2/search/? ...\n",
      "Querying http://api.yelp.com/v2/search/? ...\n",
      "Querying http://api.yelp.com/v2/search/? ...\n",
      "Querying http://api.yelp.com/v2/search/? ...\n",
      "Querying http://api.yelp.com/v2/search/? ...\n",
      "Querying http://api.yelp.com/v2/search/? ...\n",
      "Querying http://api.yelp.com/v2/search/? ...\n",
      "Querying http://api.yelp.com/v2/search/? ...\n",
      "Querying http://api.yelp.com/v2/search/? ...\n",
      "Querying http://api.yelp.com/v2/search/? ...\n",
      "Querying http://api.yelp.com/v2/search/? ...\n",
      "Querying http://api.yelp.com/v2/search/? ...\n",
      "Querying http://api.yelp.com/v2/search/? ...\n",
      "Querying http://api.yelp.com/v2/search/? ...\n",
      "Querying http://api.yelp.com/v2/search/? ...\n",
      "Querying http://api.yelp.com/v2/search/? ...\n",
      "Querying http://api.yelp.com/v2/search/? ...\n",
      "Querying http://api.yelp.com/v2/search/? ...\n",
      "Querying http://api.yelp.com/v2/search/? ...\n",
      "Querying http://api.yelp.com/v2/search/? ...\n"
     ]
    }
   ],
   "source": [
    "results = {}\n",
    "categories = ['Japanese', 'Korean', 'Vietnamese', 'Indonesian', 'Chinese', 'American', 'Pub', 'Burger', 'Mexican', 'Middle Eastern', 'Gastro pub']\n",
    "for cat in categories:\n",
    "    temp = search(cat, 'Madison, WI')\n",
    "    sz = len(temp['businesses'])\n",
    "    tot = temp['total']\n",
    "    results[cat] = []\n",
    "    for t in temp['businesses']:\n",
    "        results[cat].append(t)\n",
    "    for off in xrange(sz, tot, 20):\n",
    "        temp = search(cat, 'Madison, WI', offset=off)\n",
    "        for t in temp['businesses']:\n",
    "            results[cat].append(t)\n",
    "        \n",
    "             "
   ]
  },
  {
   "cell_type": "code",
   "execution_count": 216,
   "metadata": {
    "collapsed": false
   },
   "outputs": [
    {
     "name": "stdout",
     "output_type": "stream",
     "text": [
      "Indonesian\n",
      "3.5\n",
      "Mexican\n",
      "3.31012658228\n",
      "Chinese\n",
      "3.23333333333\n",
      "Vietnamese\n",
      "3.6875\n",
      "Japanese\n",
      "3.52083333333\n",
      "Pub\n",
      "3.56944444444\n",
      "Middle Eastern\n",
      "3.875\n",
      "Burger\n",
      "3.41329479769\n",
      "American\n",
      "3.41713221601\n",
      "Gastro pub\n",
      "3.77586206897\n",
      "Korean\n",
      "3.66666666667\n"
     ]
    }
   ],
   "source": [
    "results_V = {}\n",
    "for name, category in results.iteritems():\n",
    "    results_V[name] = []\n",
    "    print name\n",
    "    for j, business in enumerate(category):\n",
    "        results_V[name].append(float(business['rating']))\n",
    "    print np.mean(results_V[name])\n"
   ]
  },
  {
   "cell_type": "code",
   "execution_count": 217,
   "metadata": {
    "collapsed": false
   },
   "outputs": [
    {
     "data": {
      "text/plain": [
       "[<matplotlib.text.Text at 0x10ed72ed0>,\n",
       " <matplotlib.text.Text at 0x10ed97f90>,\n",
       " <matplotlib.text.Text at 0x10efa2550>,\n",
       " <matplotlib.text.Text at 0x10efa2c90>,\n",
       " <matplotlib.text.Text at 0x10efad410>,\n",
       " <matplotlib.text.Text at 0x10efadb50>,\n",
       " <matplotlib.text.Text at 0x10efb82d0>,\n",
       " <matplotlib.text.Text at 0x10efb8a10>,\n",
       " <matplotlib.text.Text at 0x10efc2190>,\n",
       " <matplotlib.text.Text at 0x10efc28d0>,\n",
       " <matplotlib.text.Text at 0x10efcc050>]"
      ]
     },
     "execution_count": 217,
     "metadata": {},
     "output_type": "execute_result"
    },
    {
     "data": {
      "image/png": "[encoded data removed]",
      "text/plain": [
       "<matplotlib.figure.Figure at 0x10ec39d50>"
      ]
     },
     "metadata": {},
     "output_type": "display_data"
    }
   ],
   "source": [
    "fig, axis = plt.subplots(1, figsize=(5, 5))\n",
    "\n",
    "axis.boxplot([v for k, v in results_V.iteritems()])\n",
    "axis.set_xticklabels([k for k, v in results_V.iteritems()], rotation='vertical')\n"
   ]
  },
  {
   "cell_type": "code",
   "execution_count": 222,
   "metadata": {
    "collapsed": false
   },
   "outputs": [
    {
     "name": "stdout",
     "output_type": "stream",
     "text": [
      "Querying http://api.yelp.com/v2/search/? ...\n",
      "Querying http://api.yelp.com/v2/search/? ...\n",
      "Querying http://api.yelp.com/v2/search/? ...\n",
      "Querying http://api.yelp.com/v2/search/? ...\n",
      "Querying http://api.yelp.com/v2/search/? ...\n",
      "Querying http://api.yelp.com/v2/search/? ...\n",
      "Querying http://api.yelp.com/v2/search/? ...\n",
      "Querying http://api.yelp.com/v2/search/? ...\n",
      "Querying http://api.yelp.com/v2/search/? ...\n",
      "Querying http://api.yelp.com/v2/search/? ...\n",
      "Querying http://api.yelp.com/v2/search/? ...\n",
      "Querying http://api.yelp.com/v2/search/? ...\n",
      "Querying http://api.yelp.com/v2/search/? ...\n",
      "Querying http://api.yelp.com/v2/search/? ...\n",
      "Querying http://api.yelp.com/v2/search/? ...\n",
      "Querying http://api.yelp.com/v2/search/? ...\n",
      "Querying http://api.yelp.com/v2/search/? ...\n",
      "Querying http://api.yelp.com/v2/search/? ...\n",
      "Querying http://api.yelp.com/v2/search/? ...\n",
      "Querying http://api.yelp.com/v2/search/? ...\n",
      "Querying http://api.yelp.com/v2/search/? ...\n",
      "Querying http://api.yelp.com/v2/search/? ...\n",
      "Querying http://api.yelp.com/v2/search/? ...\n",
      "Querying http://api.yelp.com/v2/search/? ...\n",
      "Querying http://api.yelp.com/v2/search/? ...\n",
      "Querying http://api.yelp.com/v2/search/? ...\n",
      "Querying http://api.yelp.com/v2/search/? ...\n",
      "Querying http://api.yelp.com/v2/search/? ...\n",
      "Querying http://api.yelp.com/v2/search/? ...\n",
      "Querying http://api.yelp.com/v2/search/? ...\n",
      "Querying http://api.yelp.com/v2/search/? ...\n",
      "Querying http://api.yelp.com/v2/search/? ...\n",
      "Querying http://api.yelp.com/v2/search/? ...\n",
      "Querying http://api.yelp.com/v2/search/? ...\n",
      "Querying http://api.yelp.com/v2/search/? ...\n",
      "Querying http://api.yelp.com/v2/search/? ...\n",
      "Querying http://api.yelp.com/v2/search/? ...\n",
      "Querying http://api.yelp.com/v2/search/? ...\n",
      "American\n",
      "3.40823970037\n",
      "Asian\n",
      "3.41884816754\n"
     ]
    }
   ],
   "source": [
    "results_lim = {}\n",
    "categories = ['Asian', 'American']\n",
    "for cat in categories:\n",
    "    temp = search(cat, 'Madison, WI')\n",
    "    sz = len(temp['businesses'])\n",
    "    tot = temp['total']\n",
    "    results_lim[cat] = []\n",
    "    for t in temp['businesses']:\n",
    "        results_lim[cat].append(t)\n",
    "    for off in xrange(sz, tot, 20):\n",
    "        temp = search(cat, 'Madison, WI', offset=off)\n",
    "        for t in temp['businesses']:\n",
    "            results_lim[cat].append(t)\n",
    "            \n",
    "results_lim_V = {}\n",
    "for name, category in results_lim.iteritems():\n",
    "    results_lim_V[name] = []\n",
    "    print name\n",
    "    for j, business in enumerate(category):\n",
    "        results_lim_V[name].append(float(business['rating']))\n",
    "    print np.mean(results_lim_V[name])\n"
   ]
  },
  {
   "cell_type": "code",
   "execution_count": 256,
   "metadata": {
    "collapsed": false
   },
   "outputs": [
    {
     "data": {
      "image/png": "[encoded data removed]",
      "text/plain": [
       "<matplotlib.figure.Figure at 0x1118d3e90>"
      ]
     },
     "metadata": {},
     "output_type": "display_data"
    }
   ],
   "source": [
    "colors = ['#1b9e77', '#d95f02']\n",
    "\n",
    "fig, axis = plt.subplots(1, figsize=(5, 5))\n",
    "for i, (k, v) in enumerate(results_lim_V.iteritems()):\n",
    "    hist, bins = np.histogram(v, bins=[0.9, 1.4, 1.9, 2.4, 2.9, 3.4, 3.9, 4.4, 4.9, 5.4])\n",
    "    hist = hist.astype('float')/np.sum(hist)\n",
    "    axis.bar(np.array([0.9, 1.4, 1.9, 2.4, 2.9, 3.4, 3.9, 4.4, 4.9])+0.20*i,\n",
    "             hist, label=k, width=0.20, color=colors[i])\n",
    "    \n",
    "axis.legend(loc='upper left')\n",
    "axis.set_xlabel('Ratings', fontsize=15)\n",
    "axis.set_ylabel('Share', fontsize=15)\n",
    "plt.savefig('Yelp_Ratings.pdf', dpi=600)"
   ]
  },
  {
   "cell_type": "code",
   "execution_count": 273,
   "metadata": {
    "collapsed": false
   },
   "outputs": [
    {
     "name": "stdout",
     "output_type": "stream",
     "text": [
      "Skew: Asian: -0.703284, American: -0.680704\n",
      "Kurtosis: Asian: 1.35266, American: 0.903095\n"
     ]
    }
   ],
   "source": [
    "print \"Skew: Asian: {:g}, American: {:g}\".format(stats.skew(results_lim_V['Asian']),\n",
    "                                                 stats.skew(results_lim_V['American']))\n",
    "print \"Kurtosis: Asian: {:g}, American: {:g}\".format(stats.kurtosis(results_lim_V['Asian']),\n",
    "                                                 stats.kurtosis(results_lim_V['American']))"
   ]
  },
  {
   "cell_type": "code",
   "execution_count": 270,
   "metadata": {
    "collapsed": false
   },
   "outputs": [
    {
     "data": {
      "image/png": "[encoded data removed]",
      "text/plain": [
       "<matplotlib.figure.Figure at 0x11328f850>"
      ]
     },
     "metadata": {},
     "output_type": "display_data"
    }
   ],
   "source": [
    "colors = ['#1b9e77', '#d95f02']\n",
    "\n",
    "test_samples = {}\n",
    "\n",
    "fig, axis = plt.subplots(1, figsize=(5, 5))\n",
    "for i, (k, v) in enumerate(results_lim_V.iteritems()):\n",
    "    hist, bins = np.histogram(v, bins=[0.9, 1.4, 1.9, 2.4, 2.9, 3.4, 3.9, 4.4, 4.9, 5.4])\n",
    "    hist = hist.astype('float')/np.sum(hist)\n",
    "    hist = np.cumsum(hist)\n",
    "    test_samples[k] = hist\n",
    "    axis.step([1, 1.5, 2, 2.5, 3, 3.5, 4, 4.5, 5], hist, color=colors[i], label=k)\n",
    "\n",
    "axis.legend(loc='upper left')\n",
    "axis.set_xlabel('Ratings', fontsize=15)\n",
    "axis.set_ylabel('Cumulative Share', fontsize=15)\n",
    "plt.savefig('Yelp_Ratings_Cumulative.pdf', dpi=600)"
   ]
  },
  {
   "cell_type": "code",
   "execution_count": 276,
   "metadata": {
    "collapsed": false
   },
   "outputs": [
    {
     "name": "stdout",
     "output_type": "stream",
     "text": [
      "Test statistic: 0.111111, p-value: 1\n"
     ]
    }
   ],
   "source": [
    "print \"Test statistic: {:g}, p-value: {:g}\".format(*stats.ks_2samp(test_samples['Asian'], test_samples['American']))"
   ]
  },
  {
   "cell_type": "code",
   "execution_count": null,
   "metadata": {
    "collapsed": true
   },
   "outputs": [],
   "source": []
  }
 ],
 "metadata": {
  "kernelspec": {
   "display_name": "Python 2",
   "language": "python",
   "name": "python2"
  },
  "language_info": {
   "codemirror_mode": {
    "name": "ipython",
    "version": 2
   },
   "file_extension": ".py",
   "mimetype": "text/x-python",
   "name": "python",
   "nbconvert_exporter": "python",
   "pygments_lexer": "ipython2",
   "version": "2.7.10"
  }
 },
 "nbformat": 4,
 "nbformat_minor": 0
}
