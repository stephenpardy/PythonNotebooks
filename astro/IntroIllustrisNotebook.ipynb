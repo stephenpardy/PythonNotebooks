{
 "cells": [
  {
   "cell_type": "markdown",
   "metadata": {
    "colab_type": "text",
    "id": "0OjhOItW2vML"
   },
   "source": [
    "## Illustris web API details and example scripts available at: http://www.illustris-project.org/data/docs/api/"
   ]
  },
  {
   "cell_type": "code",
   "execution_count": null,
   "metadata": {
    "colab": {
     "autoexec": {
      "startup": false,
      "wait_interval": 0
     },
     "base_uri": "https://localhost:8080/",
     "height": 445,
     "output_extras": [
      {
       "item_id": 70
      },
      {
       "item_id": 195
      }
     ]
    },
    "colab_type": "code",
    "collapsed": true,
    "executionInfo": {
     "elapsed": 118689,
     "status": "ok",
     "timestamp": 1518479206860,
     "user": {
      "displayName": "Alisha Kundert",
      "photoUrl": "https://lh3.googleusercontent.com/a/default-user=s128",
      "userId": "110573470329199992586"
     },
     "user_tz": 360
    },
    "id": "gI077VPU21hU",
    "outputId": "c1206300-7c76-4f8a-d1d6-a5918c624c41"
   },
   "outputs": [],
   "source": [
    "!pip install astropy"
   ]
  },
  {
   "cell_type": "code",
   "execution_count": null,
   "metadata": {
    "colab": {
     "autoexec": {
      "startup": false,
      "wait_interval": 0
     }
    },
    "colab_type": "code",
    "collapsed": true,
    "id": "_e6B77T8JRyF"
   },
   "outputs": [],
   "source": [
    "import numpy as np\n",
    "import matplotlib.pyplot as plt\n",
    "import h5py\n",
    "import astropy.table as atpy\n",
    "\n",
    "import requests\n",
    "import os\n",
    "\n",
    "%matplotlib inline"
   ]
  },
  {
   "cell_type": "code",
   "execution_count": null,
   "metadata": {
    "colab": {
     "autoexec": {
      "startup": false,
      "wait_interval": 0
     }
    },
    "colab_type": "code",
    "collapsed": true,
    "id": "xOQqqg_3JUJK"
   },
   "outputs": [],
   "source": [
    "#input your own api key; your key is listed here after login: http://www.illustris-project.org/data/\n",
    "apikey="
   ]
  },
  {
   "cell_type": "code",
   "execution_count": null,
   "metadata": {
    "colab": {
     "autoexec": {
      "startup": false,
      "wait_interval": 0
     }
    },
    "colab_type": "code",
    "collapsed": true,
    "id": "du5AkzzdEXP4"
   },
   "outputs": [],
   "source": [
    "def get(path, params=None):\n",
    " \n",
    "    # make HTTP GET request to path\n",
    "    headers = {\"api-key\":str(apikey)}\n",
    "    r = requests.get(path, params=params, headers=headers)\n",
    "\n",
    "    # raise exception if response code is not HTTP SUCCESS (200)\n",
    "    r.raise_for_status()\n",
    "\n",
    "    if r.headers['content-type'] == 'application/json':\n",
    "        return r.json() # parse json responses automatically\n",
    "\n",
    "    if 'content-disposition' in r.headers:\n",
    "        filename = r.headers['content-disposition'].split(\"filename=\")[1]\n",
    "        with open(filename, 'wb') as f:\n",
    "            f.write(r.content)\n",
    "        return filename # return the filename string\n",
    "\n",
    "    return r"
   ]
  },
  {
   "cell_type": "code",
   "execution_count": null,
   "metadata": {
    "colab": {
     "autoexec": {
      "startup": false,
      "wait_interval": 0
     }
    },
    "colab_type": "code",
    "collapsed": true,
    "id": "fwuBqDHWBdSt"
   },
   "outputs": [],
   "source": [
    "#simulation\n",
    "Isim=1\n",
    "\n",
    "#snapshot number, snapNum=135 -> z=0 \n",
    "snapNum = 135\n",
    "\n",
    "#cosmology\n",
    "H0=70.\n",
    "h=H0/100."
   ]
  },
  {
   "cell_type": "markdown",
   "metadata": {
    "colab_type": "text",
    "id": "3fJTFBUOsuDe"
   },
   "source": [
    "# 1. Meta data: how many groups and subhalos exist at a given snapshot?\n"
   ]
  },
  {
   "cell_type": "code",
   "execution_count": null,
   "metadata": {
    "colab": {
     "autoexec": {
      "startup": false,
      "wait_interval": 0
     },
     "base_uri": "https://localhost:8080/",
     "height": 34,
     "output_extras": [
      {
       "item_id": 1
      }
     ]
    },
    "colab_type": "code",
    "collapsed": true,
    "executionInfo": {
     "elapsed": 288,
     "status": "ok",
     "timestamp": 1518479226218,
     "user": {
      "displayName": "Alisha Kundert",
      "photoUrl": "https://lh3.googleusercontent.com/a/default-user=s128",
      "userId": "110573470329199992586"
     },
     "user_tz": 360
    },
    "id": "g_NjsBoetMdq",
    "outputId": "eda48a2a-15ea-4a4f-9a7d-220f47efbe24"
   },
   "outputs": [],
   "source": [
    "#url to snapshot detail\n",
    "url='http://www.illustris-project.org/api/Illustris-'+str(Isim)+'/snapshots/'+str(snapNum)\n",
    "print(url)"
   ]
  },
  {
   "cell_type": "code",
   "execution_count": null,
   "metadata": {
    "colab": {
     "autoexec": {
      "startup": false,
      "wait_interval": 0
     },
     "base_uri": "https://localhost:8080/",
     "height": 54,
     "output_extras": [
      {
       "item_id": 1
      }
     ]
    },
    "colab_type": "code",
    "collapsed": true,
    "executionInfo": {
     "elapsed": 553,
     "status": "ok",
     "timestamp": 1518479228293,
     "user": {
      "displayName": "Alisha Kundert",
      "photoUrl": "https://lh3.googleusercontent.com/a/default-user=s128",
      "userId": "110573470329199992586"
     },
     "user_tz": 360
    },
    "id": "nWlUMaGjtRHy",
    "outputId": "b797b0a2-d6bb-480b-f2d0-6bb37f5ce2b6"
   },
   "outputs": [],
   "source": [
    "#access this info from web\n",
    "metadata=get(url) \n",
    "\n",
    "#available headers\n",
    "print(metadata.keys())\n"
   ]
  },
  {
   "cell_type": "code",
   "execution_count": null,
   "metadata": {
    "colab": {
     "autoexec": {
      "startup": false,
      "wait_interval": 0
     },
     "base_uri": "https://localhost:8080/",
     "height": 68,
     "output_extras": [
      {
       "item_id": 1
      }
     ]
    },
    "colab_type": "code",
    "collapsed": true,
    "executionInfo": {
     "elapsed": 466,
     "status": "ok",
     "timestamp": 1518480564562,
     "user": {
      "displayName": "Alisha Kundert",
      "photoUrl": "https://lh3.googleusercontent.com/a/default-user=s128",
      "userId": "110573470329199992586"
     },
     "user_tz": 360
    },
    "id": "cbS_vkTPtaRp",
    "outputId": "0b827b86-9c0e-4e3d-b073-53f94689558f"
   },
   "outputs": [],
   "source": [
    "print('redshift at snapshot='+str(snapNum)+':',metadata['redshift'])\n",
    "\n",
    "print('number of subhalos at snapshot='+str(snapNum)+':', metadata['num_groups_subfind'])\n",
    "print('number of FOF groups at snapshot='+str(snapNum)+':', metadata['num_groups_fof'])"
   ]
  },
  {
   "cell_type": "markdown",
   "metadata": {
    "colab_type": "text",
    "id": "6mefSE92tt86"
   },
   "source": [
    "# 2. Halo catalogs: information about a specific FOF group\n",
    "FOF halos data specifications: http://www.illustris-project.org/data/docs/specifications/#sec2a"
   ]
  },
  {
   "cell_type": "code",
   "execution_count": null,
   "metadata": {
    "colab": {
     "autoexec": {
      "startup": false,
      "wait_interval": 0
     },
     "base_uri": "https://localhost:8080/",
     "height": 34,
     "output_extras": [
      {
       "item_id": 1
      }
     ]
    },
    "colab_type": "code",
    "collapsed": true,
    "executionInfo": {
     "elapsed": 307,
     "status": "ok",
     "timestamp": 1518479400385,
     "user": {
      "displayName": "Alisha Kundert",
      "photoUrl": "https://lh3.googleusercontent.com/a/default-user=s128",
      "userId": "110573470329199992586"
     },
     "user_tz": 360
    },
    "id": "kIRmNiqHFqtt",
    "outputId": "5794040b-7f0c-4fa3-ea9b-d7f32cf7be00"
   },
   "outputs": [],
   "source": [
    "#ID of FOF group we'll use for the example\n",
    "groupID=1000\n",
    "\n",
    "#weblink to group info\n",
    "url='http://www.illustris-project.org/api/Illustris-'+str(Isim)+'/snapshots/'+str(snapNum)+'/halos/'+str(groupID)+'/info.json'\n",
    "print(url)\n"
   ]
  },
  {
   "cell_type": "code",
   "execution_count": null,
   "metadata": {
    "colab": {
     "autoexec": {
      "startup": false,
      "wait_interval": 0
     },
     "base_uri": "https://localhost:8080/",
     "height": 54,
     "output_extras": [
      {
       "item_id": 1
      }
     ]
    },
    "colab_type": "code",
    "collapsed": true,
    "executionInfo": {
     "elapsed": 1318,
     "status": "ok",
     "timestamp": 1518479403529,
     "user": {
      "displayName": "Alisha Kundert",
      "photoUrl": "https://lh3.googleusercontent.com/a/default-user=s128",
      "userId": "110573470329199992586"
     },
     "user_tz": 360
    },
    "id": "DLRWCaxCuA1l",
    "outputId": "afeae9c8-12ad-44d4-fa07-ba3d2de61b27"
   },
   "outputs": [],
   "source": [
    "#access this info\n",
    "group=get(url)['Group']\n",
    "print(group.keys())"
   ]
  },
  {
   "cell_type": "code",
   "execution_count": null,
   "metadata": {
    "colab": {
     "autoexec": {
      "startup": false,
      "wait_interval": 0
     },
     "base_uri": "https://localhost:8080/",
     "height": 34,
     "output_extras": [
      {
       "item_id": 1
      }
     ]
    },
    "colab_type": "code",
    "collapsed": true,
    "executionInfo": {
     "elapsed": 217,
     "status": "ok",
     "timestamp": 1518467647037,
     "user": {
      "displayName": "Alisha Kundert",
      "photoUrl": "https://lh3.googleusercontent.com/a/default-user=s128",
      "userId": "110573470329199992586"
     },
     "user_tz": 360
    },
    "id": "UHlhAi7AuKDc",
    "outputId": "ac028fcb-3139-449e-f4a5-e7522280c6a4"
   },
   "outputs": [],
   "source": [
    "#M200 mass\n",
    "print('group M200:',group['Group_M_Crit200'])"
   ]
  },
  {
   "cell_type": "markdown",
   "metadata": {
    "colab_type": "text",
    "id": "Guiif1jSw16I"
   },
   "source": [
    "### **Interactive break**: \n",
    "print out other properties of this group "
   ]
  },
  {
   "cell_type": "code",
   "execution_count": null,
   "metadata": {
    "colab": {
     "autoexec": {
      "startup": false,
      "wait_interval": 0
     }
    },
    "colab_type": "code",
    "collapsed": true,
    "id": "O5658vQVuLaT"
   },
   "outputs": [],
   "source": [
    "#print out other properties of this group here\n",
    "#"
   ]
  },
  {
   "cell_type": "code",
   "execution_count": null,
   "metadata": {
    "colab": {
     "autoexec": {
      "startup": false,
      "wait_interval": 0
     },
     "base_uri": "https://localhost:8080/",
     "height": 34,
     "output_extras": [
      {
       "item_id": 1
      }
     ]
    },
    "colab_type": "code",
    "collapsed": true,
    "executionInfo": {
     "elapsed": 409,
     "status": "ok",
     "timestamp": 1518479865559,
     "user": {
      "displayName": "Alisha Kundert",
      "photoUrl": "https://lh3.googleusercontent.com/a/default-user=s128",
      "userId": "110573470329199992586"
     },
     "user_tz": 360
    },
    "id": "OA7PradTuPrT",
    "outputId": "ae184062-0e62-46f0-eb0f-52f2092b4e3c"
   },
   "outputs": [],
   "source": [
    "#subhaloID of central subhalo of FOF group\n",
    "bcgID=group['GroupFirstSub']\n",
    "print('ID of central galaxy:',bcgID)"
   ]
  },
  {
   "cell_type": "code",
   "execution_count": null,
   "metadata": {
    "colab": {
     "autoexec": {
      "startup": false,
      "wait_interval": 0
     },
     "base_uri": "https://localhost:8080/",
     "height": 119,
     "output_extras": [
      {
       "item_id": 1
      }
     ]
    },
    "colab_type": "code",
    "collapsed": true,
    "executionInfo": {
     "elapsed": 223,
     "status": "ok",
     "timestamp": 1518468486734,
     "user": {
      "displayName": "Alisha Kundert",
      "photoUrl": "https://lh3.googleusercontent.com/a/default-user=s128",
      "userId": "110573470329199992586"
     },
     "user_tz": 360
    },
    "id": "fQ3jorjNuSGx",
    "outputId": "187d6c4d-ec37-4807-e94c-289e00b7014d"
   },
   "outputs": [],
   "source": [
    "#subhaloIDs of all subhalos of group\n",
    "Nsubs=group['GroupNsubs']\n",
    "subhaloIDlist=np.arange(bcgID,bcgID+Nsubs)\n",
    "print('number of subhalos in group:',Nsubs)\n",
    "print('subhalo ID list:',subhaloIDlist)"
   ]
  },
  {
   "cell_type": "code",
   "execution_count": null,
   "metadata": {
    "colab": {
     "autoexec": {
      "startup": false,
      "wait_interval": 0
     },
     "base_uri": "https://localhost:8080/",
     "height": 34,
     "output_extras": [
      {
       "item_id": 1
      }
     ]
    },
    "colab_type": "code",
    "collapsed": true,
    "executionInfo": {
     "elapsed": 268,
     "status": "ok",
     "timestamp": 1518470226343,
     "user": {
      "displayName": "Alisha Kundert",
      "photoUrl": "https://lh3.googleusercontent.com/a/default-user=s128",
      "userId": "110573470329199992586"
     },
     "user_tz": 360
    },
    "id": "3pW-LAOjuT-T",
    "outputId": "7dcadc7e-c621-4e76-b733-4b1a37a70a27"
   },
   "outputs": [],
   "source": [
    "#to check:\n",
    "url='http://www.illustris-project.org/api/Illustris-'+str(Isim)+'/snapshots/135/halos/'+str(groupID)+'/'\n",
    "print(url)"
   ]
  },
  {
   "cell_type": "markdown",
   "metadata": {
    "colab_type": "text",
    "id": "ebyE8FmZueKQ"
   },
   "source": [
    "# 3. Subhalo catalog: information about a specific subhalo\n",
    "Subhalos data specifications: http://www.illustris-project.org/data/docs/specifications/#sec2b"
   ]
  },
  {
   "cell_type": "code",
   "execution_count": null,
   "metadata": {
    "colab": {
     "autoexec": {
      "startup": false,
      "wait_interval": 0
     },
     "base_uri": "https://localhost:8080/",
     "height": 88,
     "output_extras": [
      {
       "item_id": 1
      }
     ]
    },
    "colab_type": "code",
    "collapsed": true,
    "executionInfo": {
     "elapsed": 398,
     "status": "ok",
     "timestamp": 1518479934896,
     "user": {
      "displayName": "Alisha Kundert",
      "photoUrl": "https://lh3.googleusercontent.com/a/default-user=s128",
      "userId": "110573470329199992586"
     },
     "user_tz": 360
    },
    "id": "ZJYQnIHoozrP",
    "outputId": "f902e303-d27c-4043-e25f-8387e41805aa"
   },
   "outputs": [],
   "source": [
    "#let's access the information for the central subhalo of our group\n",
    "subhaloID=bcgID\n",
    "print(subhaloID)\n",
    "\n",
    "#weblink to subhalo info\n",
    "url='http://www.illustris-project.org/api/Illustris-'+str(Isim)+'/snapshots/'+str(snapNum)+'/subhalos/'+str(subhaloID)+'/info.json'\n",
    "print(url)\n",
    "\n",
    "subhalo=get(url)['Subhalo']\n",
    "print(subhalo.keys())\n",
    "    "
   ]
  },
  {
   "cell_type": "code",
   "execution_count": null,
   "metadata": {
    "colab": {
     "autoexec": {
      "startup": false,
      "wait_interval": 0
     },
     "base_uri": "https://localhost:8080/",
     "height": 34,
     "output_extras": [
      {
       "item_id": 1
      }
     ]
    },
    "colab_type": "code",
    "collapsed": true,
    "executionInfo": {
     "elapsed": 267,
     "status": "ok",
     "timestamp": 1518480039949,
     "user": {
      "displayName": "Alisha Kundert",
      "photoUrl": "https://lh3.googleusercontent.com/a/default-user=s128",
      "userId": "110573470329199992586"
     },
     "user_tz": 360
    },
    "id": "PIYl1C9ByNvl",
    "outputId": "9a48751f-6bd1-4870-d214-37e5a087fdc2"
   },
   "outputs": [],
   "source": [
    "#Total mass of subhalo\n",
    "print('subhalo mass:',subhalo['SubhaloMass'])\n"
   ]
  },
  {
   "cell_type": "markdown",
   "metadata": {
    "colab_type": "text",
    "id": "pRnXek9Hyqdb"
   },
   "source": [
    "### **Interactive break**: \n",
    "print out other properties of this subhalo "
   ]
  },
  {
   "cell_type": "code",
   "execution_count": null,
   "metadata": {
    "colab": {
     "autoexec": {
      "startup": false,
      "wait_interval": 0
     }
    },
    "colab_type": "code",
    "collapsed": true,
    "id": "GZSHRDz4y0zM"
   },
   "outputs": [],
   "source": [
    "#print out other properties of this subhalo here\n",
    "#"
   ]
  },
  {
   "cell_type": "markdown",
   "metadata": {
    "colab_type": "text",
    "id": "aDMrzBzgupQF"
   },
   "source": [
    "# 4. Merger trees\n",
    "Merger trees data specifications: http://www.illustris-project.org/data/docs/specifications/#sec3a"
   ]
  },
  {
   "cell_type": "code",
   "execution_count": null,
   "metadata": {
    "colab": {
     "autoexec": {
      "startup": false,
      "wait_interval": 0
     },
     "base_uri": "https://localhost:8080/",
     "height": 54,
     "output_extras": [
      {
       "item_id": 1
      }
     ]
    },
    "colab_type": "code",
    "collapsed": true,
    "executionInfo": {
     "elapsed": 741,
     "status": "ok",
     "timestamp": 1518480237986,
     "user": {
      "displayName": "Alisha Kundert",
      "photoUrl": "https://lh3.googleusercontent.com/a/default-user=s128",
      "userId": "110573470329199992586"
     },
     "user_tz": 360
    },
    "id": "cSupijrgEfa0",
    "outputId": "2e0e91ac-964e-47ad-fc2a-5bb935578cb9"
   },
   "outputs": [],
   "source": [
    "#let's look at the MPB merger tree for our central subhalo\n",
    "subhaloID=bcgID\n",
    "\n",
    "\n",
    "#MPB merger tree for bcg -- NB: MPB specified in url\n",
    "url='http://www.illustris-project.org/api/Illustris-'+str(Isim)+'/snapshots/'+str(snapNum)+'/subhalos/'+str(subhaloID)+'/sublink/mpb.hdf5'\n",
    "mpb_filename=get(url)\n",
    "\n",
    "#put tree data into another data structure: astropy tables\n",
    "tree=atpy.Table()\n",
    "with h5py.File(mpb_filename) as ft:\n",
    "  for key in ft.keys():\n",
    "    tree.add_column(atpy.Column(name=str(key), data=np.array(ft[str(key)])))\n",
    "\n",
    "#remove tree file - hdf5 files remain in working directory otherwise\n",
    "if os.path.isfile('./sublink_mpb_'+str(subhaloID)+'.hdf5')==True:\n",
    "  os.remove('./sublink_mpb_'+str(subhaloID)+'.hdf5')\n",
    "\n",
    "\n",
    "print(tree.columns)\n"
   ]
  },
  {
   "cell_type": "code",
   "execution_count": null,
   "metadata": {
    "colab": {
     "autoexec": {
      "startup": false,
      "wait_interval": 0
     },
     "base_uri": "https://localhost:8080/",
     "height": 442,
     "output_extras": [
      {
       "item_id": 1
      }
     ]
    },
    "colab_type": "code",
    "collapsed": true,
    "executionInfo": {
     "elapsed": 393,
     "status": "ok",
     "timestamp": 1518470443386,
     "user": {
      "displayName": "Alisha Kundert",
      "photoUrl": "https://lh3.googleusercontent.com/a/default-user=s128",
      "userId": "110573470329199992586"
     },
     "user_tz": 360
    },
    "id": "NB7HgY700fyl",
    "outputId": "ee3300b6-abbb-402a-8903-a7831365d190"
   },
   "outputs": [],
   "source": [
    "#print out some columns\n",
    "print(tree['SnapNum','SubfindID','SubhaloGrNr','SubhaloMass'])"
   ]
  },
  {
   "cell_type": "code",
   "execution_count": null,
   "metadata": {
    "colab": {
     "autoexec": {
      "startup": false,
      "wait_interval": 0
     },
     "base_uri": "https://localhost:8080/",
     "height": 334,
     "output_extras": [
      {
       "item_id": 1
      }
     ]
    },
    "colab_type": "code",
    "collapsed": true,
    "executionInfo": {
     "elapsed": 329,
     "status": "ok",
     "timestamp": 1518480878166,
     "user": {
      "displayName": "Alisha Kundert",
      "photoUrl": "https://lh3.googleusercontent.com/a/default-user=s128",
      "userId": "110573470329199992586"
     },
     "user_tz": 360
    },
    "id": "o-ds8nWNu3HF",
    "outputId": "c592458c-e0b6-4ee9-ffb9-8aac1b96403f"
   },
   "outputs": [],
   "source": [
    "#plot mass evolution of subhalo\n",
    "\n",
    "fig1=plt.figure(1,(5,5))\n",
    "fig1.clf()\n",
    "\n",
    "ax=fig1.add_subplot(1,1,1)\n",
    "\n",
    "plt.plot(tree['SnapNum'],tree['SubhaloMass'],'b')\n",
    "plt.gca().invert_xaxis() \n",
    "\n",
    "plt.xlabel('SnapNum')\n",
    "plt.ylabel('SubhaloMass')\n"
   ]
  },
  {
   "cell_type": "markdown",
   "metadata": {},
   "source": [
    "### Q:\n",
    "How can the above axis labels be improved?"
   ]
  },
  {
   "cell_type": "markdown",
   "metadata": {
    "colab_type": "text",
    "id": "iTHpNQON2Nam"
   },
   "source": [
    "### **Interactive break**: \n",
    "plot the evolution of other properties from the merger tree \\"
   ]
  },
  {
   "cell_type": "code",
   "execution_count": null,
   "metadata": {
    "colab": {
     "autoexec": {
      "startup": false,
      "wait_interval": 0
     }
    },
    "colab_type": "code",
    "collapsed": true,
    "id": "0QmULyz6nHpW"
   },
   "outputs": [],
   "source": [
    "#plot other tree properties here\n",
    "#"
   ]
  }
 ],
 "metadata": {
  "colab": {
   "collapsed_sections": [],
   "default_view": {},
   "name": "IntroIllustrisNotebook.ipynb",
   "provenance": [],
   "version": "0.3.2",
   "views": {}
  },
  "kernelspec": {
   "display_name": "Python [default]",
   "language": "python",
   "name": "python3"
  },
  "language_info": {
   "codemirror_mode": {
    "name": "ipython",
    "version": 3
   },
   "file_extension": ".py",
   "mimetype": "text/x-python",
   "name": "python",
   "nbconvert_exporter": "python",
   "pygments_lexer": "ipython3",
   "version": "3.6.2"
  }
 },
 "nbformat": 4,
 "nbformat_minor": 1
}
