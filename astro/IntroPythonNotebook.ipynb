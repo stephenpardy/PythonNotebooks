{
 "cells": [
  {
   "cell_type": "markdown",
   "metadata": {
    "colab_type": "text",
    "id": "kuZ9wWy-0NHb"
   },
   "source": [
    "# Intro to python"
   ]
  },
  {
   "cell_type": "markdown",
   "metadata": {
    "colab_type": "text",
    "id": "TxMUDr7m0QD8"
   },
   "source": [
    "## Basic commands"
   ]
  },
  {
   "cell_type": "markdown",
   "metadata": {
    "colab_type": "text",
    "id": "7_nl-c1JpwKS"
   },
   "source": [
    "Hello and welcome to the wonderful world of Python. Each of these cells can be copy and pasted into your own notebook. There are code cells and text cells. The code cells execute Python commands. The text cells give some helpful advice along the way. Copy and paste, or retype, the code cells into your own notebook and run them. \n",
    "\n",
    "This notebook is meant to be a quick introduction to python. We have included some helpful links to other resources along the way. Here are some other tutorials that you can use in your own time:\n",
    "http://introtopython.org/hello_world.html\n",
    "https://www.datacamp.com/courses/intro-to-python-for-data-science\n",
    "\n",
    "Below is the first code cell."
   ]
  },
  {
   "cell_type": "code",
   "execution_count": null,
   "metadata": {
    "colab": {
     "autoexec": {
      "startup": false,
      "wait_interval": 0
     }
    },
    "colab_type": "code",
    "collapsed": true,
    "id": "cqqu1tZ1GyIu"
   },
   "outputs": [],
   "source": [
    "\n",
    "# This line is a comment -- it does nothing\n",
    "# you can add comments using the '#' symbol"
   ]
  },
  {
   "cell_type": "markdown",
   "metadata": {
    "colab_type": "text",
    "id": "LkGM9N4mqSzr"
   },
   "source": [
    "You can do math  - any output on the last line of the cell will print to the screen\n"
   ]
  },
  {
   "cell_type": "code",
   "execution_count": null,
   "metadata": {
    "colab": {
     "autoexec": {
      "startup": false,
      "wait_interval": 0
     },
     "base_uri": "https://localhost:8080/",
     "height": 38,
     "output_extras": [
      {
       "item_id": 1
      }
     ]
    },
    "colab_type": "code",
    "collapsed": true,
    "executionInfo": {
     "elapsed": 223,
     "status": "ok",
     "timestamp": 1518465158276,
     "user": {
      "displayName": "Stephen Pardy",
      "photoUrl": "//lh5.googleusercontent.com/-IbruOgubsUY/AAAAAAAAAAI/AAAAAAAAA4A/YZfSewRppuM/s50-c-k-no/photo.jpg",
      "userId": "110693586619773300040"
     },
     "user_tz": 360
    },
    "id": "VYaOCMz6Hfus",
    "outputId": "397fa37f-462c-4f03-a95c-903e6321220d"
   },
   "outputs": [],
   "source": [
    "1+1"
   ]
  },
  {
   "cell_type": "code",
   "execution_count": null,
   "metadata": {
    "colab": {
     "autoexec": {
      "startup": false,
      "wait_interval": 0
     },
     "base_uri": "https://localhost:8080/",
     "height": 38,
     "output_extras": [
      {
       "item_id": 1
      }
     ]
    },
    "colab_type": "code",
    "collapsed": true,
    "executionInfo": {
     "elapsed": 226,
     "status": "ok",
     "timestamp": 1518465162049,
     "user": {
      "displayName": "Stephen Pardy",
      "photoUrl": "//lh5.googleusercontent.com/-IbruOgubsUY/AAAAAAAAAAI/AAAAAAAAA4A/YZfSewRppuM/s50-c-k-no/photo.jpg",
      "userId": "110693586619773300040"
     },
     "user_tz": 360
    },
    "id": "KAPk75jYZ8ka",
    "outputId": "46333fa1-03b0-453e-994d-808037b2b3df"
   },
   "outputs": [],
   "source": [
    "3*5  # this will not print\n",
    "14 % 3  # modulo (remainder) operator - this will print"
   ]
  },
  {
   "cell_type": "markdown",
   "metadata": {
    "colab_type": "text",
    "id": "MYdjm5I1qXeb"
   },
   "source": [
    "You can print anything by passing it to the print function.\n",
    "\n",
    "[Functions](https://www.tutorialspoint.com/python/python_functions.htm): a function takes some arguments and returns one or more values. They can let you write a complicated test and use it over and over again. Call a function by typing its name with parentheses. Arguments for the function go inside the parentheses. \n"
   ]
  },
  {
   "cell_type": "code",
   "execution_count": null,
   "metadata": {
    "colab": {
     "autoexec": {
      "startup": false,
      "wait_interval": 0
     },
     "base_uri": "https://localhost:8080/",
     "height": 53,
     "output_extras": [
      {
       "item_id": 1
      }
     ]
    },
    "colab_type": "code",
    "collapsed": true,
    "executionInfo": {
     "elapsed": 229,
     "status": "ok",
     "timestamp": 1518465166868,
     "user": {
      "displayName": "Stephen Pardy",
      "photoUrl": "//lh5.googleusercontent.com/-IbruOgubsUY/AAAAAAAAAAI/AAAAAAAAA4A/YZfSewRppuM/s50-c-k-no/photo.jpg",
      "userId": "110693586619773300040"
     },
     "user_tz": 360
    },
    "id": "GX1Y8VIfaMQd",
    "outputId": "46d9bee7-8ecd-429b-a9d1-9951788adade"
   },
   "outputs": [],
   "source": [
    "print(3*5)\n",
    "print(2**4)  # powers use the double star symbol"
   ]
  },
  {
   "cell_type": "markdown",
   "metadata": {
    "colab_type": "text",
    "id": "P9z7mDwrqZ6a"
   },
   "source": [
    "Save results to a variable. Variables work like a math equation. The variable name is on the left and whatever it is equal to is on the right.\n"
   ]
  },
  {
   "cell_type": "code",
   "execution_count": null,
   "metadata": {
    "colab": {
     "autoexec": {
      "startup": false,
      "wait_interval": 0
     }
    },
    "colab_type": "code",
    "collapsed": true,
    "id": "Rv5N_mvmIAEP"
   },
   "outputs": [],
   "source": [
    "output = 1+1"
   ]
  },
  {
   "cell_type": "markdown",
   "metadata": {
    "colab_type": "text",
    "id": "g1-bG69KaDzl"
   },
   "source": [
    "We cab see the type of the output by passing it to the type function.\n"
   ]
  },
  {
   "cell_type": "code",
   "execution_count": null,
   "metadata": {
    "colab": {
     "autoexec": {
      "startup": false,
      "wait_interval": 0
     },
     "base_uri": "https://localhost:8080/",
     "height": 38,
     "output_extras": [
      {
       "item_id": 1
      }
     ]
    },
    "colab_type": "code",
    "collapsed": true,
    "executionInfo": {
     "elapsed": 229,
     "status": "ok",
     "timestamp": 1518465174483,
     "user": {
      "displayName": "Stephen Pardy",
      "photoUrl": "//lh5.googleusercontent.com/-IbruOgubsUY/AAAAAAAAAAI/AAAAAAAAA4A/YZfSewRppuM/s50-c-k-no/photo.jpg",
      "userId": "110693586619773300040"
     },
     "user_tz": 360
    },
    "id": "wisqYJl1JY0l",
    "outputId": "e892cbb2-2987-41b8-a936-fa2fc973e0af"
   },
   "outputs": [],
   "source": [
    "type(output)"
   ]
  },
  {
   "cell_type": "markdown",
   "metadata": {
    "colab_type": "text",
    "id": "aTAqTpvFcrhP"
   },
   "source": [
    "There are many types in python, but the main ones for values are: 'int' for integers, 'float' for any number with a decimal place, and 'str' for a collection of characters or words. Groups of values can also take on different types, but more on that later."
   ]
  },
  {
   "cell_type": "code",
   "execution_count": null,
   "metadata": {
    "colab": {
     "autoexec": {
      "startup": false,
      "wait_interval": 0
     },
     "base_uri": "https://localhost:8080/",
     "height": 38,
     "output_extras": [
      {
       "item_id": 1
      }
     ]
    },
    "colab_type": "code",
    "collapsed": true,
    "executionInfo": {
     "elapsed": 274,
     "status": "ok",
     "timestamp": 1518206355593,
     "user": {
      "displayName": "Stephen Pardy",
      "photoUrl": "//lh5.googleusercontent.com/-IbruOgubsUY/AAAAAAAAAAI/AAAAAAAAA4A/YZfSewRppuM/s50-c-k-no/photo.jpg",
      "userId": "110693586619773300040"
     },
     "user_tz": 360
    },
    "id": "CBNoIGpLJi-N",
    "outputId": "3729f2aa-423f-44e8-c0cb-4a226db4e5f0"
   },
   "outputs": [],
   "source": [
    "type(1.+1.2)"
   ]
  },
  {
   "cell_type": "code",
   "execution_count": null,
   "metadata": {
    "colab": {
     "autoexec": {
      "startup": false,
      "wait_interval": 0
     },
     "base_uri": "https://localhost:8080/",
     "height": 38,
     "output_extras": [
      {
       "item_id": 1
      }
     ]
    },
    "colab_type": "code",
    "collapsed": true,
    "executionInfo": {
     "elapsed": 223,
     "status": "ok",
     "timestamp": 1518469276302,
     "user": {
      "displayName": "Stephen Pardy",
      "photoUrl": "//lh5.googleusercontent.com/-IbruOgubsUY/AAAAAAAAAAI/AAAAAAAAA4A/YZfSewRppuM/s50-c-k-no/photo.jpg",
      "userId": "110693586619773300040"
     },
     "user_tz": 360
    },
    "id": "-Q0_-sOhJmOU",
    "outputId": "c4545b93-3ff8-4495-b77f-53328e4c2a81"
   },
   "outputs": [],
   "source": [
    "1.0+1.2"
   ]
  },
  {
   "cell_type": "code",
   "execution_count": null,
   "metadata": {
    "colab": {
     "autoexec": {
      "startup": false,
      "wait_interval": 0
     },
     "base_uri": "https://localhost:8080/",
     "height": 38,
     "output_extras": [
      {
       "item_id": 1
      }
     ]
    },
    "colab_type": "code",
    "collapsed": true,
    "executionInfo": {
     "elapsed": 245,
     "status": "ok",
     "timestamp": 1518278031379,
     "user": {
      "displayName": "Stephen Pardy",
      "photoUrl": "//lh5.googleusercontent.com/-IbruOgubsUY/AAAAAAAAAAI/AAAAAAAAA4A/YZfSewRppuM/s50-c-k-no/photo.jpg",
      "userId": "110693586619773300040"
     },
     "user_tz": 360
    },
    "id": "rKHGshZOa7fj",
    "outputId": "f5c64f9f-ce4f-4d31-b055-83ac3cd47e28"
   },
   "outputs": [],
   "source": [
    "# we can compare numbers using comparison operators - these return a value of either True or False (boolean type)\n",
    "1 > 2  # is one greater than two?"
   ]
  },
  {
   "cell_type": "markdown",
   "metadata": {
    "colab_type": "text",
    "id": "CgbyoYr50a5N"
   },
   "source": [
    "### Exercise:\n",
    "What type do you get when you add together a float and an int?"
   ]
  },
  {
   "cell_type": "markdown",
   "metadata": {
    "colab_type": "text",
    "id": "6yFuL6A50hGE"
   },
   "source": [
    "## Strings and lists"
   ]
  },
  {
   "cell_type": "code",
   "execution_count": null,
   "metadata": {
    "colab": {
     "autoexec": {
      "startup": false,
      "wait_interval": 0
     }
    },
    "colab_type": "code",
    "collapsed": true,
    "id": "kZhm6wiCJu19"
   },
   "outputs": [],
   "source": [
    "# and we can use 'strings' - text \n",
    "poem = 'Spiral galaxy; Plane splashed across the night sky; Gives us perspective'"
   ]
  },
  {
   "cell_type": "code",
   "execution_count": null,
   "metadata": {
    "colab": {
     "autoexec": {
      "startup": false,
      "wait_interval": 0
     }
    },
    "colab_type": "code",
    "collapsed": true,
    "id": "AdIDngtNK3Zw"
   },
   "outputs": [],
   "source": [
    "#We can collect together a bunch of numbers or strings into a list\n",
    "favorite_primes = [1, 3, 5, 7, 11]"
   ]
  },
  {
   "cell_type": "code",
   "execution_count": null,
   "metadata": {
    "colab": {
     "autoexec": {
      "startup": false,
      "wait_interval": 0
     }
    },
    "colab_type": "code",
    "collapsed": true,
    "id": "X6AV15C6dx3e"
   },
   "outputs": [],
   "source": [
    "type(favorite_primes)"
   ]
  },
  {
   "cell_type": "code",
   "execution_count": null,
   "metadata": {
    "colab": {
     "autoexec": {
      "startup": false,
      "wait_interval": 0
     },
     "base_uri": "https://localhost:8080/",
     "height": 38,
     "output_extras": [
      {
       "item_id": 1
      }
     ]
    },
    "colab_type": "code",
    "collapsed": true,
    "executionInfo": {
     "elapsed": 247,
     "status": "ok",
     "timestamp": 1518206830746,
     "user": {
      "displayName": "Stephen Pardy",
      "photoUrl": "//lh5.googleusercontent.com/-IbruOgubsUY/AAAAAAAAAAI/AAAAAAAAA4A/YZfSewRppuM/s50-c-k-no/photo.jpg",
      "userId": "110693586619773300040"
     },
     "user_tz": 360
    },
    "id": "Foe_6kjeLWKo",
    "outputId": "10d31bb5-04f9-44bf-af50-be3db0e83dfa"
   },
   "outputs": [],
   "source": [
    "#and access them using square brackets\n",
    "favorite_primes[0]  # <-- '[0]' will select the first number"
   ]
  },
  {
   "cell_type": "code",
   "execution_count": null,
   "metadata": {
    "colab": {
     "autoexec": {
      "startup": false,
      "wait_interval": 0
     },
     "base_uri": "https://localhost:8080/",
     "height": 38,
     "output_extras": [
      {
       "item_id": 1
      }
     ]
    },
    "colab_type": "code",
    "collapsed": true,
    "executionInfo": {
     "elapsed": 220,
     "status": "ok",
     "timestamp": 1518206850683,
     "user": {
      "displayName": "Stephen Pardy",
      "photoUrl": "//lh5.googleusercontent.com/-IbruOgubsUY/AAAAAAAAAAI/AAAAAAAAA4A/YZfSewRppuM/s50-c-k-no/photo.jpg",
      "userId": "110693586619773300040"
     },
     "user_tz": 360
    },
    "id": "Z_eZ2ZJbLcd3",
    "outputId": "9b2e2ae1-42a5-455d-cd82-1748a6da19b7"
   },
   "outputs": [],
   "source": [
    "# [-1] will select the last number\n",
    "favorite_primes[-1]"
   ]
  },
  {
   "cell_type": "code",
   "execution_count": null,
   "metadata": {
    "colab": {
     "autoexec": {
      "startup": false,
      "wait_interval": 0
     },
     "base_uri": "https://localhost:8080/",
     "height": 38,
     "output_extras": [
      {
       "item_id": 1
      }
     ]
    },
    "colab_type": "code",
    "collapsed": true,
    "executionInfo": {
     "elapsed": 247,
     "status": "ok",
     "timestamp": 1518206885371,
     "user": {
      "displayName": "Stephen Pardy",
      "photoUrl": "//lh5.googleusercontent.com/-IbruOgubsUY/AAAAAAAAAAI/AAAAAAAAA4A/YZfSewRppuM/s50-c-k-no/photo.jpg",
      "userId": "110693586619773300040"
     },
     "user_tz": 360
    },
    "id": "JwvnpqOJLhV3",
    "outputId": "0c2f6590-e089-42c4-f0a2-266d23b7c8a9"
   },
   "outputs": [],
   "source": [
    "# we can also select a range of numbers\n",
    "favorite_primes[::2]  # <-- select every other element"
   ]
  },
  {
   "cell_type": "code",
   "execution_count": null,
   "metadata": {
    "colab": {
     "autoexec": {
      "startup": false,
      "wait_interval": 0
     },
     "base_uri": "https://localhost:8080/",
     "height": 38,
     "output_extras": [
      {
       "item_id": 1
      }
     ]
    },
    "colab_type": "code",
    "collapsed": true,
    "executionInfo": {
     "elapsed": 244,
     "status": "ok",
     "timestamp": 1518206939992,
     "user": {
      "displayName": "Stephen Pardy",
      "photoUrl": "//lh5.googleusercontent.com/-IbruOgubsUY/AAAAAAAAAAI/AAAAAAAAA4A/YZfSewRppuM/s50-c-k-no/photo.jpg",
      "userId": "110693586619773300040"
     },
     "user_tz": 360
    },
    "id": "-G0X8rZoLpza",
    "outputId": "9ece8ae2-b17b-4a85-e18b-fc422d8f3c17"
   },
   "outputs": [],
   "source": [
    "favorite_primes[:2]  # select the first two elements"
   ]
  },
  {
   "cell_type": "code",
   "execution_count": null,
   "metadata": {
    "colab": {
     "autoexec": {
      "startup": false,
      "wait_interval": 0
     },
     "base_uri": "https://localhost:8080/",
     "height": 38,
     "output_extras": [
      {
       "item_id": 1
      }
     ]
    },
    "colab_type": "code",
    "collapsed": true,
    "executionInfo": {
     "elapsed": 246,
     "status": "ok",
     "timestamp": 1518206958950,
     "user": {
      "displayName": "Stephen Pardy",
      "photoUrl": "//lh5.googleusercontent.com/-IbruOgubsUY/AAAAAAAAAAI/AAAAAAAAA4A/YZfSewRppuM/s50-c-k-no/photo.jpg",
      "userId": "110693586619773300040"
     },
     "user_tz": 360
    },
    "id": "Izr_aE_TL3I8",
    "outputId": "a75ec67a-cca4-4863-8b18-e4a7c377a276"
   },
   "outputs": [],
   "source": [
    "favorite_primes[2:]  # select from the 3rd element to the last element"
   ]
  },
  {
   "cell_type": "markdown",
   "metadata": {
    "colab_type": "text",
    "id": "be0mkNDl0wce"
   },
   "source": [
    "## Loops"
   ]
  },
  {
   "cell_type": "code",
   "execution_count": null,
   "metadata": {
    "colab": {
     "autoexec": {
      "startup": false,
      "wait_interval": 0
     },
     "base_uri": "https://localhost:8080/",
     "height": 98,
     "output_extras": [
      {
       "item_id": 1
      }
     ]
    },
    "colab_type": "code",
    "collapsed": true,
    "executionInfo": {
     "elapsed": 276,
     "status": "ok",
     "timestamp": 1518278151037,
     "user": {
      "displayName": "Stephen Pardy",
      "photoUrl": "//lh5.googleusercontent.com/-IbruOgubsUY/AAAAAAAAAAI/AAAAAAAAA4A/YZfSewRppuM/s50-c-k-no/photo.jpg",
      "userId": "110693586619773300040"
     },
     "user_tz": 360
    },
    "id": "AJFURLZ0bD7K",
    "outputId": "e80adc10-eb46-4f0d-80ec-0ad21f8445f2"
   },
   "outputs": [],
   "source": [
    "# we can do things multiple times in a loop:\n",
    "for prime in my_favorite_primes:  # loop through and get each element of the list \n",
    "  print(prime, prime**2)  # print each element and the square of that element"
   ]
  },
  {
   "cell_type": "code",
   "execution_count": null,
   "metadata": {
    "colab": {
     "autoexec": {
      "startup": false,
      "wait_interval": 0
     },
     "base_uri": "https://localhost:8080/",
     "height": 173,
     "output_extras": [
      {
       "item_id": 1
      }
     ]
    },
    "colab_type": "code",
    "collapsed": true,
    "executionInfo": {
     "elapsed": 247,
     "status": "ok",
     "timestamp": 1518278913812,
     "user": {
      "displayName": "Stephen Pardy",
      "photoUrl": "//lh5.googleusercontent.com/-IbruOgubsUY/AAAAAAAAAAI/AAAAAAAAA4A/YZfSewRppuM/s50-c-k-no/photo.jpg",
      "userId": "110693586619773300040"
     },
     "user_tz": 360
    },
    "id": "ujgi0qEBdmOe",
    "outputId": "c74e066f-53f8-49d9-ea80-62ec470133d0"
   },
   "outputs": [],
   "source": [
    "# for loops are one way to loop - while loops are another\n",
    "# careful! while loops can sometimes loop forever - check that they have a stopping criteria\n",
    "i = 0  # start at some value\n",
    "while i < 10:  # will loop until this condition evaluates to True\n",
    "  print(i)\n",
    "  i = i + 1 "
   ]
  },
  {
   "cell_type": "markdown",
   "metadata": {},
   "source": [
    "We can also loop through two lists by using the zip command. More about zip here: https://www.programiz.com/python-programming/methods/built-in/zip (somewhat technical)."
   ]
  },
  {
   "cell_type": "code",
   "execution_count": null,
   "metadata": {
    "collapsed": true
   },
   "outputs": [],
   "source": [
    "# lets first make a second list\n",
    "favorite_largenumbers = [10, 300, 5e+5, 7000, 2**32]  # note here that python ints can be very large with no problem"
   ]
  },
  {
   "cell_type": "code",
   "execution_count": null,
   "metadata": {
    "collapsed": true
   },
   "outputs": [],
   "source": [
    "for large_number, prime in zip(favorite_largenumbers, favorite_primes):\n",
    "    print(large_number, prime)"
   ]
  },
  {
   "cell_type": "markdown",
   "metadata": {},
   "source": [
    "### Exercise:\n",
    "Modify the above code to loop through a list of my least favorite numbers AND the primes. What is the largest number that will print below?"
   ]
  },
  {
   "cell_type": "code",
   "execution_count": null,
   "metadata": {
    "collapsed": true
   },
   "outputs": [],
   "source": [
    "# make a new list that has only four numbers\n",
    "least_favorite_numbers = [-1, 0, 1, 2]\n",
    "\n",
    "for bad_number, prime in zip(<MODIFY THIS PART>):\n",
    "    print(bad_number, prime)"
   ]
  },
  {
   "cell_type": "markdown",
   "metadata": {
    "colab_type": "text",
    "id": "1ayPGOQp0yNS"
   },
   "source": [
    "## Functions"
   ]
  },
  {
   "cell_type": "markdown",
   "metadata": {
    "colab_type": "text",
    "id": "uggSxrzlsACx"
   },
   "source": [
    "If we want to do something more complicated we can define a function."
   ]
  },
  {
   "cell_type": "code",
   "execution_count": null,
   "metadata": {
    "colab": {
     "autoexec": {
      "startup": false,
      "wait_interval": 0
     },
     "base_uri": "https://localhost:8080/",
     "height": 38,
     "output_extras": [
      {
       "item_id": 1
      }
     ]
    },
    "colab_type": "code",
    "collapsed": true,
    "executionInfo": {
     "elapsed": 207,
     "status": "ok",
     "timestamp": 1518467476917,
     "user": {
      "displayName": "Stephen Pardy",
      "photoUrl": "//lh5.googleusercontent.com/-IbruOgubsUY/AAAAAAAAAAI/AAAAAAAAA4A/YZfSewRppuM/s50-c-k-no/photo.jpg",
      "userId": "110693586619773300040"
     },
     "user_tz": 360
    },
    "id": "hEJOQRBPr_Mk",
    "outputId": "6a63e7e6-4c01-4285-e19e-07249c303dda"
   },
   "outputs": [],
   "source": [
    "def square(number):\n",
    "  # this function will take a number and return its square\n",
    "  return number**2\n",
    "\n",
    "print(square(3))"
   ]
  },
  {
   "cell_type": "code",
   "execution_count": null,
   "metadata": {
    "colab": {
     "autoexec": {
      "startup": false,
      "wait_interval": 0
     },
     "base_uri": "https://localhost:8080/",
     "height": 53,
     "output_extras": [
      {
       "item_id": 1
      }
     ]
    },
    "colab_type": "code",
    "collapsed": true,
    "executionInfo": {
     "elapsed": 245,
     "status": "ok",
     "timestamp": 1518299659883,
     "user": {
      "displayName": "Stephen Pardy",
      "photoUrl": "//lh5.googleusercontent.com/-IbruOgubsUY/AAAAAAAAAAI/AAAAAAAAA4A/YZfSewRppuM/s50-c-k-no/photo.jpg",
      "userId": "110693586619773300040"
     },
     "user_tz": 360
    },
    "id": "6qE2ou4_sUbK",
    "outputId": "0783abd2-793d-4644-8c23-d696d2abf3e1"
   },
   "outputs": [],
   "source": [
    "# to make the function more general we will include a keyword argument - this argument has a default value and can be changed by the user\n",
    "def raise_to_power(number, power=2):\n",
    "  return number**power\n",
    "\n",
    "print(raise_to_power(3))  # with default arguments this will square it\n",
    "print(raise_to_power(3, power=3))  # with a new argument this will return cubic"
   ]
  },
  {
   "cell_type": "markdown",
   "metadata": {},
   "source": [
    "### Exercise:\n",
    "What happens when you use the above function, but with a string as the arguments?"
   ]
  },
  {
   "cell_type": "code",
   "execution_count": null,
   "metadata": {
    "collapsed": true
   },
   "outputs": [],
   "source": [
    "print(raise_to_power(<MODIFY THIS SOMEHOW>))"
   ]
  },
  {
   "cell_type": "markdown",
   "metadata": {
    "colab_type": "text",
    "id": "nOY__311021n"
   },
   "source": [
    "## Dictionaries"
   ]
  },
  {
   "cell_type": "markdown",
   "metadata": {
    "colab_type": "text",
    "id": "uUnwYlNwx11v"
   },
   "source": [
    "In addition to lists, python also has a collection type called a 'dictionary'. These hold what are called key-value pairs. Each key gives a certain value (although note that a value here could be a single number or a list or even another dictionary). These are very useful when you have a bunch of data you want to store."
   ]
  },
  {
   "cell_type": "code",
   "execution_count": null,
   "metadata": {
    "colab": {
     "autoexec": {
      "startup": false,
      "wait_interval": 0
     }
    },
    "colab_type": "code",
    "collapsed": true,
    "id": "JBoLm5hBmazT"
   },
   "outputs": [],
   "source": [
    "definitions = {}  # here we are using the squiggly brackets to make an empty dictionary"
   ]
  },
  {
   "cell_type": "markdown",
   "metadata": {
    "colab_type": "text",
    "id": "2jDbQT0iysKi"
   },
   "source": [
    "We can add to dictionaries by using the square brackets. "
   ]
  },
  {
   "cell_type": "code",
   "execution_count": null,
   "metadata": {
    "colab": {
     "autoexec": {
      "startup": false,
      "wait_interval": 0
     }
    },
    "colab_type": "code",
    "collapsed": true,
    "id": "dFD3Crd9yR9B"
   },
   "outputs": [],
   "source": [
    "# add an entry for cosmology\n",
    "definitions['cosmology'] = 'the branch of astronomy that deals with the general structure and evolution of the universe.'\n",
    "# and for universe\n",
    "definitions['universe'] = 'the totality of known or supposed objects and phenomena throughout space; the cosmos; macrocosm.'"
   ]
  },
  {
   "cell_type": "markdown",
   "metadata": {
    "colab_type": "text",
    "id": "Upi4-McPzBWw"
   },
   "source": [
    "We can get values out of a dictionary (acessing) by using the square brackets again."
   ]
  },
  {
   "cell_type": "code",
   "execution_count": null,
   "metadata": {
    "colab": {
     "autoexec": {
      "startup": false,
      "wait_interval": 0
     },
     "base_uri": "https://localhost:8080/",
     "height": 38,
     "output_extras": [
      {
       "item_id": 1
      }
     ]
    },
    "colab_type": "code",
    "collapsed": true,
    "executionInfo": {
     "elapsed": 183,
     "status": "ok",
     "timestamp": 1518468889822,
     "user": {
      "displayName": "Stephen Pardy",
      "photoUrl": "//lh5.googleusercontent.com/-IbruOgubsUY/AAAAAAAAAAI/AAAAAAAAA4A/YZfSewRppuM/s50-c-k-no/photo.jpg",
      "userId": "110693586619773300040"
     },
     "user_tz": 360
    },
    "id": "V16AdXzBzAty",
    "outputId": "8e967112-a324-4c72-db1f-0a4676527dab"
   },
   "outputs": [],
   "source": [
    "definitions['cosmology']"
   ]
  },
  {
   "cell_type": "markdown",
   "metadata": {
    "colab_type": "text",
    "id": "Hx7nQh5ozI4M"
   },
   "source": [
    "We are not limited to strings. Dictionaries can have many types as their keys, and have many types as their values."
   ]
  },
  {
   "cell_type": "code",
   "execution_count": null,
   "metadata": {
    "colab": {
     "autoexec": {
      "startup": false,
      "wait_interval": 0
     }
    },
    "colab_type": "code",
    "collapsed": true,
    "id": "2bPyRxakzQua"
   },
   "outputs": [],
   "source": [
    "# here we are using the curly braces to make a dictionary of constants. The 'e' syntax is shorthand for 'x10^', so 1e-1 is 0.1\n",
    "constants_cgs = {'G': 6.67259e-8, 'h': 6.6260756e-27, 'k': 1.380658e-16}"
   ]
  },
  {
   "cell_type": "markdown",
   "metadata": {
    "colab_type": "text",
    "id": "SMekyTM-z8IK"
   },
   "source": [
    "### Excercise\n",
    "What happens when you try and access an entry in a dictionary that doesn't exist?"
   ]
  },
  {
   "cell_type": "markdown",
   "metadata": {
    "colab_type": "text",
    "id": "P2BQWJf00IKN"
   },
   "source": [
    "## Numpy and packages"
   ]
  },
  {
   "cell_type": "markdown",
   "metadata": {
    "colab_type": "text",
    "id": "fTbpPjfSuHNG"
   },
   "source": [
    "Sometimes we want to go beyond what python can do by default. We can do this by importing 'packages'\n",
    "More resources on numpy: https://docs.scipy.org/doc/numpy-dev/user/quickstart.html"
   ]
  },
  {
   "cell_type": "code",
   "execution_count": null,
   "metadata": {
    "colab": {
     "autoexec": {
      "startup": false,
      "wait_interval": 0
     }
    },
    "colab_type": "code",
    "collapsed": true,
    "id": "HlAJDE-2L5Bj"
   },
   "outputs": [],
   "source": [
    "import numpy as np  # now we have access to a range of new functions that work with numerical data"
   ]
  },
  {
   "cell_type": "code",
   "execution_count": null,
   "metadata": {
    "colab": {
     "autoexec": {
      "startup": false,
      "wait_interval": 0
     }
    },
    "colab_type": "code",
    "collapsed": true,
    "id": "WxZPuOSJNgbW"
   },
   "outputs": [],
   "source": [
    "# we can make an 'array' -- this is similar to a list but has some advantages\n",
    "array_of_primes = np.array([1, 3, 5, 7, 11])"
   ]
  },
  {
   "cell_type": "code",
   "execution_count": null,
   "metadata": {
    "colab": {
     "autoexec": {
      "startup": false,
      "wait_interval": 0
     },
     "base_uri": "https://localhost:8080/",
     "height": 38,
     "output_extras": [
      {
       "item_id": 1
      }
     ]
    },
    "colab_type": "code",
    "collapsed": true,
    "executionInfo": {
     "elapsed": 340,
     "status": "ok",
     "timestamp": 1518477995454,
     "user": {
      "displayName": "Stephen Pardy",
      "photoUrl": "//lh5.googleusercontent.com/-IbruOgubsUY/AAAAAAAAAAI/AAAAAAAAA4A/YZfSewRppuM/s50-c-k-no/photo.jpg",
      "userId": "110693586619773300040"
     },
     "user_tz": 360
    },
    "id": "vtdnvtHVNQg1",
    "outputId": "3d1cad8e-a914-450d-a508-5676c8af215f"
   },
   "outputs": [],
   "source": [
    "# you can do math on the entire array\n",
    "array_of_primes + 1"
   ]
  },
  {
   "cell_type": "code",
   "execution_count": null,
   "metadata": {
    "colab": {
     "autoexec": {
      "startup": false,
      "wait_interval": 0
     },
     "base_uri": "https://localhost:8080/",
     "height": 38,
     "output_extras": [
      {
       "item_id": 1
      }
     ]
    },
    "colab_type": "code",
    "collapsed": true,
    "executionInfo": {
     "elapsed": 252,
     "status": "ok",
     "timestamp": 1518278255090,
     "user": {
      "displayName": "Stephen Pardy",
      "photoUrl": "//lh5.googleusercontent.com/-IbruOgubsUY/AAAAAAAAAAI/AAAAAAAAA4A/YZfSewRppuM/s50-c-k-no/photo.jpg",
      "userId": "110693586619773300040"
     },
     "user_tz": 360
    },
    "id": "JhUDgS9XbrxN",
    "outputId": "85e44754-5ec5-4deb-c70f-a74db93b5e7f"
   },
   "outputs": [],
   "source": [
    "# CAREFUL: this only works with numpy arrays. This will not work with lists!! Pay attention to the type that you are working with.\n",
    "# Illustris data uses numpy arrays mostly, but it is always good to check. \n",
    "print(type(array_of_primes), type(favorite_primes))"
   ]
  },
  {
   "cell_type": "code",
   "execution_count": null,
   "metadata": {
    "colab": {
     "autoexec": {
      "startup": false,
      "wait_interval": 0
     },
     "base_uri": "https://localhost:8080/",
     "height": 38,
     "output_extras": [
      {
       "item_id": 1
      }
     ]
    },
    "colab_type": "code",
    "collapsed": true,
    "executionInfo": {
     "elapsed": 412,
     "status": "ok",
     "timestamp": 1518278379227,
     "user": {
      "displayName": "Stephen Pardy",
      "photoUrl": "//lh5.googleusercontent.com/-IbruOgubsUY/AAAAAAAAAAI/AAAAAAAAA4A/YZfSewRppuM/s50-c-k-no/photo.jpg",
      "userId": "110693586619773300040"
     },
     "user_tz": 360
    },
    "id": "3ygY2ef9cQcM",
    "outputId": "f09e09f4-20e9-4979-9ec8-e7dbd332aeaf"
   },
   "outputs": [],
   "source": [
    "# We can see some info on the size and shape of the array:\n",
    "print(array_of_primes.shape, array_of_primes.ndim)"
   ]
  },
  {
   "cell_type": "code",
   "execution_count": null,
   "metadata": {
    "colab": {
     "autoexec": {
      "startup": false,
      "wait_interval": 0
     }
    },
    "colab_type": "code",
    "collapsed": true,
    "id": "0noXwfdxNft7"
   },
   "outputs": [],
   "source": [
    "# and generate arrays with values\n",
    "array_of_evens = np.arange(2, 12, 2)  # array starting at 2, ending at 12 (exclusive) in steps of 2"
   ]
  },
  {
   "cell_type": "markdown",
   "metadata": {
    "colab_type": "text",
    "id": "mQeEqdpCeLwu"
   },
   "source": [
    "We can add arrays together - this will add each element of each array to the corresponding element in the other array. This is type of operation is called an 'element-wise' operation and can save you from having to write loops.\n"
   ]
  },
  {
   "cell_type": "code",
   "execution_count": null,
   "metadata": {
    "colab": {
     "autoexec": {
      "startup": false,
      "wait_interval": 0
     },
     "base_uri": "https://localhost:8080/",
     "height": 38,
     "output_extras": [
      {
       "item_id": 1
      }
     ]
    },
    "colab_type": "code",
    "collapsed": true,
    "executionInfo": {
     "elapsed": 282,
     "status": "ok",
     "timestamp": 1518277979603,
     "user": {
      "displayName": "Stephen Pardy",
      "photoUrl": "//lh5.googleusercontent.com/-IbruOgubsUY/AAAAAAAAAAI/AAAAAAAAA4A/YZfSewRppuM/s50-c-k-no/photo.jpg",
      "userId": "110693586619773300040"
     },
     "user_tz": 360
    },
    "id": "b7gV4QBUaqLI",
    "outputId": "3b56ef09-a13a-48b2-ca99-6e5b8266d9fe"
   },
   "outputs": [],
   "source": [
    "array_of_primes + array_of_evens"
   ]
  },
  {
   "cell_type": "code",
   "execution_count": null,
   "metadata": {
    "colab": {
     "autoexec": {
      "startup": false,
      "wait_interval": 0
     },
     "base_uri": "https://localhost:8080/",
     "height": 38,
     "output_extras": [
      {
       "item_id": 1
      }
     ]
    },
    "colab_type": "code",
    "collapsed": true,
    "executionInfo": {
     "elapsed": 187,
     "status": "ok",
     "timestamp": 1518478005628,
     "user": {
      "displayName": "Stephen Pardy",
      "photoUrl": "//lh5.googleusercontent.com/-IbruOgubsUY/AAAAAAAAAAI/AAAAAAAAA4A/YZfSewRppuM/s50-c-k-no/photo.jpg",
      "userId": "110693586619773300040"
     },
     "user_tz": 360
    },
    "id": "nsRLoKL1a1Wu",
    "outputId": "d291184f-f618-41a5-99f9-a75721e5f4ae"
   },
   "outputs": [],
   "source": [
    "# we can also compare element-wise:\n",
    "array_of_evens > array_of_primes"
   ]
  },
  {
   "cell_type": "code",
   "execution_count": null,
   "metadata": {
    "colab": {
     "autoexec": {
      "startup": false,
      "wait_interval": 0
     },
     "base_uri": "https://localhost:8080/",
     "height": 38,
     "output_extras": [
      {
       "item_id": 1
      }
     ]
    },
    "colab_type": "code",
    "collapsed": true,
    "executionInfo": {
     "elapsed": 190,
     "status": "ok",
     "timestamp": 1518478010207,
     "user": {
      "displayName": "Stephen Pardy",
      "photoUrl": "//lh5.googleusercontent.com/-IbruOgubsUY/AAAAAAAAAAI/AAAAAAAAA4A/YZfSewRppuM/s50-c-k-no/photo.jpg",
      "userId": "110693586619773300040"
     },
     "user_tz": 360
    },
    "id": "NHvkI8O-b9yV",
    "outputId": "1220380e-c135-4fa3-f3d4-ad849a498cf1"
   },
   "outputs": [],
   "source": [
    "# we can use these arrays of boolean values to select values of interest from an array\n",
    "array_of_evens[array_of_evens > array_of_primes]  # select only the even numbers that are greater than corresponding prime numbers"
   ]
  },
  {
   "cell_type": "code",
   "execution_count": null,
   "metadata": {
    "colab": {
     "autoexec": {
      "startup": false,
      "wait_interval": 0
     },
     "base_uri": "https://localhost:8080/",
     "height": 38,
     "output_extras": [
      {
       "item_id": 1
      }
     ]
    },
    "colab_type": "code",
    "collapsed": true,
    "executionInfo": {
     "elapsed": 182,
     "status": "ok",
     "timestamp": 1518478050209,
     "user": {
      "displayName": "Stephen Pardy",
      "photoUrl": "//lh5.googleusercontent.com/-IbruOgubsUY/AAAAAAAAAAI/AAAAAAAAA4A/YZfSewRppuM/s50-c-k-no/photo.jpg",
      "userId": "110693586619773300040"
     },
     "user_tz": 360
    },
    "id": "-7nuD0t_V7mR",
    "outputId": "faa068f5-e437-4559-e863-534e3bfd833a"
   },
   "outputs": [],
   "source": [
    "#Or we can use a 'where' function to get the corresponding indices.\n",
    "np.where(array_of_evens > array_of_primes)"
   ]
  },
  {
   "cell_type": "code",
   "execution_count": null,
   "metadata": {
    "colab": {
     "autoexec": {
      "startup": false,
      "wait_interval": 0
     },
     "base_uri": "https://localhost:8080/",
     "height": 38,
     "output_extras": [
      {
       "item_id": 1
      }
     ]
    },
    "colab_type": "code",
    "collapsed": true,
    "executionInfo": {
     "elapsed": 191,
     "status": "ok",
     "timestamp": 1518478170775,
     "user": {
      "displayName": "Stephen Pardy",
      "photoUrl": "//lh5.googleusercontent.com/-IbruOgubsUY/AAAAAAAAAAI/AAAAAAAAA4A/YZfSewRppuM/s50-c-k-no/photo.jpg",
      "userId": "110693586619773300040"
     },
     "user_tz": 360
    },
    "id": "ejt8aukBWH0T",
    "outputId": "48094db5-296a-4798-e2a0-c5c5d0ccf9b7"
   },
   "outputs": [],
   "source": [
    "indices = np.where(array_of_evens > array_of_primes)\n",
    "array_of_evens[indices]"
   ]
  },
  {
   "cell_type": "markdown",
   "metadata": {
    "colab_type": "text",
    "id": "fGwzPNyquAJo"
   },
   "source": [
    "Numpy arrays can be multi-dimensional. Lets focus on 2D arrays which are used in illustris. Note: Python is row major meaning that the vertical dimension is accessed first."
   ]
  },
  {
   "cell_type": "code",
   "execution_count": null,
   "metadata": {
    "colab": {
     "autoexec": {
      "startup": false,
      "wait_interval": 0
     }
    },
    "colab_type": "code",
    "collapsed": true,
    "id": "7WzLnOTXcMvl"
   },
   "outputs": [],
   "source": [
    "velocities = np.random.rand(15).reshape(5, 3)  # make an array of 15 random values and reshape them into a 2D array with four rows and three columns"
   ]
  },
  {
   "cell_type": "code",
   "execution_count": null,
   "metadata": {
    "colab": {
     "autoexec": {
      "startup": false,
      "wait_interval": 0
     },
     "base_uri": "https://localhost:8080/",
     "height": 98,
     "output_extras": [
      {
       "item_id": 1
      }
     ]
    },
    "colab_type": "code",
    "collapsed": true,
    "executionInfo": {
     "elapsed": 239,
     "status": "ok",
     "timestamp": 1518300168638,
     "user": {
      "displayName": "Stephen Pardy",
      "photoUrl": "//lh5.googleusercontent.com/-IbruOgubsUY/AAAAAAAAAAI/AAAAAAAAA4A/YZfSewRppuM/s50-c-k-no/photo.jpg",
      "userId": "110693586619773300040"
     },
     "user_tz": 360
    },
    "id": "mkj1M2i2vHtd",
    "outputId": "893a6015-cc5a-4875-8f99-894296d9fa21"
   },
   "outputs": [],
   "source": [
    "#lets examine the results! This will be different for each person\n",
    "velocities"
   ]
  },
  {
   "cell_type": "markdown",
   "metadata": {
    "colab_type": "text",
    "id": "D4AniYzXweR8"
   },
   "source": [
    "We can use indexing to get a certain row or column"
   ]
  },
  {
   "cell_type": "code",
   "execution_count": null,
   "metadata": {
    "colab": {
     "autoexec": {
      "startup": false,
      "wait_interval": 0
     },
     "base_uri": "https://localhost:8080/",
     "height": 38,
     "output_extras": [
      {
       "item_id": 1
      }
     ]
    },
    "colab_type": "code",
    "collapsed": true,
    "executionInfo": {
     "elapsed": 269,
     "status": "ok",
     "timestamp": 1518300500124,
     "user": {
      "displayName": "Stephen Pardy",
      "photoUrl": "//lh5.googleusercontent.com/-IbruOgubsUY/AAAAAAAAAAI/AAAAAAAAA4A/YZfSewRppuM/s50-c-k-no/photo.jpg",
      "userId": "110693586619773300040"
     },
     "user_tz": 360
    },
    "id": "Rw2XOHxAwjOO",
    "outputId": "dea5432a-0e20-4783-a932-2d6b788fc116"
   },
   "outputs": [],
   "source": [
    "velocities[:, 0]  # get all values (the ':' character) from the first column"
   ]
  },
  {
   "cell_type": "code",
   "execution_count": null,
   "metadata": {
    "colab": {
     "autoexec": {
      "startup": false,
      "wait_interval": 0
     },
     "base_uri": "https://localhost:8080/",
     "height": 38,
     "output_extras": [
      {
       "item_id": 1
      }
     ]
    },
    "colab_type": "code",
    "collapsed": true,
    "executionInfo": {
     "elapsed": 257,
     "status": "ok",
     "timestamp": 1518300518846,
     "user": {
      "displayName": "Stephen Pardy",
      "photoUrl": "//lh5.googleusercontent.com/-IbruOgubsUY/AAAAAAAAAAI/AAAAAAAAA4A/YZfSewRppuM/s50-c-k-no/photo.jpg",
      "userId": "110693586619773300040"
     },
     "user_tz": 360
    },
    "id": "UdbG0stYwxiJ",
    "outputId": "eac22987-d97a-42b5-d72f-e46e83e7d48c"
   },
   "outputs": [],
   "source": [
    "velocities[1, :]  # get all values from the second row"
   ]
  },
  {
   "cell_type": "markdown",
   "metadata": {
    "colab_type": "text",
    "id": "zORAugf1vle9"
   },
   "source": [
    "We can compute statistics for the whole array or along different dimension."
   ]
  },
  {
   "cell_type": "code",
   "execution_count": null,
   "metadata": {
    "colab": {
     "autoexec": {
      "startup": false,
      "wait_interval": 0
     },
     "base_uri": "https://localhost:8080/",
     "height": 38,
     "output_extras": [
      {
       "item_id": 1
      }
     ]
    },
    "colab_type": "code",
    "collapsed": true,
    "executionInfo": {
     "elapsed": 259,
     "status": "ok",
     "timestamp": 1518300307381,
     "user": {
      "displayName": "Stephen Pardy",
      "photoUrl": "//lh5.googleusercontent.com/-IbruOgubsUY/AAAAAAAAAAI/AAAAAAAAA4A/YZfSewRppuM/s50-c-k-no/photo.jpg",
      "userId": "110693586619773300040"
     },
     "user_tz": 360
    },
    "id": "yU_8y3zEvL5c",
    "outputId": "5c34ada7-9b8e-4d1f-ea4a-950aa99080c0"
   },
   "outputs": [],
   "source": [
    "# print the mean value, the max value, and the min value of the array\n",
    "velocities.mean(), velocities.min(), velocities.max()"
   ]
  },
  {
   "cell_type": "code",
   "execution_count": null,
   "metadata": {
    "colab": {
     "autoexec": {
      "startup": false,
      "wait_interval": 0
     },
     "base_uri": "https://localhost:8080/",
     "height": 38,
     "output_extras": [
      {
       "item_id": 1
      }
     ]
    },
    "colab_type": "code",
    "collapsed": true,
    "executionInfo": {
     "elapsed": 239,
     "status": "ok",
     "timestamp": 1518300331068,
     "user": {
      "displayName": "Stephen Pardy",
      "photoUrl": "//lh5.googleusercontent.com/-IbruOgubsUY/AAAAAAAAAAI/AAAAAAAAA4A/YZfSewRppuM/s50-c-k-no/photo.jpg",
      "userId": "110693586619773300040"
     },
     "user_tz": 360
    },
    "id": "mcymlF8MvwAD",
    "outputId": "e9c211b1-69de-4ea0-872b-633271a752df"
   },
   "outputs": [],
   "source": [
    "# print the mean in each of the columns - should be a 1D array with three values\n",
    "velocities.mean(axis=0)"
   ]
  },
  {
   "cell_type": "markdown",
   "metadata": {
    "colab_type": "text",
    "id": "rCaJ8KtuwNV-"
   },
   "source": [
    "### Exercise:\n",
    "How would you modify the above line the see the average for each row?"
   ]
  },
  {
   "cell_type": "markdown",
   "metadata": {
    "colab": {
     "autoexec": {
      "startup": false,
      "wait_interval": 0
     }
    },
    "colab_type": "code",
    "id": "u4eMR51awHsd"
   },
   "source": [
    "## Plotting"
   ]
  },
  {
   "cell_type": "markdown",
   "metadata": {},
   "source": [
    "There are many ways to plot in python. I will show the basics of matplotlib - more information can be found here: https://matplotlib.org/users/pyplot_tutorial.html"
   ]
  },
  {
   "cell_type": "code",
   "execution_count": null,
   "metadata": {
    "collapsed": true
   },
   "outputs": [],
   "source": [
    "import matplotlib.pyplot as plt  # lets import some plotting tools and give it a helpful name\n",
    "# this next fancy 'magic line' lets us plot right here in the notebook\n",
    "%matplotlib inline"
   ]
  },
  {
   "cell_type": "code",
   "execution_count": null,
   "metadata": {
    "collapsed": true
   },
   "outputs": [],
   "source": [
    "#making a simple plot is easy - just tell the 'plot' function what you x and y values are - by default it makes a line\n",
    "x = np.arange(10)\n",
    "y = x**2\n",
    "plt.plot(x, y)"
   ]
  },
  {
   "cell_type": "code",
   "execution_count": null,
   "metadata": {
    "collapsed": true
   },
   "outputs": [],
   "source": [
    "# or we can make them points by setting some options\n",
    "plt.plot(x, y, marker='.', linestyle='none')  # turning the line to none and the marker to a period"
   ]
  }
 ],
 "metadata": {
  "colab": {
   "collapsed_sections": [],
   "default_view": {},
   "name": "IntroPythonNotebook.ipynb",
   "provenance": [],
   "version": "0.3.2",
   "views": {}
  },
  "kernelspec": {
   "display_name": "Python [default]",
   "language": "python",
   "name": "python3"
  },
  "language_info": {
   "codemirror_mode": {
    "name": "ipython",
    "version": 3
   },
   "file_extension": ".py",
   "mimetype": "text/x-python",
   "name": "python",
   "nbconvert_exporter": "python",
   "pygments_lexer": "ipython3",
   "version": "3.6.2"
  }
 },
 "nbformat": 4,
 "nbformat_minor": 1
}
