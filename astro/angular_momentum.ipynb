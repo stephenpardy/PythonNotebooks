{
 "cells": [
  {
   "cell_type": "code",
   "execution_count": 232,
   "metadata": {
    "collapsed": true
   },
   "outputs": [],
   "source": [
    "import numpy as np\n",
    "import pandas as pd\n",
    "import matplotlib.pyplot as plt\n",
    "from matplotlib.patches import Circle\n",
    "\n",
    "import astropy.units as u\n",
    "from astropy import constants\n",
    "from astropy.io import fits\n",
    "from astropy.coordinates import Galactic, Galactocentric, ICRS, LSR\n",
    "from astropy.coordinates import (CartesianRepresentation,\n",
    "                                 CartesianDifferential)\n",
    "\n",
    "\n",
    "%matplotlib inline"
   ]
  },
  {
   "cell_type": "markdown",
   "metadata": {},
   "source": [
    "Test angular momentum from Sales+2017 and Fritz+2018 combo data."
   ]
  },
  {
   "cell_type": "code",
   "execution_count": 233,
   "metadata": {
    "collapsed": true
   },
   "outputs": [],
   "source": [
    "_coord = Galactic(l=265.9*u.degree, b=-49.6*u.degree).transform_to(ICRS)\n",
    "ra = _coord.ra\n",
    "dec = _coord.dec"
   ]
  },
  {
   "cell_type": "code",
   "execution_count": null,
   "metadata": {
    "collapsed": true
   },
   "outputs": [],
   "source": []
  },
  {
   "cell_type": "code",
   "execution_count": 234,
   "metadata": {
    "collapsed": true
   },
   "outputs": [],
   "source": [
    "coords_3d = ICRS(\n",
    "    ra=ra,\n",
    "    dec=dec,\n",
    "    distance=30*u.kpc,\n",
    "    pm_ra_cosdec=2.398*u.mas/u.yr*np.cos(ra.rad),\n",
    "    pm_dec=-1.319*u.mas/u.yr,\n",
    "    radial_velocity=62.8*u.km/u.s\n",
    ")"
   ]
  },
  {
   "cell_type": "code",
   "execution_count": 235,
   "metadata": {},
   "outputs": [
    {
     "data": {
      "text/plain": [
       "<Galactocentric Coordinate (galcen_coord=<ICRS Coordinate: (ra, dec) in deg\n",
       "    (266.4051, -28.936175)>, galcen_distance=8.3 kpc, galcen_v_sun=(11.1, 232.24, 7.25) km / s, z_sun=27.0 pc, roll=0.0 deg): (x, y, z) in kpc\n",
       "    (-9.76442046, -19.3938018, -22.81453664)\n",
       " (v_x, v_y, v_z) in km / s\n",
       "    (81.9559499, -11.33545597, 127.0356407)>"
      ]
     },
     "execution_count": 235,
     "metadata": {},
     "output_type": "execute_result"
    }
   ],
   "source": [
    "coords_3d.transform_to(Galactocentric)"
   ]
  },
  {
   "cell_type": "markdown",
   "metadata": {},
   "source": [
    "First calculate the angular momentum direction given in Sales's paper:"
   ]
  },
  {
   "cell_type": "code",
   "execution_count": 236,
   "metadata": {
    "collapsed": true
   },
   "outputs": [],
   "source": [
    "LMC_sales = np.array([-0.97, 0.14, -0.18])"
   ]
  },
  {
   "cell_type": "code",
   "execution_count": 237,
   "metadata": {
    "collapsed": true
   },
   "outputs": [],
   "source": [
    "LMC_sales_r = np.linalg.norm(LMC_sales)"
   ]
  },
  {
   "cell_type": "code",
   "execution_count": 238,
   "metadata": {
    "collapsed": true
   },
   "outputs": [],
   "source": [
    "theta_LMC_sales = np.arctan2(LMC_sales[1], LMC_sales[0])\n",
    "phi_LMC_sales = np.arccos(LMC_sales[2]/LMC_sales_r)"
   ]
  },
  {
   "cell_type": "code",
   "execution_count": 239,
   "metadata": {
    "scrolled": true
   },
   "outputs": [
    {
     "name": "stdout",
     "output_type": "stream",
     "text": [
      "2.9982525985441915 171.78721981071413\n",
      "1.7524359072260562 100.40718135123251\n"
     ]
    }
   ],
   "source": [
    "print(theta_LMC_sales, np.degrees(theta_LMC_sales))\n",
    "print(phi_LMC_sales, np.degrees(phi_LMC_sales))"
   ]
  },
  {
   "cell_type": "markdown",
   "metadata": {},
   "source": [
    "Read in a table of Milky Way dwarf masses."
   ]
  },
  {
   "cell_type": "code",
   "execution_count": 250,
   "metadata": {
    "collapsed": true
   },
   "outputs": [],
   "source": [
    "dwarf_tbl = pd.read_table('/Users/spardy/Research/data/Auriga_data/McConnachie2012.tsv', delimiter=';')"
   ]
  },
  {
   "cell_type": "markdown",
   "metadata": {},
   "source": [
    "Strip out any extra spaces to allow merging."
   ]
  },
  {
   "cell_type": "code",
   "execution_count": 251,
   "metadata": {
    "collapsed": true
   },
   "outputs": [],
   "source": [
    "dwarf_tbl['Name'] = dwarf_tbl['Name'].apply(lambda e: e.strip())"
   ]
  },
  {
   "cell_type": "markdown",
   "metadata": {},
   "source": [
    "Read in a table of positions and velocities."
   ]
  },
  {
   "cell_type": "code",
   "execution_count": 252,
   "metadata": {
    "collapsed": true
   },
   "outputs": [],
   "source": [
    "df = pd.read_csv('/Users/spardy/Research/data/local_group_pos_vel_GaiaDR2_tableC4.txt')"
   ]
  },
  {
   "cell_type": "markdown",
   "metadata": {},
   "source": [
    "Change Sagittarious's name to match with table above."
   ]
  },
  {
   "cell_type": "code",
   "execution_count": 253,
   "metadata": {
    "collapsed": true
   },
   "outputs": [],
   "source": [
    "df.loc[7, 'Name'] = 'Sagittarius dSph'"
   ]
  },
  {
   "cell_type": "markdown",
   "metadata": {},
   "source": [
    "Examine this table."
   ]
  },
  {
   "cell_type": "markdown",
   "metadata": {},
   "source": [
    "Merge the two tables together using the name column."
   ]
  },
  {
   "cell_type": "code",
   "execution_count": 255,
   "metadata": {
    "collapsed": true
   },
   "outputs": [],
   "source": [
    "combined_df = pd.merge(dwarf_tbl, df, on='Name')\n",
    "combined_df['Mass'] = combined_df['Mass'].astype(float)*1e+6"
   ]
  },
  {
   "cell_type": "markdown",
   "metadata": {},
   "source": [
    "Examine the new table."
   ]
  },
  {
   "cell_type": "code",
   "execution_count": 256,
   "metadata": {},
   "outputs": [
    {
     "data": {
      "text/html": [
       "<div>\n",
       "<style scoped>\n",
       "    .dataframe tbody tr th:only-of-type {\n",
       "        vertical-align: middle;\n",
       "    }\n",
       "\n",
       "    .dataframe tbody tr th {\n",
       "        vertical-align: top;\n",
       "    }\n",
       "\n",
       "    .dataframe thead th {\n",
       "        text-align: right;\n",
       "    }\n",
       "</style>\n",
       "<table border=\"1\" class=\"dataframe\">\n",
       "  <thead>\n",
       "    <tr style=\"text-align: right;\">\n",
       "      <th></th>\n",
       "      <th>_RAJ2000</th>\n",
       "      <th>_DEJ2000</th>\n",
       "      <th>SubG</th>\n",
       "      <th>n_Name</th>\n",
       "      <th>Name</th>\n",
       "      <th>MType</th>\n",
       "      <th>RAJ2000</th>\n",
       "      <th>DEJ2000</th>\n",
       "      <th>D</th>\n",
       "      <th>u_D</th>\n",
       "      <th>...</th>\n",
       "      <th>-Z</th>\n",
       "      <th>U</th>\n",
       "      <th>+U</th>\n",
       "      <th>-U</th>\n",
       "      <th>V</th>\n",
       "      <th>+V</th>\n",
       "      <th>-V</th>\n",
       "      <th>W</th>\n",
       "      <th>+W</th>\n",
       "      <th>-W</th>\n",
       "    </tr>\n",
       "  </thead>\n",
       "  <tbody>\n",
       "    <tr>\n",
       "      <th>0</th>\n",
       "      <td>283.8312</td>\n",
       "      <td>-30.5453</td>\n",
       "      <td>MW</td>\n",
       "      <td>G</td>\n",
       "      <td>Sagittarius dSph</td>\n",
       "      <td>dSph</td>\n",
       "      <td>18 55 19.5</td>\n",
       "      <td>-30 32 43</td>\n",
       "      <td>26</td>\n",
       "      <td></td>\n",
       "      <td>...</td>\n",
       "      <td>-0.5</td>\n",
       "      <td>221.3</td>\n",
       "      <td>7.2</td>\n",
       "      <td>-6.2</td>\n",
       "      <td>-266.5</td>\n",
       "      <td>19.9</td>\n",
       "      <td>-22.5</td>\n",
       "      <td>197.4</td>\n",
       "      <td>18.6</td>\n",
       "      <td>-17.1</td>\n",
       "    </tr>\n",
       "    <tr>\n",
       "      <th>1</th>\n",
       "      <td>080.8937</td>\n",
       "      <td>-69.7561</td>\n",
       "      <td>MW</td>\n",
       "      <td>G</td>\n",
       "      <td>LMC</td>\n",
       "      <td>Irr</td>\n",
       "      <td>05 23 34.5</td>\n",
       "      <td>-69 45 22</td>\n",
       "      <td>51</td>\n",
       "      <td></td>\n",
       "      <td>...</td>\n",
       "      <td>-1.4</td>\n",
       "      <td>-68.6</td>\n",
       "      <td>10.2</td>\n",
       "      <td>-9.7</td>\n",
       "      <td>-468.4</td>\n",
       "      <td>13.8</td>\n",
       "      <td>-13.5</td>\n",
       "      <td>201.0</td>\n",
       "      <td>18.0</td>\n",
       "      <td>-18.8</td>\n",
       "    </tr>\n",
       "    <tr>\n",
       "      <th>2</th>\n",
       "      <td>013.1867</td>\n",
       "      <td>-72.8286</td>\n",
       "      <td>MW</td>\n",
       "      <td>G</td>\n",
       "      <td>SMC</td>\n",
       "      <td>dIrr</td>\n",
       "      <td>00 52 44.8</td>\n",
       "      <td>-72 49 43</td>\n",
       "      <td>64</td>\n",
       "      <td></td>\n",
       "      <td>...</td>\n",
       "      <td>-1.7</td>\n",
       "      <td>14.8</td>\n",
       "      <td>10.0</td>\n",
       "      <td>-10.0</td>\n",
       "      <td>-425.0</td>\n",
       "      <td>16.0</td>\n",
       "      <td>-15.2</td>\n",
       "      <td>167.5</td>\n",
       "      <td>13.0</td>\n",
       "      <td>-13.3</td>\n",
       "    </tr>\n",
       "    <tr>\n",
       "      <th>3</th>\n",
       "      <td>260.0517</td>\n",
       "      <td>+57.9153</td>\n",
       "      <td>MW</td>\n",
       "      <td>G</td>\n",
       "      <td>Draco</td>\n",
       "      <td>dSph</td>\n",
       "      <td>17 20 12.4</td>\n",
       "      <td>+57 54 55</td>\n",
       "      <td>76</td>\n",
       "      <td></td>\n",
       "      <td>...</td>\n",
       "      <td>-3.1</td>\n",
       "      <td>35.9</td>\n",
       "      <td>13.9</td>\n",
       "      <td>-14.8</td>\n",
       "      <td>-247.6</td>\n",
       "      <td>7.1</td>\n",
       "      <td>-7.2</td>\n",
       "      <td>-157.7</td>\n",
       "      <td>10.1</td>\n",
       "      <td>-10.2</td>\n",
       "    </tr>\n",
       "    <tr>\n",
       "      <th>4</th>\n",
       "      <td>227.2854</td>\n",
       "      <td>+67.2225</td>\n",
       "      <td>MW</td>\n",
       "      <td>G</td>\n",
       "      <td>Ursa Minor</td>\n",
       "      <td>dSph</td>\n",
       "      <td>15 09 08.5</td>\n",
       "      <td>+67 13 21</td>\n",
       "      <td>76</td>\n",
       "      <td></td>\n",
       "      <td>...</td>\n",
       "      <td>-2.0</td>\n",
       "      <td>-12.8</td>\n",
       "      <td>12.2</td>\n",
       "      <td>-12.5</td>\n",
       "      <td>-205.0</td>\n",
       "      <td>10.0</td>\n",
       "      <td>-10.3</td>\n",
       "      <td>-153.7</td>\n",
       "      <td>9.7</td>\n",
       "      <td>-8.8</td>\n",
       "    </tr>\n",
       "    <tr>\n",
       "      <th>5</th>\n",
       "      <td>015.0392</td>\n",
       "      <td>-33.7092</td>\n",
       "      <td>MW</td>\n",
       "      <td>G</td>\n",
       "      <td>Sculptor</td>\n",
       "      <td>dSph</td>\n",
       "      <td>01 00 09.4</td>\n",
       "      <td>-33 42 33</td>\n",
       "      <td>86</td>\n",
       "      <td></td>\n",
       "      <td>...</td>\n",
       "      <td>-6.1</td>\n",
       "      <td>6.2</td>\n",
       "      <td>15.3</td>\n",
       "      <td>-14.1</td>\n",
       "      <td>-74.0</td>\n",
       "      <td>15.6</td>\n",
       "      <td>-14.0</td>\n",
       "      <td>-103.5</td>\n",
       "      <td>1.8</td>\n",
       "      <td>-1.8</td>\n",
       "    </tr>\n",
       "    <tr>\n",
       "      <th>6</th>\n",
       "      <td>100.4029</td>\n",
       "      <td>-50.9661</td>\n",
       "      <td>MW</td>\n",
       "      <td>G</td>\n",
       "      <td>Carina</td>\n",
       "      <td>dSph</td>\n",
       "      <td>06 41 36.7</td>\n",
       "      <td>-50 57 58</td>\n",
       "      <td>105</td>\n",
       "      <td></td>\n",
       "      <td>...</td>\n",
       "      <td>-2.2</td>\n",
       "      <td>-51.1</td>\n",
       "      <td>18.9</td>\n",
       "      <td>-18.1</td>\n",
       "      <td>-298.4</td>\n",
       "      <td>9.8</td>\n",
       "      <td>-8.9</td>\n",
       "      <td>151.4</td>\n",
       "      <td>21.1</td>\n",
       "      <td>-23.6</td>\n",
       "    </tr>\n",
       "    <tr>\n",
       "      <th>7</th>\n",
       "      <td>039.9971</td>\n",
       "      <td>-34.4492</td>\n",
       "      <td>MW</td>\n",
       "      <td>G</td>\n",
       "      <td>Fornax</td>\n",
       "      <td>dSph</td>\n",
       "      <td>02 39 59.3</td>\n",
       "      <td>-34 26 57</td>\n",
       "      <td>147</td>\n",
       "      <td></td>\n",
       "      <td>...</td>\n",
       "      <td>-11.0</td>\n",
       "      <td>34.2</td>\n",
       "      <td>22.5</td>\n",
       "      <td>-23.4</td>\n",
       "      <td>-386.0</td>\n",
       "      <td>38.0</td>\n",
       "      <td>-36.9</td>\n",
       "      <td>77.2</td>\n",
       "      <td>14.8</td>\n",
       "      <td>-14.3</td>\n",
       "    </tr>\n",
       "    <tr>\n",
       "      <th>8</th>\n",
       "      <td>168.3700</td>\n",
       "      <td>+22.1517</td>\n",
       "      <td>MW</td>\n",
       "      <td>G</td>\n",
       "      <td>Leo II</td>\n",
       "      <td>dSph</td>\n",
       "      <td>11 13 28.8</td>\n",
       "      <td>+22 09 06</td>\n",
       "      <td>233</td>\n",
       "      <td></td>\n",
       "      <td>...</td>\n",
       "      <td>-12.3</td>\n",
       "      <td>13.2</td>\n",
       "      <td>73.3</td>\n",
       "      <td>-69.1</td>\n",
       "      <td>-253.9</td>\n",
       "      <td>73.8</td>\n",
       "      <td>-66.9</td>\n",
       "      <td>18.9</td>\n",
       "      <td>27.5</td>\n",
       "      <td>-28.9</td>\n",
       "    </tr>\n",
       "    <tr>\n",
       "      <th>9</th>\n",
       "      <td>152.1171</td>\n",
       "      <td>+12.3064</td>\n",
       "      <td>MW</td>\n",
       "      <td>G,L</td>\n",
       "      <td>Leo I</td>\n",
       "      <td>dSph</td>\n",
       "      <td>10 08 28.1</td>\n",
       "      <td>+12 18 23</td>\n",
       "      <td>254</td>\n",
       "      <td></td>\n",
       "      <td>...</td>\n",
       "      <td>-12.6</td>\n",
       "      <td>-177.0</td>\n",
       "      <td>80.3</td>\n",
       "      <td>-75.9</td>\n",
       "      <td>-243.0</td>\n",
       "      <td>61.0</td>\n",
       "      <td>-55.4</td>\n",
       "      <td>113.2</td>\n",
       "      <td>44.8</td>\n",
       "      <td>-47.4</td>\n",
       "    </tr>\n",
       "  </tbody>\n",
       "</table>\n",
       "<p>10 rows × 52 columns</p>\n",
       "</div>"
      ],
      "text/plain": [
       "   _RAJ2000  _DEJ2000  SubG n_Name              Name      MType     RAJ2000  \\\n",
       "0  283.8312  -30.5453  MW      G    Sagittarius dSph  dSph       18 55 19.5   \n",
       "1  080.8937  -69.7561  MW      G                 LMC  Irr        05 23 34.5   \n",
       "2  013.1867  -72.8286  MW      G                 SMC  dIrr       00 52 44.8   \n",
       "3  260.0517  +57.9153  MW      G               Draco  dSph       17 20 12.4   \n",
       "4  227.2854  +67.2225  MW      G          Ursa Minor  dSph       15 09 08.5   \n",
       "5  015.0392  -33.7092  MW      G            Sculptor  dSph       01 00 09.4   \n",
       "6  100.4029  -50.9661  MW      G              Carina  dSph       06 41 36.7   \n",
       "7  039.9971  -34.4492  MW      G              Fornax  dSph       02 39 59.3   \n",
       "8  168.3700  +22.1517  MW      G              Leo II  dSph       11 13 28.8   \n",
       "9  152.1171  +12.3064  MW      G,L             Leo I  dSph       10 08 28.1   \n",
       "\n",
       "     DEJ2000     D u_D  ...     -Z      U    +U    -U      V    +V    -V  \\\n",
       "0  -30 32 43    26      ...   -0.5  221.3   7.2  -6.2 -266.5  19.9 -22.5   \n",
       "1  -69 45 22    51      ...   -1.4  -68.6  10.2  -9.7 -468.4  13.8 -13.5   \n",
       "2  -72 49 43    64      ...   -1.7   14.8  10.0 -10.0 -425.0  16.0 -15.2   \n",
       "3  +57 54 55    76      ...   -3.1   35.9  13.9 -14.8 -247.6   7.1  -7.2   \n",
       "4  +67 13 21    76      ...   -2.0  -12.8  12.2 -12.5 -205.0  10.0 -10.3   \n",
       "5  -33 42 33    86      ...   -6.1    6.2  15.3 -14.1  -74.0  15.6 -14.0   \n",
       "6  -50 57 58   105      ...   -2.2  -51.1  18.9 -18.1 -298.4   9.8  -8.9   \n",
       "7  -34 26 57   147      ...  -11.0   34.2  22.5 -23.4 -386.0  38.0 -36.9   \n",
       "8  +22 09 06   233      ...  -12.3   13.2  73.3 -69.1 -253.9  73.8 -66.9   \n",
       "9  +12 18 23   254      ...  -12.6 -177.0  80.3 -75.9 -243.0  61.0 -55.4   \n",
       "\n",
       "       W    +W    -W  \n",
       "0  197.4  18.6 -17.1  \n",
       "1  201.0  18.0 -18.8  \n",
       "2  167.5  13.0 -13.3  \n",
       "3 -157.7  10.1 -10.2  \n",
       "4 -153.7   9.7  -8.8  \n",
       "5 -103.5   1.8  -1.8  \n",
       "6  151.4  21.1 -23.6  \n",
       "7   77.2  14.8 -14.3  \n",
       "8   18.9  27.5 -28.9  \n",
       "9  113.2  44.8 -47.4  \n",
       "\n",
       "[10 rows x 52 columns]"
      ]
     },
     "execution_count": 256,
     "metadata": {},
     "output_type": "execute_result"
    }
   ],
   "source": [
    "combined_df"
   ]
  },
  {
   "cell_type": "markdown",
   "metadata": {},
   "source": [
    "And just get the order of the dwarfs."
   ]
  },
  {
   "cell_type": "code",
   "execution_count": 257,
   "metadata": {},
   "outputs": [
    {
     "data": {
      "text/plain": [
       "0    Sagittarius dSph\n",
       "1                 LMC\n",
       "2                 SMC\n",
       "3               Draco\n",
       "4          Ursa Minor\n",
       "5            Sculptor\n",
       "6              Carina\n",
       "7              Fornax\n",
       "8              Leo II\n",
       "9               Leo I\n",
       "Name: Name, dtype: object"
      ]
     },
     "execution_count": 257,
     "metadata": {},
     "output_type": "execute_result"
    }
   ],
   "source": [
    "combined_df.Name"
   ]
  },
  {
   "cell_type": "markdown",
   "metadata": {},
   "source": [
    "Make vectors of position and velocity."
   ]
  },
  {
   "cell_type": "markdown",
   "metadata": {},
   "source": [
    "Offset for the position of the sun"
   ]
  },
  {
   "cell_type": "code",
   "execution_count": 258,
   "metadata": {
    "collapsed": true
   },
   "outputs": [],
   "source": [
    "combined_df['Y'] += 8.3\n",
    "combined_df['Z'] += 27e-3"
   ]
  },
  {
   "cell_type": "code",
   "execution_count": 259,
   "metadata": {
    "collapsed": true
   },
   "outputs": [],
   "source": [
    "R = combined_df[['X', 'Y', 'Z']] "
   ]
  },
  {
   "cell_type": "code",
   "execution_count": 260,
   "metadata": {},
   "outputs": [
    {
     "data": {
      "text/plain": [
       "0     28.147738\n",
       "1     43.486084\n",
       "2     58.080628\n",
       "3     83.291114\n",
       "4     81.958679\n",
       "5     85.442432\n",
       "6     97.424827\n",
       "7    144.949777\n",
       "8    231.481450\n",
       "9    250.204534\n",
       "dtype: float64"
      ]
     },
     "execution_count": 260,
     "metadata": {},
     "output_type": "execute_result"
    }
   ],
   "source": [
    "np.sqrt(np.sum(R**2, axis=1))"
   ]
  },
  {
   "cell_type": "code",
   "execution_count": 261,
   "metadata": {},
   "outputs": [
    {
     "data": {
      "text/plain": [
       "array([ 51.74765695,   0.        ,  23.16333309, 125.8024642 ,\n",
       "       125.43751432,  65.62926177,  60.82877609, 114.46807415,\n",
       "       255.22441106, 263.66789717])"
      ]
     },
     "execution_count": 261,
     "metadata": {},
     "output_type": "execute_result"
    }
   ],
   "source": [
    "np.linalg.norm(R - R.iloc[1], axis=1)"
   ]
  },
  {
   "cell_type": "markdown",
   "metadata": {},
   "source": [
    "And the solar motion."
   ]
  },
  {
   "cell_type": "code",
   "execution_count": 262,
   "metadata": {
    "collapsed": true
   },
   "outputs": [],
   "source": [
    "combined_df['Vx'] = combined_df['U'] + 11.1\n",
    "combined_df['Vy'] = combined_df['V'] + 232.24\n",
    "combined_df['Vz'] = combined_df['W'] + 7.25"
   ]
  },
  {
   "cell_type": "code",
   "execution_count": 263,
   "metadata": {
    "collapsed": true
   },
   "outputs": [],
   "source": [
    "V = combined_df[['Vx', 'Vy', 'Vz']]"
   ]
  },
  {
   "cell_type": "code",
   "execution_count": 264,
   "metadata": {},
   "outputs": [
    {
     "data": {
      "text/html": [
       "<div>\n",
       "<style scoped>\n",
       "    .dataframe tbody tr th:only-of-type {\n",
       "        vertical-align: middle;\n",
       "    }\n",
       "\n",
       "    .dataframe tbody tr th {\n",
       "        vertical-align: top;\n",
       "    }\n",
       "\n",
       "    .dataframe thead th {\n",
       "        text-align: right;\n",
       "    }\n",
       "</style>\n",
       "<table border=\"1\" class=\"dataframe\">\n",
       "  <thead>\n",
       "    <tr style=\"text-align: right;\">\n",
       "      <th></th>\n",
       "      <th>Vx</th>\n",
       "      <th>Vy</th>\n",
       "      <th>Vz</th>\n",
       "    </tr>\n",
       "  </thead>\n",
       "  <tbody>\n",
       "    <tr>\n",
       "      <th>0</th>\n",
       "      <td>232.4</td>\n",
       "      <td>-34.26</td>\n",
       "      <td>204.65</td>\n",
       "    </tr>\n",
       "    <tr>\n",
       "      <th>1</th>\n",
       "      <td>-57.5</td>\n",
       "      <td>-236.16</td>\n",
       "      <td>208.25</td>\n",
       "    </tr>\n",
       "    <tr>\n",
       "      <th>2</th>\n",
       "      <td>25.9</td>\n",
       "      <td>-192.76</td>\n",
       "      <td>174.75</td>\n",
       "    </tr>\n",
       "    <tr>\n",
       "      <th>3</th>\n",
       "      <td>47.0</td>\n",
       "      <td>-15.36</td>\n",
       "      <td>-150.45</td>\n",
       "    </tr>\n",
       "    <tr>\n",
       "      <th>4</th>\n",
       "      <td>-1.7</td>\n",
       "      <td>27.24</td>\n",
       "      <td>-146.45</td>\n",
       "    </tr>\n",
       "    <tr>\n",
       "      <th>5</th>\n",
       "      <td>17.3</td>\n",
       "      <td>158.24</td>\n",
       "      <td>-96.25</td>\n",
       "    </tr>\n",
       "    <tr>\n",
       "      <th>6</th>\n",
       "      <td>-40.0</td>\n",
       "      <td>-66.16</td>\n",
       "      <td>158.65</td>\n",
       "    </tr>\n",
       "    <tr>\n",
       "      <th>7</th>\n",
       "      <td>45.3</td>\n",
       "      <td>-153.76</td>\n",
       "      <td>84.45</td>\n",
       "    </tr>\n",
       "    <tr>\n",
       "      <th>8</th>\n",
       "      <td>24.3</td>\n",
       "      <td>-21.66</td>\n",
       "      <td>26.15</td>\n",
       "    </tr>\n",
       "    <tr>\n",
       "      <th>9</th>\n",
       "      <td>-165.9</td>\n",
       "      <td>-10.76</td>\n",
       "      <td>120.45</td>\n",
       "    </tr>\n",
       "  </tbody>\n",
       "</table>\n",
       "</div>"
      ],
      "text/plain": [
       "      Vx      Vy      Vz\n",
       "0  232.4  -34.26  204.65\n",
       "1  -57.5 -236.16  208.25\n",
       "2   25.9 -192.76  174.75\n",
       "3   47.0  -15.36 -150.45\n",
       "4   -1.7   27.24 -146.45\n",
       "5   17.3  158.24  -96.25\n",
       "6  -40.0  -66.16  158.65\n",
       "7   45.3 -153.76   84.45\n",
       "8   24.3  -21.66   26.15\n",
       "9 -165.9  -10.76  120.45"
      ]
     },
     "execution_count": 264,
     "metadata": {},
     "output_type": "execute_result"
    }
   ],
   "source": [
    "V"
   ]
  },
  {
   "cell_type": "markdown",
   "metadata": {},
   "source": [
    "Take the cross product of R and V"
   ]
  },
  {
   "cell_type": "code",
   "execution_count": 306,
   "metadata": {
    "collapsed": true
   },
   "outputs": [],
   "source": [
    "#L = np.cross(R.values, V.values*combined_df['Mass'].values[:, None])\n",
    "L = np.cross(R.values, V.values)"
   ]
  },
  {
   "cell_type": "markdown",
   "metadata": {},
   "source": [
    "And compute the norm of the angular momentum for each galaxy."
   ]
  },
  {
   "cell_type": "code",
   "execution_count": 307,
   "metadata": {
    "collapsed": true
   },
   "outputs": [],
   "source": [
    "L_r = np.linalg.norm(L, axis=1)  # 2-norm is default"
   ]
  },
  {
   "cell_type": "markdown",
   "metadata": {},
   "source": [
    "Compute the unit angular momentum for each galaxy."
   ]
  },
  {
   "cell_type": "code",
   "execution_count": 308,
   "metadata": {
    "collapsed": true
   },
   "outputs": [],
   "source": [
    "unit_L = L/L_r[:, None]"
   ]
  },
  {
   "cell_type": "markdown",
   "metadata": {},
   "source": [
    "Add this unit vector into our dataframe"
   ]
  },
  {
   "cell_type": "code",
   "execution_count": 309,
   "metadata": {
    "collapsed": true
   },
   "outputs": [],
   "source": [
    "combined_df['Lx'] = unit_L[:, 0]\n",
    "combined_df['Ly'] = unit_L[:, 1]\n",
    "combined_df['Lz'] = unit_L[:, 2]"
   ]
  },
  {
   "cell_type": "markdown",
   "metadata": {},
   "source": [
    "And examine the vectors."
   ]
  },
  {
   "cell_type": "code",
   "execution_count": 310,
   "metadata": {
    "scrolled": true
   },
   "outputs": [
    {
     "data": {
      "text/html": [
       "<div>\n",
       "<style scoped>\n",
       "    .dataframe tbody tr th:only-of-type {\n",
       "        vertical-align: middle;\n",
       "    }\n",
       "\n",
       "    .dataframe tbody tr th {\n",
       "        vertical-align: top;\n",
       "    }\n",
       "\n",
       "    .dataframe thead th {\n",
       "        text-align: right;\n",
       "    }\n",
       "</style>\n",
       "<table border=\"1\" class=\"dataframe\">\n",
       "  <thead>\n",
       "    <tr style=\"text-align: right;\">\n",
       "      <th></th>\n",
       "      <th>Name</th>\n",
       "      <th>Lx</th>\n",
       "      <th>Ly</th>\n",
       "      <th>Lz</th>\n",
       "    </tr>\n",
       "  </thead>\n",
       "  <tbody>\n",
       "    <tr>\n",
       "      <th>0</th>\n",
       "      <td>Sagittarius dSph</td>\n",
       "      <td>0.258418</td>\n",
       "      <td>-0.861219</td>\n",
       "      <td>-0.437633</td>\n",
       "    </tr>\n",
       "    <tr>\n",
       "      <th>1</th>\n",
       "      <td>LMC</td>\n",
       "      <td>-0.966343</td>\n",
       "      <td>0.008556</td>\n",
       "      <td>-0.257114</td>\n",
       "    </tr>\n",
       "    <tr>\n",
       "      <th>2</th>\n",
       "      <td>SMC</td>\n",
       "      <td>-0.905948</td>\n",
       "      <td>-0.344657</td>\n",
       "      <td>-0.245906</td>\n",
       "    </tr>\n",
       "    <tr>\n",
       "      <th>3</th>\n",
       "      <td>Draco</td>\n",
       "      <td>-0.918501</td>\n",
       "      <td>0.243220</td>\n",
       "      <td>-0.311768</td>\n",
       "    </tr>\n",
       "    <tr>\n",
       "      <th>4</th>\n",
       "      <td>Ursa Minor</td>\n",
       "      <td>-0.979028</td>\n",
       "      <td>-0.202032</td>\n",
       "      <td>-0.026214</td>\n",
       "    </tr>\n",
       "    <tr>\n",
       "      <th>5</th>\n",
       "      <td>Sculptor</td>\n",
       "      <td>0.995588</td>\n",
       "      <td>-0.085938</td>\n",
       "      <td>0.037661</td>\n",
       "    </tr>\n",
       "    <tr>\n",
       "      <th>6</th>\n",
       "      <td>Carina</td>\n",
       "      <td>-0.959139</td>\n",
       "      <td>0.246397</td>\n",
       "      <td>-0.139073</td>\n",
       "    </tr>\n",
       "    <tr>\n",
       "      <th>7</th>\n",
       "      <td>Fornax</td>\n",
       "      <td>-0.952540</td>\n",
       "      <td>-0.129261</td>\n",
       "      <td>0.275605</td>\n",
       "    </tr>\n",
       "    <tr>\n",
       "      <th>8</th>\n",
       "      <td>Leo II</td>\n",
       "      <td>0.406545</td>\n",
       "      <td>0.852570</td>\n",
       "      <td>0.328398</td>\n",
       "    </tr>\n",
       "    <tr>\n",
       "      <th>9</th>\n",
       "      <td>Leo I</td>\n",
       "      <td>-0.414843</td>\n",
       "      <td>-0.656488</td>\n",
       "      <td>-0.630023</td>\n",
       "    </tr>\n",
       "  </tbody>\n",
       "</table>\n",
       "</div>"
      ],
      "text/plain": [
       "               Name        Lx        Ly        Lz\n",
       "0  Sagittarius dSph  0.258418 -0.861219 -0.437633\n",
       "1               LMC -0.966343  0.008556 -0.257114\n",
       "2               SMC -0.905948 -0.344657 -0.245906\n",
       "3             Draco -0.918501  0.243220 -0.311768\n",
       "4        Ursa Minor -0.979028 -0.202032 -0.026214\n",
       "5          Sculptor  0.995588 -0.085938  0.037661\n",
       "6            Carina -0.959139  0.246397 -0.139073\n",
       "7            Fornax -0.952540 -0.129261  0.275605\n",
       "8            Leo II  0.406545  0.852570  0.328398\n",
       "9             Leo I -0.414843 -0.656488 -0.630023"
      ]
     },
     "execution_count": 310,
     "metadata": {},
     "output_type": "execute_result"
    }
   ],
   "source": [
    "combined_df[['Name', 'Lx', 'Ly', 'Lz']]"
   ]
  },
  {
   "cell_type": "code",
   "execution_count": 110,
   "metadata": {
    "collapsed": true
   },
   "outputs": [],
   "source": [
    "galactic_coords = ICRS(\n",
    "    ra=combined_df['_RAJ2000'].values.astype('float')*u.degree,\n",
    "    dec=combined_df['_DEJ2000'].values.astype('float')*u.degree\n",
    ").transform_to(Galactic)"
   ]
  },
  {
   "cell_type": "code",
   "execution_count": 111,
   "metadata": {
    "collapsed": true
   },
   "outputs": [],
   "source": [
    "combined_df['l'] = galactic_coords.l\n",
    "combined_df['b'] = galactic_coords.b\n"
   ]
  },
  {
   "cell_type": "markdown",
   "metadata": {},
   "source": [
    "Compute the first angle."
   ]
  },
  {
   "cell_type": "code",
   "execution_count": 29,
   "metadata": {
    "collapsed": true
   },
   "outputs": [],
   "source": [
    "theta = np.arctan2(L[:, 1], L[:, 0])"
   ]
  },
  {
   "cell_type": "markdown",
   "metadata": {},
   "source": [
    "And the second angle"
   ]
  },
  {
   "cell_type": "code",
   "execution_count": 30,
   "metadata": {
    "collapsed": true
   },
   "outputs": [],
   "source": [
    "phi = np.arccos(L[:, 2]/L_r)"
   ]
  },
  {
   "cell_type": "markdown",
   "metadata": {},
   "source": [
    "Examine the angles in radians."
   ]
  },
  {
   "cell_type": "code",
   "execution_count": 31,
   "metadata": {},
   "outputs": [
    {
     "data": {
      "text/plain": [
       "(array([-1.27928405,  3.1327384 , -2.77806294,  2.88273277, -2.93808959,\n",
       "        -0.08610525,  2.89013648, -3.00671493,  1.12584203, -2.13435149]),\n",
       " array([2.02376097, 1.83083116, 1.81925044, 1.88784908, 1.59701306,\n",
       "        1.53312644, 1.71032171, 1.291577  , 1.23618923, 2.25237935]))"
      ]
     },
     "execution_count": 31,
     "metadata": {},
     "output_type": "execute_result"
    }
   ],
   "source": [
    "theta, phi"
   ]
  },
  {
   "cell_type": "markdown",
   "metadata": {},
   "source": [
    "And degrees."
   ]
  },
  {
   "cell_type": "code",
   "execution_count": 32,
   "metadata": {},
   "outputs": [
    {
     "data": {
      "text/plain": [
       "(array([ -73.29757687,  179.49268856, -159.17128172,  165.16842105,\n",
       "        -168.34013321,   -4.93346751,  165.59262243, -172.27207561,\n",
       "          64.50599679, -122.28933214]),\n",
       " array([115.95296239, 104.89889822, 104.23537215, 108.16578466,\n",
       "         91.50210827,  87.84167429,  97.99421583,  74.00191114,\n",
       "         70.82842569, 129.05183082]))"
      ]
     },
     "execution_count": 32,
     "metadata": {},
     "output_type": "execute_result"
    }
   ],
   "source": [
    "np.degrees(theta), np.degrees(phi)"
   ]
  },
  {
   "cell_type": "markdown",
   "metadata": {},
   "source": [
    "We appear to be very close to the angle provided by Sales."
   ]
  },
  {
   "cell_type": "markdown",
   "metadata": {},
   "source": [
    "Offset the angles to make the LMC appear at the center of the Aitoff projection."
   ]
  },
  {
   "cell_type": "code",
   "execution_count": 76,
   "metadata": {
    "collapsed": true
   },
   "outputs": [],
   "source": [
    "x = theta-np.pi\n",
    "x[x < -np.pi] += 2*np.pi\n",
    "\n",
    "y = phi-np.pi/2."
   ]
  },
  {
   "cell_type": "markdown",
   "metadata": {},
   "source": [
    "## Ultrafaints\n",
    "\n",
    "Repeat the above process with the smaller galaxies"
   ]
  },
  {
   "cell_type": "markdown",
   "metadata": {},
   "source": [
    "Look at smaller galaxies from Simon et al. 2018, using mass values from Sales"
   ]
  },
  {
   "cell_type": "code",
   "execution_count": 240,
   "metadata": {
    "collapsed": true
   },
   "outputs": [],
   "source": [
    "sales_masses = pd.read_csv('/Users/spardy/Research/data/Auriga_data/sales_18_tbl1_masses.csv')\n",
    "simon_phase_space = pd.read_csv('/Users/spardy/Research/data/Auriga_data/simon_2018_tbl1and3.csv')"
   ]
  },
  {
   "cell_type": "code",
   "execution_count": 241,
   "metadata": {
    "collapsed": true
   },
   "outputs": [],
   "source": [
    "simon_coords = ICRS(\n",
    "    ra=simon_phase_space['RA'].values*u.deg,\n",
    "    dec=simon_phase_space['DEC'].values*u.deg,\n",
    "    distance=simon_phase_space['DIST'].values*u.kpc,\n",
    ").transform_to(Galactocentric)"
   ]
  },
  {
   "cell_type": "code",
   "execution_count": 242,
   "metadata": {},
   "outputs": [],
   "source": [
    "simon_phase_space['X'] = simon_coords.x.value\n",
    "simon_phase_space['Y'] = simon_coords.y.value\n",
    "simon_phase_space['Z'] = simon_coords.z.value"
   ]
  },
  {
   "cell_type": "code",
   "execution_count": 283,
   "metadata": {
    "collapsed": true
   },
   "outputs": [],
   "source": [
    "simon_phase_space['Vx'] = simon_phase_space['U'] + 11.1\n",
    "simon_phase_space['Vy'] = simon_phase_space['V'] + 232.24\n",
    "simon_phase_space['Vz'] = simon_phase_space['W'] + 7.25"
   ]
  },
  {
   "cell_type": "markdown",
   "metadata": {},
   "source": [
    "Look at the smaller dwarfs from Fritz and Sales papers"
   ]
  },
  {
   "cell_type": "code",
   "execution_count": 244,
   "metadata": {
    "collapsed": true
   },
   "outputs": [],
   "source": [
    "fritz = pd.read_csv('/Users/spardy/Research/data/Auriga_data/fritz_2018_tbl2_selected.csv')\n",
    "sales = pd.read_csv('/Users/spardy/Research/data/Auriga_data/sales_18_tbl1_selected.csv')\n",
    "\n",
    "fritz_sales = pd.merge(left=fritz, right=sales, left_on='name', right_on='name')"
   ]
  },
  {
   "cell_type": "markdown",
   "metadata": {},
   "source": [
    "Select only those that are not in the Simon table"
   ]
  },
  {
   "cell_type": "code",
   "execution_count": 281,
   "metadata": {},
   "outputs": [],
   "source": [
    "fritz_sales = fritz_sales[~fritz_sales.name.isin(simon_phase_space.short_name)]"
   ]
  },
  {
   "cell_type": "code",
   "execution_count": 282,
   "metadata": {
    "collapsed": true
   },
   "outputs": [],
   "source": [
    "fritz_sales_ICRS = Galactic(\n",
    "    l=fritz_sales['l'].values*u.degree,\n",
    "    b=fritz_sales['b'].values*u.degree\n",
    ").transform_to(ICRS)\n",
    "\n",
    "fritz_sales_3d = ICRS(\n",
    "    ra=fritz_sales_ICRS.ra,\n",
    "    dec=fritz_sales_ICRS.dec,\n",
    "    distance=fritz_sales.d_sun.values*u.kpc,\n",
    "    pm_ra_cosdec=fritz_sales.mu_alpha.values*u.mas/u.yr*np.cos(fritz_sales_ICRS.ra),\n",
    "    pm_dec=fritz_sales.mu_delta.values*u.mas/u.yr,\n",
    "    radial_velocity=fritz_sales.v_sun.values*u.km/u.s\n",
    ")\n",
    "fritz_sales_names = fritz_sales['name']\n",
    "fritz_sales_cartesian = fritz_sales_3d.transform_to(Galactocentric)"
   ]
  },
  {
   "cell_type": "code",
   "execution_count": 246,
   "metadata": {
    "collapsed": true
   },
   "outputs": [],
   "source": [
    "fritz_sales_V = np.stack((\n",
    "    fritz_sales_cartesian.v_x.value,\n",
    "    fritz_sales_cartesian.v_y.value,\n",
    "    fritz_sales_cartesian.v_z.value\n",
    "), axis=1)\n",
    "\n",
    "fritz_sales_R = np.stack((\n",
    "    fritz_sales_cartesian.x.value,\n",
    "    fritz_sales_cartesian.y.value,\n",
    "    fritz_sales_cartesian.z.value\n",
    "), axis=1)"
   ]
  },
  {
   "cell_type": "code",
   "execution_count": 293,
   "metadata": {},
   "outputs": [],
   "source": [
    "simon_selected = simon_phase_space[['short_name', 'X', 'Y', 'Z', 'Vx', 'Vy', 'Vz']]"
   ]
  },
  {
   "cell_type": "code",
   "execution_count": 299,
   "metadata": {},
   "outputs": [],
   "source": [
    "uf_df = simon_selected.append(\n",
    "    pd.DataFrame({'short_name': fritz_sales_names,\n",
    "                  'X': fritz_sales_cartesian.x.value,\n",
    "                  'Y': fritz_sales_cartesian.y.value,\n",
    "                  'Z': fritz_sales_cartesian.z.value,\n",
    "                  'Vx': fritz_sales_cartesian.v_x.value,\n",
    "                  'Vy': fritz_sales_cartesian.v_y.value,\n",
    "                  'Vz': fritz_sales_cartesian.v_z.value})\n",
    ").reset_index(drop=True)"
   ]
  },
  {
   "cell_type": "code",
   "execution_count": 300,
   "metadata": {},
   "outputs": [
    {
     "data": {
      "text/html": [
       "<div>\n",
       "<style scoped>\n",
       "    .dataframe tbody tr th:only-of-type {\n",
       "        vertical-align: middle;\n",
       "    }\n",
       "\n",
       "    .dataframe tbody tr th {\n",
       "        vertical-align: top;\n",
       "    }\n",
       "\n",
       "    .dataframe thead th {\n",
       "        text-align: right;\n",
       "    }\n",
       "</style>\n",
       "<table border=\"1\" class=\"dataframe\">\n",
       "  <thead>\n",
       "    <tr style=\"text-align: right;\">\n",
       "      <th></th>\n",
       "      <th>short_name</th>\n",
       "      <th>X</th>\n",
       "      <th>Y</th>\n",
       "      <th>Z</th>\n",
       "      <th>Vx</th>\n",
       "      <th>Vy</th>\n",
       "      <th>Vz</th>\n",
       "    </tr>\n",
       "  </thead>\n",
       "  <tbody>\n",
       "    <tr>\n",
       "      <th>0</th>\n",
       "      <td>Tri 2</td>\n",
       "      <td>-29.637005</td>\n",
       "      <td>17.308807</td>\n",
       "      <td>-12.020220</td>\n",
       "      <td>-188.300000</td>\n",
       "      <td>-5.160000</td>\n",
       "      <td>262.650000</td>\n",
       "    </tr>\n",
       "    <tr>\n",
       "      <th>1</th>\n",
       "      <td>Seg 2</td>\n",
       "      <td>-32.073910</td>\n",
       "      <td>14.000095</td>\n",
       "      <td>-21.508934</td>\n",
       "      <td>168.700000</td>\n",
       "      <td>31.940000</td>\n",
       "      <td>115.450000</td>\n",
       "    </tr>\n",
       "    <tr>\n",
       "      <th>2</th>\n",
       "      <td>Hyd 1</td>\n",
       "      <td>1.829485</td>\n",
       "      <td>-19.631729</td>\n",
       "      <td>-16.518381</td>\n",
       "      <td>191.500000</td>\n",
       "      <td>-204.560000</td>\n",
       "      <td>280.850000</td>\n",
       "    </tr>\n",
       "    <tr>\n",
       "      <th>3</th>\n",
       "      <td>Hor 1</td>\n",
       "      <td>-7.319010</td>\n",
       "      <td>-50.204426</td>\n",
       "      <td>-71.019136</td>\n",
       "      <td>35.600000</td>\n",
       "      <td>-193.860000</td>\n",
       "      <td>169.850000</td>\n",
       "    </tr>\n",
       "    <tr>\n",
       "      <th>4</th>\n",
       "      <td>Ret 2</td>\n",
       "      <td>-9.714331</td>\n",
       "      <td>-20.637774</td>\n",
       "      <td>-24.387787</td>\n",
       "      <td>10.500000</td>\n",
       "      <td>-123.860000</td>\n",
       "      <td>225.850000</td>\n",
       "    </tr>\n",
       "    <tr>\n",
       "      <th>5</th>\n",
       "      <td>Car 2</td>\n",
       "      <td>-8.345766</td>\n",
       "      <td>-34.592284</td>\n",
       "      <td>-10.641260</td>\n",
       "      <td>-108.000000</td>\n",
       "      <td>-312.560000</td>\n",
       "      <td>154.350000</td>\n",
       "    </tr>\n",
       "    <tr>\n",
       "      <th>6</th>\n",
       "      <td>Car 3</td>\n",
       "      <td>-8.323391</td>\n",
       "      <td>-26.607033</td>\n",
       "      <td>-8.029378</td>\n",
       "      <td>32.400000</td>\n",
       "      <td>-170.260000</td>\n",
       "      <td>354.550000</td>\n",
       "    </tr>\n",
       "    <tr>\n",
       "      <th>7</th>\n",
       "      <td>UM 2</td>\n",
       "      <td>-32.660285</td>\n",
       "      <td>12.738346</td>\n",
       "      <td>21.202431</td>\n",
       "      <td>-146.100000</td>\n",
       "      <td>-112.360000</td>\n",
       "      <td>205.750000</td>\n",
       "    </tr>\n",
       "    <tr>\n",
       "      <th>8</th>\n",
       "      <td>Seg 1</td>\n",
       "      <td>-19.387754</td>\n",
       "      <td>-9.515183</td>\n",
       "      <td>17.789939</td>\n",
       "      <td>143.800000</td>\n",
       "      <td>-207.060000</td>\n",
       "      <td>-41.450000</td>\n",
       "    </tr>\n",
       "    <tr>\n",
       "      <th>9</th>\n",
       "      <td>UM 1</td>\n",
       "      <td>-61.085132</td>\n",
       "      <td>19.893955</td>\n",
       "      <td>79.306542</td>\n",
       "      <td>208.400000</td>\n",
       "      <td>-128.760000</td>\n",
       "      <td>-102.250000</td>\n",
       "    </tr>\n",
       "    <tr>\n",
       "      <th>10</th>\n",
       "      <td>Wil 1</td>\n",
       "      <td>-31.126171</td>\n",
       "      <td>9.007216</td>\n",
       "      <td>37.747472</td>\n",
       "      <td>-98.700000</td>\n",
       "      <td>20.840000</td>\n",
       "      <td>109.450000</td>\n",
       "    </tr>\n",
       "    <tr>\n",
       "      <th>11</th>\n",
       "      <td>Com</td>\n",
       "      <td>-10.367772</td>\n",
       "      <td>-4.120052</td>\n",
       "      <td>41.773249</td>\n",
       "      <td>-251.200000</td>\n",
       "      <td>-18.760000</td>\n",
       "      <td>95.050000</td>\n",
       "    </tr>\n",
       "    <tr>\n",
       "      <th>12</th>\n",
       "      <td>Boo 2</td>\n",
       "      <td>6.883033</td>\n",
       "      <td>-1.648511</td>\n",
       "      <td>39.151918</td>\n",
       "      <td>351.100000</td>\n",
       "      <td>-172.060000</td>\n",
       "      <td>-4.550000</td>\n",
       "    </tr>\n",
       "    <tr>\n",
       "      <th>13</th>\n",
       "      <td>Boo 1</td>\n",
       "      <td>14.865556</td>\n",
       "      <td>-0.770530</td>\n",
       "      <td>61.823159</td>\n",
       "      <td>-117.100000</td>\n",
       "      <td>-125.560000</td>\n",
       "      <td>63.850000</td>\n",
       "    </tr>\n",
       "    <tr>\n",
       "      <th>14</th>\n",
       "      <td>Dra 2</td>\n",
       "      <td>-10.783839</td>\n",
       "      <td>17.402760</td>\n",
       "      <td>16.366347</td>\n",
       "      <td>8.900000</td>\n",
       "      <td>88.540000</td>\n",
       "      <td>-350.150000</td>\n",
       "    </tr>\n",
       "    <tr>\n",
       "      <th>15</th>\n",
       "      <td>Tuc 2</td>\n",
       "      <td>21.604943</td>\n",
       "      <td>-18.752544</td>\n",
       "      <td>-45.995159</td>\n",
       "      <td>270.100000</td>\n",
       "      <td>-104.460000</td>\n",
       "      <td>138.350000</td>\n",
       "    </tr>\n",
       "    <tr>\n",
       "      <th>16</th>\n",
       "      <td>Tuc 3</td>\n",
       "      <td>1.535077</td>\n",
       "      <td>-9.773342</td>\n",
       "      <td>-20.775738</td>\n",
       "      <td>-5.500000</td>\n",
       "      <td>112.440000</td>\n",
       "      <td>194.750000</td>\n",
       "    </tr>\n",
       "    <tr>\n",
       "      <th>17</th>\n",
       "      <td>Gru 1</td>\n",
       "      <td>49.243410</td>\n",
       "      <td>-22.681827</td>\n",
       "      <td>-102.804395</td>\n",
       "      <td>110.153567</td>\n",
       "      <td>63.418406</td>\n",
       "      <td>263.874524</td>\n",
       "    </tr>\n",
       "    <tr>\n",
       "      <th>18</th>\n",
       "      <td>Hy II</td>\n",
       "      <td>41.808713</td>\n",
       "      <td>-104.124203</td>\n",
       "      <td>67.874414</td>\n",
       "      <td>323.394706</td>\n",
       "      <td>159.169145</td>\n",
       "      <td>263.092964</td>\n",
       "    </tr>\n",
       "  </tbody>\n",
       "</table>\n",
       "</div>"
      ],
      "text/plain": [
       "   short_name          X           Y           Z          Vx          Vy  \\\n",
       "0       Tri 2 -29.637005   17.308807  -12.020220 -188.300000   -5.160000   \n",
       "1       Seg 2 -32.073910   14.000095  -21.508934  168.700000   31.940000   \n",
       "2       Hyd 1   1.829485  -19.631729  -16.518381  191.500000 -204.560000   \n",
       "3       Hor 1  -7.319010  -50.204426  -71.019136   35.600000 -193.860000   \n",
       "4       Ret 2  -9.714331  -20.637774  -24.387787   10.500000 -123.860000   \n",
       "5       Car 2  -8.345766  -34.592284  -10.641260 -108.000000 -312.560000   \n",
       "6       Car 3  -8.323391  -26.607033   -8.029378   32.400000 -170.260000   \n",
       "7        UM 2 -32.660285   12.738346   21.202431 -146.100000 -112.360000   \n",
       "8       Seg 1 -19.387754   -9.515183   17.789939  143.800000 -207.060000   \n",
       "9        UM 1 -61.085132   19.893955   79.306542  208.400000 -128.760000   \n",
       "10      Wil 1 -31.126171    9.007216   37.747472  -98.700000   20.840000   \n",
       "11        Com -10.367772   -4.120052   41.773249 -251.200000  -18.760000   \n",
       "12      Boo 2   6.883033   -1.648511   39.151918  351.100000 -172.060000   \n",
       "13      Boo 1  14.865556   -0.770530   61.823159 -117.100000 -125.560000   \n",
       "14      Dra 2 -10.783839   17.402760   16.366347    8.900000   88.540000   \n",
       "15      Tuc 2  21.604943  -18.752544  -45.995159  270.100000 -104.460000   \n",
       "16      Tuc 3   1.535077   -9.773342  -20.775738   -5.500000  112.440000   \n",
       "17      Gru 1  49.243410  -22.681827 -102.804395  110.153567   63.418406   \n",
       "18      Hy II  41.808713 -104.124203   67.874414  323.394706  159.169145   \n",
       "\n",
       "            Vz  \n",
       "0   262.650000  \n",
       "1   115.450000  \n",
       "2   280.850000  \n",
       "3   169.850000  \n",
       "4   225.850000  \n",
       "5   154.350000  \n",
       "6   354.550000  \n",
       "7   205.750000  \n",
       "8   -41.450000  \n",
       "9  -102.250000  \n",
       "10  109.450000  \n",
       "11   95.050000  \n",
       "12   -4.550000  \n",
       "13   63.850000  \n",
       "14 -350.150000  \n",
       "15  138.350000  \n",
       "16  194.750000  \n",
       "17  263.874524  \n",
       "18  263.092964  "
      ]
     },
     "execution_count": 300,
     "metadata": {},
     "output_type": "execute_result"
    }
   ],
   "source": [
    "uf_df"
   ]
  },
  {
   "cell_type": "code",
   "execution_count": 311,
   "metadata": {
    "collapsed": true
   },
   "outputs": [],
   "source": [
    "uf_L = np.cross(uf_df[['X', 'Y', 'Z']], uf_df[['Vx', 'Vy', 'Vz']])\n",
    "uf_L_r = np.linalg.norm(uf_L, axis=1)"
   ]
  },
  {
   "cell_type": "code",
   "execution_count": 312,
   "metadata": {
    "collapsed": true
   },
   "outputs": [],
   "source": [
    "uf_theta = np.arctan2(uf_L[:, 1], uf_L[:, 0])\n",
    "uf_phi = np.arccos(uf_L[:, 2]/uf_L_r)"
   ]
  },
  {
   "cell_type": "code",
   "execution_count": 313,
   "metadata": {
    "collapsed": true
   },
   "outputs": [],
   "source": [
    "uf_x = uf_theta - np.pi\n",
    "uf_x[uf_x < -np.pi] += 2*np.pi\n",
    "\n",
    "uf_y = uf_phi - np.pi/2."
   ]
  },
  {
   "cell_type": "markdown",
   "metadata": {},
   "source": [
    "## Plot"
   ]
  },
  {
   "cell_type": "markdown",
   "metadata": {},
   "source": [
    "Plot this in aitoff coordinates."
   ]
  },
  {
   "cell_type": "code",
   "execution_count": 314,
   "metadata": {
    "collapsed": true
   },
   "outputs": [],
   "source": [
    "associated = [7, 2, 6]"
   ]
  },
  {
   "cell_type": "code",
   "execution_count": 315,
   "metadata": {
    "collapsed": true
   },
   "outputs": [],
   "source": [
    "unassociated = [5, 8, 0, 9, 3, 4]"
   ]
  },
  {
   "cell_type": "code",
   "execution_count": 394,
   "metadata": {},
   "outputs": [],
   "source": [
    "additional_x_offsets = {\n",
    "    'Seg 1': np.radians(-0.7),\n",
    "    'UM 2': np.radians(-0.9),\n",
    "    'Com': np.radians(-0.5),\n",
    "    'Boo 1': np.radians(0)\n",
    "    \n",
    "}\n",
    "additional_y_offsets = {\n",
    "    'Seg 1': np.radians(2.2),\n",
    "    'UM 2': np.radians(2.2),\n",
    "    'Com': np.radians(3),\n",
    "    'Boo 1': np.radians(1)\n",
    "}"
   ]
  },
  {
   "cell_type": "code",
   "execution_count": 396,
   "metadata": {
    "scrolled": false
   },
   "outputs": [
    {
     "data": {
      "image/png": "[encoded data removed]",
      "text/plain": [
       "<Figure size 1200x800 with 1 Axes>"
      ]
     },
     "metadata": {},
     "output_type": "display_data"
    }
   ],
   "source": [
    "fig, axis = plt.subplots(1, subplot_kw={'projection': 'aitoff'}, dpi=200)\n",
    "\n",
    "axis.plot(x[unassociated], y[unassociated], '.', color='gray', ms=10)\n",
    "axis.plot(x[associated], y[associated], '.', color='red', ms=10)\n",
    "\n",
    "axis.plot(x[1], y[1], 'r^', ms=6)# LMC\n",
    "\n",
    "axis.plot(uf_x, uf_y, '+', color='gray', ms=10)\n",
    "\n",
    "for i, (name, x_i, phi_i) in enumerate(zip(combined_df.Name, x, y)):\n",
    "    \n",
    "    # change some labels so that they don't overlap\n",
    "    \n",
    "    if phi_i < np.radians(10):\n",
    "        va='top'\n",
    "    else:\n",
    "        va='bottom'\n",
    "    \n",
    "    if name in ['Draco', 'Carina', 'Sculptor']:\n",
    "        ha = 'right'\n",
    "    else:\n",
    "        ha = 'left'\n",
    "    \n",
    "    offset = -0.085 if va == 'top' else 0.085\n",
    "    \n",
    "    text_color = 'black' if i in unassociated else 'red'\n",
    "    \n",
    "    axis.text(x_i, phi_i+offset, name, fontsize='xx-small', ha=ha, va=va, color=text_color)\n",
    "    \n",
    "for i, (name, x_i, phi_i) in enumerate(zip(uf_df['short_name'], uf_x, uf_y)):\n",
    "    \n",
    "    ha = 'right' if name not in ['Dra 2', 'Seg 2', 'Com',\n",
    "                                 'Boo 2', 'Tri 2', 'Hyd 1'] else 'left'\n",
    "    va = 'bottom' if name not in ['Seg 2', 'Boo 2', 'Car 3'] else 'top'\n",
    "    offset_y = 0.025 if ha == 'bottom' else -0.025\n",
    "    offset_x = -0.05 if ha == 'right' else 0.05\n",
    "    \n",
    "    if name in additional_x_offsets:\n",
    "        offset_x += additional_x_offsets[name]\n",
    "        offset_y += additional_y_offsets[name]\n",
    "    \n",
    "    axis.text(x_i+offset_x, phi_i+offset_y, f'{i+1}', fontsize='xx-small', ha=ha, va=va)\n",
    "\n",
    "for i, name in enumerate(uf_df['short_name']):\n",
    "    axis.annotate(xy=(0.1*(i//2), -0.1-0.08*(i%2)), s=f'{i+1}: {name}',\n",
    "                  xycoords='axes fraction', fontsize='xx-small')\n",
    "    \n",
    "axis.set_xticklabels(['%d$^{\\circ}$' % num for num in np.arange(30, 360, 30)], fontsize='x-small')\n",
    "axis.set_yticklabels(['%d$^{\\circ}$' % num for num in np.arange(15, 180, 15)], fontsize='x-small')\n",
    "\n",
    "axis.set_title('Directon of angular momentum vector\\nGalactic coordinates', fontsize='xx-small')\n",
    "\n",
    "axis.grid(True)\n",
    "\n",
    "x0 = x[1]\n",
    "y0 = y[1]\n",
    "\n",
    "#(x - x0)^2 + (y - y0)^2 == r^2\n",
    "for r in np.arange(10, 40, 10):\n",
    "\n",
    "    r = np.radians(r)\n",
    "\n",
    "    x_circ = np.linspace(x0 - r, x0 + r, 1000)\n",
    "\n",
    "    y_circ = np.sqrt(r**2 - (x_circ - x0)**2) + y0\n",
    "    y_circ = np.append(y_circ, -np.sqrt(r**2 - (x_circ[::-1] - x0)**2) + y0)\n",
    "    x_circ = np.append(x_circ, x_circ[::-1])\n",
    "    axis.plot(x_circ, y_circ, color='blue', linewidth=0.5)\n",
    "fig.savefig('/Users/spardy/Research/projects/Auriga/for_paper/angular_momentum.pdf', bbox_inches='tight')"
   ]
  },
  {
   "cell_type": "markdown",
   "metadata": {},
   "source": [
    "Compute the cosine distance between each galaxy's angular momentum vector."
   ]
  },
  {
   "cell_type": "code",
   "execution_count": 37,
   "metadata": {
    "collapsed": true,
    "scrolled": true
   },
   "outputs": [],
   "source": [
    "cos_distance = np.dot(unit_L, unit_L[1])"
   ]
  },
  {
   "cell_type": "markdown",
   "metadata": {},
   "source": [
    "Sort these."
   ]
  },
  {
   "cell_type": "code",
   "execution_count": 38,
   "metadata": {
    "collapsed": true
   },
   "outputs": [],
   "source": [
    "s = np.argsort(cos_distance)"
   ]
  },
  {
   "cell_type": "markdown",
   "metadata": {},
   "source": [
    "And plot them with the names appearing on the x-axis."
   ]
  },
  {
   "cell_type": "code",
   "execution_count": 39,
   "metadata": {},
   "outputs": [
    {
     "data": {
      "image/png": "[encoded data removed]",
      "text/plain": [
       "<Figure size 432x288 with 1 Axes>"
      ]
     },
     "metadata": {},
     "output_type": "display_data"
    }
   ],
   "source": [
    "fig, axis = plt.subplots(1)\n",
    "axis.bar(np.arange(len(s)), cos_distance[s])\n",
    "axis.set_xticks(np.arange(len(s)))\n",
    "_ = axis.set_xticklabels(combined_df.Name.iloc[s], rotation=90)\n",
    "axis.set_title('Angular momentum vector similarity with LMC')\n",
    "axis.set_ylabel('Cosine Similarity')\n",
    "\n",
    "fig.tight_layout()\n",
    "\n",
    "fig.savefig('/Users/spardy/Research/projects/Auriga/for_paper/angular_momentum_cosine.pdf')\n"
   ]
  },
  {
   "cell_type": "code",
   "execution_count": null,
   "metadata": {
    "collapsed": true
   },
   "outputs": [],
   "source": []
  }
 ],
 "metadata": {
  "kernelspec": {
   "display_name": "Python [conda root]",
   "language": "python",
   "name": "conda-root-py"
  },
  "language_info": {
   "codemirror_mode": {
    "name": "ipython",
    "version": 3
   },
   "file_extension": ".py",
   "mimetype": "text/x-python",
   "name": "python",
   "nbconvert_exporter": "python",
   "pygments_lexer": "ipython3",
   "version": "3.6.5"
  }
 },
 "nbformat": 4,
 "nbformat_minor": 2
}
