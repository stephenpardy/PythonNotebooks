{
 "cells": [
  {
   "cell_type": "code",
   "execution_count": 1,
   "metadata": {},
   "outputs": [],
   "source": [
    "import numpy as np\n",
    "import pandas as pd\n",
    "import matplotlib.pyplot as plt\n",
    "\n",
    "import astropy.units as u\n",
    "from astropy import constants\n",
    "from astropy.io import fits\n",
    "from astropy.coordinates import Galactic, Galactocentric, ICRS, LSR\n",
    "from astropy.coordinates import (CartesianRepresentation,\n",
    "                                 CartesianDifferential)\n",
    "\n",
    "\n",
    "%matplotlib inline"
   ]
  },
  {
   "cell_type": "markdown",
   "metadata": {},
   "source": [
    "First calculate the angular momentum direction given in Sales's paper:"
   ]
  },
  {
   "cell_type": "code",
   "execution_count": 2,
   "metadata": {},
   "outputs": [],
   "source": [
    "LMC_sales = np.array([-0.97, 0.14, -0.18])"
   ]
  },
  {
   "cell_type": "code",
   "execution_count": 3,
   "metadata": {},
   "outputs": [],
   "source": [
    "LMC_sales_r = np.linalg.norm(LMC_sales)"
   ]
  },
  {
   "cell_type": "code",
   "execution_count": 4,
   "metadata": {
    "collapsed": true
   },
   "outputs": [],
   "source": [
    "theta_LMC_sales = np.arctan2(LMC_sales[1], LMC_sales[0])\n",
    "phi_LMC_sales = np.arccos(LMC_sales[2]/LMC_sales_r)"
   ]
  },
  {
   "cell_type": "code",
   "execution_count": 5,
   "metadata": {},
   "outputs": [
    {
     "name": "stdout",
     "output_type": "stream",
     "text": [
      "2.99825259854 171.787219811\n",
      "1.75243590723 100.407181351\n"
     ]
    }
   ],
   "source": [
    "print(theta_LMC_sales, np.degrees(theta_LMC_sales))\n",
    "print(phi_LMC_sales, np.degrees(phi_LMC_sales))"
   ]
  },
  {
   "cell_type": "markdown",
   "metadata": {},
   "source": [
    "Read in a table of Milky Way dwarf masses."
   ]
  },
  {
   "cell_type": "code",
   "execution_count": 6,
   "metadata": {
    "collapsed": true
   },
   "outputs": [],
   "source": [
    "dwarf_tbl = pd.read_table('/Users/spardy/Research/data/Auriga_data/McConnachie2012.tsv', delimiter=';')"
   ]
  },
  {
   "cell_type": "markdown",
   "metadata": {},
   "source": [
    "Strip out any extra spaces to allow merging."
   ]
  },
  {
   "cell_type": "code",
   "execution_count": 7,
   "metadata": {},
   "outputs": [],
   "source": [
    "dwarf_tbl['Name'] = dwarf_tbl['Name'].apply(lambda e: e.strip())"
   ]
  },
  {
   "cell_type": "markdown",
   "metadata": {},
   "source": [
    "Read in a table of positions and velocities."
   ]
  },
  {
   "cell_type": "code",
   "execution_count": 8,
   "metadata": {},
   "outputs": [],
   "source": [
    "df = pd.read_csv('/Users/spardy/Research/data/local_group_pos_vel_GaiaDR2_tableC4.txt')"
   ]
  },
  {
   "cell_type": "markdown",
   "metadata": {},
   "source": [
    "Change Sagittarious's name to match with table above."
   ]
  },
  {
   "cell_type": "code",
   "execution_count": 9,
   "metadata": {},
   "outputs": [],
   "source": [
    "df.loc[7, 'Name'] = 'Sagittarius dSph'"
   ]
  },
  {
   "cell_type": "markdown",
   "metadata": {},
   "source": [
    "Examine this table."
   ]
  },
  {
   "cell_type": "code",
   "execution_count": 10,
   "metadata": {},
   "outputs": [
    {
     "data": {
      "text/html": [
       "<div>\n",
       "<style>\n",
       "    .dataframe thead tr:only-child th {\n",
       "        text-align: right;\n",
       "    }\n",
       "\n",
       "    .dataframe thead th {\n",
       "        text-align: left;\n",
       "    }\n",
       "\n",
       "    .dataframe tbody tr th {\n",
       "        vertical-align: top;\n",
       "    }\n",
       "</style>\n",
       "<table border=\"1\" class=\"dataframe\">\n",
       "  <thead>\n",
       "    <tr style=\"text-align: right;\">\n",
       "      <th></th>\n",
       "      <th>Name</th>\n",
       "      <th>X</th>\n",
       "      <th>+X</th>\n",
       "      <th>-X</th>\n",
       "      <th>Y</th>\n",
       "      <th>+Y</th>\n",
       "      <th>-Y</th>\n",
       "      <th>Z</th>\n",
       "      <th>+Z</th>\n",
       "      <th>-Z</th>\n",
       "      <th>U</th>\n",
       "      <th>+U</th>\n",
       "      <th>-U</th>\n",
       "      <th>V</th>\n",
       "      <th>+V</th>\n",
       "      <th>-V</th>\n",
       "      <th>W</th>\n",
       "      <th>+W</th>\n",
       "      <th>-W</th>\n",
       "    </tr>\n",
       "  </thead>\n",
       "  <tbody>\n",
       "    <tr>\n",
       "      <th>0</th>\n",
       "      <td>Fornax</td>\n",
       "      <td>-33.1</td>\n",
       "      <td>2.6</td>\n",
       "      <td>-2.7</td>\n",
       "      <td>-51.10</td>\n",
       "      <td>4.10</td>\n",
       "      <td>-4.20</td>\n",
       "      <td>-134.5</td>\n",
       "      <td>10.8</td>\n",
       "      <td>-11.0</td>\n",
       "      <td>34.2</td>\n",
       "      <td>22.5</td>\n",
       "      <td>-23.4</td>\n",
       "      <td>-386.0</td>\n",
       "      <td>38.0</td>\n",
       "      <td>-36.9</td>\n",
       "      <td>77.2</td>\n",
       "      <td>14.8</td>\n",
       "      <td>-14.3</td>\n",
       "    </tr>\n",
       "    <tr>\n",
       "      <th>1</th>\n",
       "      <td>Draco</td>\n",
       "      <td>4.0</td>\n",
       "      <td>0.3</td>\n",
       "      <td>-0.3</td>\n",
       "      <td>62.60</td>\n",
       "      <td>5.20</td>\n",
       "      <td>-4.50</td>\n",
       "      <td>43.5</td>\n",
       "      <td>3.6</td>\n",
       "      <td>-3.1</td>\n",
       "      <td>35.9</td>\n",
       "      <td>13.9</td>\n",
       "      <td>-14.8</td>\n",
       "      <td>-247.6</td>\n",
       "      <td>7.1</td>\n",
       "      <td>-7.2</td>\n",
       "      <td>-157.7</td>\n",
       "      <td>10.1</td>\n",
       "      <td>-10.2</td>\n",
       "    </tr>\n",
       "    <tr>\n",
       "      <th>2</th>\n",
       "      <td>Carina</td>\n",
       "      <td>-16.7</td>\n",
       "      <td>0.9</td>\n",
       "      <td>-0.9</td>\n",
       "      <td>-95.70</td>\n",
       "      <td>5.00</td>\n",
       "      <td>-5.30</td>\n",
       "      <td>-39.7</td>\n",
       "      <td>2.1</td>\n",
       "      <td>-2.2</td>\n",
       "      <td>-51.1</td>\n",
       "      <td>18.9</td>\n",
       "      <td>-18.1</td>\n",
       "      <td>-298.4</td>\n",
       "      <td>9.8</td>\n",
       "      <td>-8.9</td>\n",
       "      <td>151.4</td>\n",
       "      <td>21.1</td>\n",
       "      <td>-23.6</td>\n",
       "    </tr>\n",
       "    <tr>\n",
       "      <th>3</th>\n",
       "      <td>Ursa Minor</td>\n",
       "      <td>-13.9</td>\n",
       "      <td>0.5</td>\n",
       "      <td>-0.6</td>\n",
       "      <td>52.10</td>\n",
       "      <td>2.10</td>\n",
       "      <td>-2.00</td>\n",
       "      <td>53.6</td>\n",
       "      <td>2.2</td>\n",
       "      <td>-2.0</td>\n",
       "      <td>-12.8</td>\n",
       "      <td>12.2</td>\n",
       "      <td>-12.5</td>\n",
       "      <td>-205.0</td>\n",
       "      <td>10.0</td>\n",
       "      <td>-10.3</td>\n",
       "      <td>-153.7</td>\n",
       "      <td>9.7</td>\n",
       "      <td>-8.8</td>\n",
       "    </tr>\n",
       "    <tr>\n",
       "      <th>4</th>\n",
       "      <td>Sextans</td>\n",
       "      <td>-28.4</td>\n",
       "      <td>1.4</td>\n",
       "      <td>-1.3</td>\n",
       "      <td>-57.00</td>\n",
       "      <td>2.80</td>\n",
       "      <td>-2.50</td>\n",
       "      <td>57.9</td>\n",
       "      <td>2.6</td>\n",
       "      <td>-2.8</td>\n",
       "      <td>-253.0</td>\n",
       "      <td>17.8</td>\n",
       "      <td>-19.8</td>\n",
       "      <td>-161.1</td>\n",
       "      <td>13.0</td>\n",
       "      <td>-11.0</td>\n",
       "      <td>50.8</td>\n",
       "      <td>14.0</td>\n",
       "      <td>-12.9</td>\n",
       "    </tr>\n",
       "    <tr>\n",
       "      <th>5</th>\n",
       "      <td>Leo I</td>\n",
       "      <td>-115.5</td>\n",
       "      <td>7.6</td>\n",
       "      <td>-7.2</td>\n",
       "      <td>-119.60</td>\n",
       "      <td>7.90</td>\n",
       "      <td>-7.40</td>\n",
       "      <td>192.0</td>\n",
       "      <td>11.9</td>\n",
       "      <td>-12.6</td>\n",
       "      <td>-177.0</td>\n",
       "      <td>80.3</td>\n",
       "      <td>-75.9</td>\n",
       "      <td>-243.0</td>\n",
       "      <td>61.0</td>\n",
       "      <td>-55.4</td>\n",
       "      <td>113.2</td>\n",
       "      <td>44.8</td>\n",
       "      <td>-47.4</td>\n",
       "    </tr>\n",
       "    <tr>\n",
       "      <th>6</th>\n",
       "      <td>Leo II</td>\n",
       "      <td>-69.0</td>\n",
       "      <td>3.9</td>\n",
       "      <td>-3.8</td>\n",
       "      <td>-58.30</td>\n",
       "      <td>3.30</td>\n",
       "      <td>-3.20</td>\n",
       "      <td>215.2</td>\n",
       "      <td>11.9</td>\n",
       "      <td>-12.3</td>\n",
       "      <td>13.2</td>\n",
       "      <td>73.3</td>\n",
       "      <td>-69.1</td>\n",
       "      <td>-253.9</td>\n",
       "      <td>73.8</td>\n",
       "      <td>-66.9</td>\n",
       "      <td>18.9</td>\n",
       "      <td>27.5</td>\n",
       "      <td>-28.9</td>\n",
       "    </tr>\n",
       "    <tr>\n",
       "      <th>7</th>\n",
       "      <td>Sagittarius dSph</td>\n",
       "      <td>25.2</td>\n",
       "      <td>2.0</td>\n",
       "      <td>-1.8</td>\n",
       "      <td>2.50</td>\n",
       "      <td>0.20</td>\n",
       "      <td>-0.20</td>\n",
       "      <td>-6.4</td>\n",
       "      <td>0.5</td>\n",
       "      <td>-0.5</td>\n",
       "      <td>221.3</td>\n",
       "      <td>7.2</td>\n",
       "      <td>-6.2</td>\n",
       "      <td>-266.5</td>\n",
       "      <td>19.9</td>\n",
       "      <td>-22.5</td>\n",
       "      <td>197.4</td>\n",
       "      <td>18.6</td>\n",
       "      <td>-17.1</td>\n",
       "    </tr>\n",
       "    <tr>\n",
       "      <th>8</th>\n",
       "      <td>Sculptor</td>\n",
       "      <td>3.1</td>\n",
       "      <td>0.2</td>\n",
       "      <td>-0.2</td>\n",
       "      <td>-9.80</td>\n",
       "      <td>0.70</td>\n",
       "      <td>-0.70</td>\n",
       "      <td>-85.4</td>\n",
       "      <td>5.7</td>\n",
       "      <td>-6.1</td>\n",
       "      <td>6.2</td>\n",
       "      <td>15.3</td>\n",
       "      <td>-14.1</td>\n",
       "      <td>-74.0</td>\n",
       "      <td>15.6</td>\n",
       "      <td>-14.0</td>\n",
       "      <td>-103.5</td>\n",
       "      <td>1.8</td>\n",
       "      <td>-1.8</td>\n",
       "    </tr>\n",
       "    <tr>\n",
       "      <th>9</th>\n",
       "      <td>Bootes I</td>\n",
       "      <td>22.7</td>\n",
       "      <td>1.1</td>\n",
       "      <td>-1.0</td>\n",
       "      <td>-0.76</td>\n",
       "      <td>0.03</td>\n",
       "      <td>-0.04</td>\n",
       "      <td>61.0</td>\n",
       "      <td>2.8</td>\n",
       "      <td>-2.7</td>\n",
       "      <td>124.9</td>\n",
       "      <td>14.1</td>\n",
       "      <td>-15.3</td>\n",
       "      <td>-344.6</td>\n",
       "      <td>22.3</td>\n",
       "      <td>-21.6</td>\n",
       "      <td>57.9</td>\n",
       "      <td>5.7</td>\n",
       "      <td>-5.1</td>\n",
       "    </tr>\n",
       "    <tr>\n",
       "      <th>10</th>\n",
       "      <td>LMC</td>\n",
       "      <td>7.1</td>\n",
       "      <td>0.3</td>\n",
       "      <td>-0.3</td>\n",
       "      <td>-41.00</td>\n",
       "      <td>2.00</td>\n",
       "      <td>-2.00</td>\n",
       "      <td>-27.8</td>\n",
       "      <td>1.4</td>\n",
       "      <td>-1.4</td>\n",
       "      <td>-68.6</td>\n",
       "      <td>10.2</td>\n",
       "      <td>-9.7</td>\n",
       "      <td>-468.4</td>\n",
       "      <td>13.8</td>\n",
       "      <td>-13.5</td>\n",
       "      <td>201.0</td>\n",
       "      <td>18.0</td>\n",
       "      <td>-18.8</td>\n",
       "    </tr>\n",
       "    <tr>\n",
       "      <th>11</th>\n",
       "      <td>SMC</td>\n",
       "      <td>23.3</td>\n",
       "      <td>0.9</td>\n",
       "      <td>-0.9</td>\n",
       "      <td>-38.10</td>\n",
       "      <td>1.50</td>\n",
       "      <td>-1.50</td>\n",
       "      <td>-44.1</td>\n",
       "      <td>1.7</td>\n",
       "      <td>-1.7</td>\n",
       "      <td>14.8</td>\n",
       "      <td>10.0</td>\n",
       "      <td>-10.0</td>\n",
       "      <td>-425.0</td>\n",
       "      <td>16.0</td>\n",
       "      <td>-15.2</td>\n",
       "      <td>167.5</td>\n",
       "      <td>13.0</td>\n",
       "      <td>-13.3</td>\n",
       "    </tr>\n",
       "  </tbody>\n",
       "</table>\n",
       "</div>"
      ],
      "text/plain": [
       "                Name      X   +X   -X       Y    +Y    -Y      Z    +Z    -Z  \\\n",
       "0             Fornax  -33.1  2.6 -2.7  -51.10  4.10 -4.20 -134.5  10.8 -11.0   \n",
       "1              Draco    4.0  0.3 -0.3   62.60  5.20 -4.50   43.5   3.6  -3.1   \n",
       "2             Carina  -16.7  0.9 -0.9  -95.70  5.00 -5.30  -39.7   2.1  -2.2   \n",
       "3         Ursa Minor  -13.9  0.5 -0.6   52.10  2.10 -2.00   53.6   2.2  -2.0   \n",
       "4            Sextans  -28.4  1.4 -1.3  -57.00  2.80 -2.50   57.9   2.6  -2.8   \n",
       "5              Leo I -115.5  7.6 -7.2 -119.60  7.90 -7.40  192.0  11.9 -12.6   \n",
       "6             Leo II  -69.0  3.9 -3.8  -58.30  3.30 -3.20  215.2  11.9 -12.3   \n",
       "7   Sagittarius dSph   25.2  2.0 -1.8    2.50  0.20 -0.20   -6.4   0.5  -0.5   \n",
       "8           Sculptor    3.1  0.2 -0.2   -9.80  0.70 -0.70  -85.4   5.7  -6.1   \n",
       "9           Bootes I   22.7  1.1 -1.0   -0.76  0.03 -0.04   61.0   2.8  -2.7   \n",
       "10               LMC    7.1  0.3 -0.3  -41.00  2.00 -2.00  -27.8   1.4  -1.4   \n",
       "11               SMC   23.3  0.9 -0.9  -38.10  1.50 -1.50  -44.1   1.7  -1.7   \n",
       "\n",
       "        U    +U    -U      V    +V    -V      W    +W    -W  \n",
       "0    34.2  22.5 -23.4 -386.0  38.0 -36.9   77.2  14.8 -14.3  \n",
       "1    35.9  13.9 -14.8 -247.6   7.1  -7.2 -157.7  10.1 -10.2  \n",
       "2   -51.1  18.9 -18.1 -298.4   9.8  -8.9  151.4  21.1 -23.6  \n",
       "3   -12.8  12.2 -12.5 -205.0  10.0 -10.3 -153.7   9.7  -8.8  \n",
       "4  -253.0  17.8 -19.8 -161.1  13.0 -11.0   50.8  14.0 -12.9  \n",
       "5  -177.0  80.3 -75.9 -243.0  61.0 -55.4  113.2  44.8 -47.4  \n",
       "6    13.2  73.3 -69.1 -253.9  73.8 -66.9   18.9  27.5 -28.9  \n",
       "7   221.3   7.2  -6.2 -266.5  19.9 -22.5  197.4  18.6 -17.1  \n",
       "8     6.2  15.3 -14.1  -74.0  15.6 -14.0 -103.5   1.8  -1.8  \n",
       "9   124.9  14.1 -15.3 -344.6  22.3 -21.6   57.9   5.7  -5.1  \n",
       "10  -68.6  10.2  -9.7 -468.4  13.8 -13.5  201.0  18.0 -18.8  \n",
       "11   14.8  10.0 -10.0 -425.0  16.0 -15.2  167.5  13.0 -13.3  "
      ]
     },
     "execution_count": 10,
     "metadata": {},
     "output_type": "execute_result"
    }
   ],
   "source": [
    "df"
   ]
  },
  {
   "cell_type": "markdown",
   "metadata": {},
   "source": [
    "Merge the two tables together using the name column."
   ]
  },
  {
   "cell_type": "code",
   "execution_count": 11,
   "metadata": {
    "collapsed": true
   },
   "outputs": [],
   "source": [
    "combined_df = pd.merge(dwarf_tbl, df, on='Name')\n",
    "combined_df['Mass'] = combined_df['Mass'].astype(float)*1e+6"
   ]
  },
  {
   "cell_type": "markdown",
   "metadata": {},
   "source": [
    "Examine the new table."
   ]
  },
  {
   "cell_type": "code",
   "execution_count": 12,
   "metadata": {},
   "outputs": [
    {
     "data": {
      "text/html": [
       "<div>\n",
       "<style>\n",
       "    .dataframe thead tr:only-child th {\n",
       "        text-align: right;\n",
       "    }\n",
       "\n",
       "    .dataframe thead th {\n",
       "        text-align: left;\n",
       "    }\n",
       "\n",
       "    .dataframe tbody tr th {\n",
       "        vertical-align: top;\n",
       "    }\n",
       "</style>\n",
       "<table border=\"1\" class=\"dataframe\">\n",
       "  <thead>\n",
       "    <tr style=\"text-align: right;\">\n",
       "      <th></th>\n",
       "      <th>_RAJ2000</th>\n",
       "      <th>_DEJ2000</th>\n",
       "      <th>SubG</th>\n",
       "      <th>n_Name</th>\n",
       "      <th>Name</th>\n",
       "      <th>MType</th>\n",
       "      <th>RAJ2000</th>\n",
       "      <th>DEJ2000</th>\n",
       "      <th>D</th>\n",
       "      <th>u_D</th>\n",
       "      <th>...</th>\n",
       "      <th>-Z</th>\n",
       "      <th>U</th>\n",
       "      <th>+U</th>\n",
       "      <th>-U</th>\n",
       "      <th>V</th>\n",
       "      <th>+V</th>\n",
       "      <th>-V</th>\n",
       "      <th>W</th>\n",
       "      <th>+W</th>\n",
       "      <th>-W</th>\n",
       "    </tr>\n",
       "  </thead>\n",
       "  <tbody>\n",
       "    <tr>\n",
       "      <th>0</th>\n",
       "      <td>283.8312</td>\n",
       "      <td>-30.5453</td>\n",
       "      <td>MW</td>\n",
       "      <td>G</td>\n",
       "      <td>Sagittarius dSph</td>\n",
       "      <td>dSph</td>\n",
       "      <td>18 55 19.5</td>\n",
       "      <td>-30 32 43</td>\n",
       "      <td>26</td>\n",
       "      <td></td>\n",
       "      <td>...</td>\n",
       "      <td>-0.5</td>\n",
       "      <td>221.3</td>\n",
       "      <td>7.2</td>\n",
       "      <td>-6.2</td>\n",
       "      <td>-266.5</td>\n",
       "      <td>19.9</td>\n",
       "      <td>-22.5</td>\n",
       "      <td>197.4</td>\n",
       "      <td>18.6</td>\n",
       "      <td>-17.1</td>\n",
       "    </tr>\n",
       "    <tr>\n",
       "      <th>1</th>\n",
       "      <td>080.8937</td>\n",
       "      <td>-69.7561</td>\n",
       "      <td>MW</td>\n",
       "      <td>G</td>\n",
       "      <td>LMC</td>\n",
       "      <td>Irr</td>\n",
       "      <td>05 23 34.5</td>\n",
       "      <td>-69 45 22</td>\n",
       "      <td>51</td>\n",
       "      <td></td>\n",
       "      <td>...</td>\n",
       "      <td>-1.4</td>\n",
       "      <td>-68.6</td>\n",
       "      <td>10.2</td>\n",
       "      <td>-9.7</td>\n",
       "      <td>-468.4</td>\n",
       "      <td>13.8</td>\n",
       "      <td>-13.5</td>\n",
       "      <td>201.0</td>\n",
       "      <td>18.0</td>\n",
       "      <td>-18.8</td>\n",
       "    </tr>\n",
       "    <tr>\n",
       "      <th>2</th>\n",
       "      <td>013.1867</td>\n",
       "      <td>-72.8286</td>\n",
       "      <td>MW</td>\n",
       "      <td>G</td>\n",
       "      <td>SMC</td>\n",
       "      <td>dIrr</td>\n",
       "      <td>00 52 44.8</td>\n",
       "      <td>-72 49 43</td>\n",
       "      <td>64</td>\n",
       "      <td></td>\n",
       "      <td>...</td>\n",
       "      <td>-1.7</td>\n",
       "      <td>14.8</td>\n",
       "      <td>10.0</td>\n",
       "      <td>-10.0</td>\n",
       "      <td>-425.0</td>\n",
       "      <td>16.0</td>\n",
       "      <td>-15.2</td>\n",
       "      <td>167.5</td>\n",
       "      <td>13.0</td>\n",
       "      <td>-13.3</td>\n",
       "    </tr>\n",
       "    <tr>\n",
       "      <th>3</th>\n",
       "      <td>260.0517</td>\n",
       "      <td>+57.9153</td>\n",
       "      <td>MW</td>\n",
       "      <td>G</td>\n",
       "      <td>Draco</td>\n",
       "      <td>dSph</td>\n",
       "      <td>17 20 12.4</td>\n",
       "      <td>+57 54 55</td>\n",
       "      <td>76</td>\n",
       "      <td></td>\n",
       "      <td>...</td>\n",
       "      <td>-3.1</td>\n",
       "      <td>35.9</td>\n",
       "      <td>13.9</td>\n",
       "      <td>-14.8</td>\n",
       "      <td>-247.6</td>\n",
       "      <td>7.1</td>\n",
       "      <td>-7.2</td>\n",
       "      <td>-157.7</td>\n",
       "      <td>10.1</td>\n",
       "      <td>-10.2</td>\n",
       "    </tr>\n",
       "    <tr>\n",
       "      <th>4</th>\n",
       "      <td>227.2854</td>\n",
       "      <td>+67.2225</td>\n",
       "      <td>MW</td>\n",
       "      <td>G</td>\n",
       "      <td>Ursa Minor</td>\n",
       "      <td>dSph</td>\n",
       "      <td>15 09 08.5</td>\n",
       "      <td>+67 13 21</td>\n",
       "      <td>76</td>\n",
       "      <td></td>\n",
       "      <td>...</td>\n",
       "      <td>-2.0</td>\n",
       "      <td>-12.8</td>\n",
       "      <td>12.2</td>\n",
       "      <td>-12.5</td>\n",
       "      <td>-205.0</td>\n",
       "      <td>10.0</td>\n",
       "      <td>-10.3</td>\n",
       "      <td>-153.7</td>\n",
       "      <td>9.7</td>\n",
       "      <td>-8.8</td>\n",
       "    </tr>\n",
       "    <tr>\n",
       "      <th>5</th>\n",
       "      <td>015.0392</td>\n",
       "      <td>-33.7092</td>\n",
       "      <td>MW</td>\n",
       "      <td>G</td>\n",
       "      <td>Sculptor</td>\n",
       "      <td>dSph</td>\n",
       "      <td>01 00 09.4</td>\n",
       "      <td>-33 42 33</td>\n",
       "      <td>86</td>\n",
       "      <td></td>\n",
       "      <td>...</td>\n",
       "      <td>-6.1</td>\n",
       "      <td>6.2</td>\n",
       "      <td>15.3</td>\n",
       "      <td>-14.1</td>\n",
       "      <td>-74.0</td>\n",
       "      <td>15.6</td>\n",
       "      <td>-14.0</td>\n",
       "      <td>-103.5</td>\n",
       "      <td>1.8</td>\n",
       "      <td>-1.8</td>\n",
       "    </tr>\n",
       "    <tr>\n",
       "      <th>6</th>\n",
       "      <td>100.4029</td>\n",
       "      <td>-50.9661</td>\n",
       "      <td>MW</td>\n",
       "      <td>G</td>\n",
       "      <td>Carina</td>\n",
       "      <td>dSph</td>\n",
       "      <td>06 41 36.7</td>\n",
       "      <td>-50 57 58</td>\n",
       "      <td>105</td>\n",
       "      <td></td>\n",
       "      <td>...</td>\n",
       "      <td>-2.2</td>\n",
       "      <td>-51.1</td>\n",
       "      <td>18.9</td>\n",
       "      <td>-18.1</td>\n",
       "      <td>-298.4</td>\n",
       "      <td>9.8</td>\n",
       "      <td>-8.9</td>\n",
       "      <td>151.4</td>\n",
       "      <td>21.1</td>\n",
       "      <td>-23.6</td>\n",
       "    </tr>\n",
       "    <tr>\n",
       "      <th>7</th>\n",
       "      <td>039.9971</td>\n",
       "      <td>-34.4492</td>\n",
       "      <td>MW</td>\n",
       "      <td>G</td>\n",
       "      <td>Fornax</td>\n",
       "      <td>dSph</td>\n",
       "      <td>02 39 59.3</td>\n",
       "      <td>-34 26 57</td>\n",
       "      <td>147</td>\n",
       "      <td></td>\n",
       "      <td>...</td>\n",
       "      <td>-11.0</td>\n",
       "      <td>34.2</td>\n",
       "      <td>22.5</td>\n",
       "      <td>-23.4</td>\n",
       "      <td>-386.0</td>\n",
       "      <td>38.0</td>\n",
       "      <td>-36.9</td>\n",
       "      <td>77.2</td>\n",
       "      <td>14.8</td>\n",
       "      <td>-14.3</td>\n",
       "    </tr>\n",
       "    <tr>\n",
       "      <th>8</th>\n",
       "      <td>168.3700</td>\n",
       "      <td>+22.1517</td>\n",
       "      <td>MW</td>\n",
       "      <td>G</td>\n",
       "      <td>Leo II</td>\n",
       "      <td>dSph</td>\n",
       "      <td>11 13 28.8</td>\n",
       "      <td>+22 09 06</td>\n",
       "      <td>233</td>\n",
       "      <td></td>\n",
       "      <td>...</td>\n",
       "      <td>-12.3</td>\n",
       "      <td>13.2</td>\n",
       "      <td>73.3</td>\n",
       "      <td>-69.1</td>\n",
       "      <td>-253.9</td>\n",
       "      <td>73.8</td>\n",
       "      <td>-66.9</td>\n",
       "      <td>18.9</td>\n",
       "      <td>27.5</td>\n",
       "      <td>-28.9</td>\n",
       "    </tr>\n",
       "    <tr>\n",
       "      <th>9</th>\n",
       "      <td>152.1171</td>\n",
       "      <td>+12.3064</td>\n",
       "      <td>MW</td>\n",
       "      <td>G,L</td>\n",
       "      <td>Leo I</td>\n",
       "      <td>dSph</td>\n",
       "      <td>10 08 28.1</td>\n",
       "      <td>+12 18 23</td>\n",
       "      <td>254</td>\n",
       "      <td></td>\n",
       "      <td>...</td>\n",
       "      <td>-12.6</td>\n",
       "      <td>-177.0</td>\n",
       "      <td>80.3</td>\n",
       "      <td>-75.9</td>\n",
       "      <td>-243.0</td>\n",
       "      <td>61.0</td>\n",
       "      <td>-55.4</td>\n",
       "      <td>113.2</td>\n",
       "      <td>44.8</td>\n",
       "      <td>-47.4</td>\n",
       "    </tr>\n",
       "  </tbody>\n",
       "</table>\n",
       "<p>10 rows × 52 columns</p>\n",
       "</div>"
      ],
      "text/plain": [
       "   _RAJ2000  _DEJ2000  SubG n_Name              Name      MType     RAJ2000  \\\n",
       "0  283.8312  -30.5453  MW      G    Sagittarius dSph  dSph       18 55 19.5   \n",
       "1  080.8937  -69.7561  MW      G                 LMC  Irr        05 23 34.5   \n",
       "2  013.1867  -72.8286  MW      G                 SMC  dIrr       00 52 44.8   \n",
       "3  260.0517  +57.9153  MW      G               Draco  dSph       17 20 12.4   \n",
       "4  227.2854  +67.2225  MW      G          Ursa Minor  dSph       15 09 08.5   \n",
       "5  015.0392  -33.7092  MW      G            Sculptor  dSph       01 00 09.4   \n",
       "6  100.4029  -50.9661  MW      G              Carina  dSph       06 41 36.7   \n",
       "7  039.9971  -34.4492  MW      G              Fornax  dSph       02 39 59.3   \n",
       "8  168.3700  +22.1517  MW      G              Leo II  dSph       11 13 28.8   \n",
       "9  152.1171  +12.3064  MW      G,L             Leo I  dSph       10 08 28.1   \n",
       "\n",
       "     DEJ2000     D u_D  ...     -Z      U    +U    -U      V    +V    -V  \\\n",
       "0  -30 32 43    26      ...   -0.5  221.3   7.2  -6.2 -266.5  19.9 -22.5   \n",
       "1  -69 45 22    51      ...   -1.4  -68.6  10.2  -9.7 -468.4  13.8 -13.5   \n",
       "2  -72 49 43    64      ...   -1.7   14.8  10.0 -10.0 -425.0  16.0 -15.2   \n",
       "3  +57 54 55    76      ...   -3.1   35.9  13.9 -14.8 -247.6   7.1  -7.2   \n",
       "4  +67 13 21    76      ...   -2.0  -12.8  12.2 -12.5 -205.0  10.0 -10.3   \n",
       "5  -33 42 33    86      ...   -6.1    6.2  15.3 -14.1  -74.0  15.6 -14.0   \n",
       "6  -50 57 58   105      ...   -2.2  -51.1  18.9 -18.1 -298.4   9.8  -8.9   \n",
       "7  -34 26 57   147      ...  -11.0   34.2  22.5 -23.4 -386.0  38.0 -36.9   \n",
       "8  +22 09 06   233      ...  -12.3   13.2  73.3 -69.1 -253.9  73.8 -66.9   \n",
       "9  +12 18 23   254      ...  -12.6 -177.0  80.3 -75.9 -243.0  61.0 -55.4   \n",
       "\n",
       "       W    +W    -W  \n",
       "0  197.4  18.6 -17.1  \n",
       "1  201.0  18.0 -18.8  \n",
       "2  167.5  13.0 -13.3  \n",
       "3 -157.7  10.1 -10.2  \n",
       "4 -153.7   9.7  -8.8  \n",
       "5 -103.5   1.8  -1.8  \n",
       "6  151.4  21.1 -23.6  \n",
       "7   77.2  14.8 -14.3  \n",
       "8   18.9  27.5 -28.9  \n",
       "9  113.2  44.8 -47.4  \n",
       "\n",
       "[10 rows x 52 columns]"
      ]
     },
     "execution_count": 12,
     "metadata": {},
     "output_type": "execute_result"
    }
   ],
   "source": [
    "combined_df"
   ]
  },
  {
   "cell_type": "markdown",
   "metadata": {},
   "source": [
    "And just get the order of the dwarfs."
   ]
  },
  {
   "cell_type": "code",
   "execution_count": 13,
   "metadata": {},
   "outputs": [
    {
     "data": {
      "text/plain": [
       "0    Sagittarius dSph\n",
       "1                 LMC\n",
       "2                 SMC\n",
       "3               Draco\n",
       "4          Ursa Minor\n",
       "5            Sculptor\n",
       "6              Carina\n",
       "7              Fornax\n",
       "8              Leo II\n",
       "9               Leo I\n",
       "Name: Name, dtype: object"
      ]
     },
     "execution_count": 13,
     "metadata": {},
     "output_type": "execute_result"
    }
   ],
   "source": [
    "combined_df.Name"
   ]
  },
  {
   "cell_type": "markdown",
   "metadata": {},
   "source": [
    "Make vectors of position and velocity."
   ]
  },
  {
   "cell_type": "code",
   "execution_count": 14,
   "metadata": {},
   "outputs": [],
   "source": [
    "R = combined_df[['X', 'Y', 'Z']]\n",
    "V = combined_df[['U', 'V', 'W']]"
   ]
  },
  {
   "cell_type": "markdown",
   "metadata": {},
   "source": [
    "Take the cross product of R and P (V*m)"
   ]
  },
  {
   "cell_type": "code",
   "execution_count": 15,
   "metadata": {},
   "outputs": [],
   "source": [
    "L = np.cross(R.values, V.values*combined_df['Mass'].values[:, None])"
   ]
  },
  {
   "cell_type": "markdown",
   "metadata": {},
   "source": [
    "And compute the norm of the angular momentum for each galaxy."
   ]
  },
  {
   "cell_type": "code",
   "execution_count": 16,
   "metadata": {
    "collapsed": true
   },
   "outputs": [],
   "source": [
    "L_r = np.linalg.norm(L, axis=1)  # 2-norm is default"
   ]
  },
  {
   "cell_type": "markdown",
   "metadata": {},
   "source": [
    "Compute the unit angular momentum for each galaxy."
   ]
  },
  {
   "cell_type": "code",
   "execution_count": 17,
   "metadata": {
    "collapsed": true
   },
   "outputs": [],
   "source": [
    "unit_L = L/L_r[:, None]"
   ]
  },
  {
   "cell_type": "markdown",
   "metadata": {},
   "source": [
    "Add this unit vector into our dataframe"
   ]
  },
  {
   "cell_type": "code",
   "execution_count": 18,
   "metadata": {
    "collapsed": true
   },
   "outputs": [],
   "source": [
    "combined_df['Lx'] = unit_L[:, 0]\n",
    "combined_df['Ly'] = unit_L[:, 1]\n",
    "combined_df['Lz'] = unit_L[:, 2]"
   ]
  },
  {
   "cell_type": "markdown",
   "metadata": {},
   "source": [
    "And examine the vectors."
   ]
  },
  {
   "cell_type": "code",
   "execution_count": 19,
   "metadata": {
    "scrolled": true
   },
   "outputs": [
    {
     "data": {
      "text/html": [
       "<div>\n",
       "<style>\n",
       "    .dataframe thead tr:only-child th {\n",
       "        text-align: right;\n",
       "    }\n",
       "\n",
       "    .dataframe thead th {\n",
       "        text-align: left;\n",
       "    }\n",
       "\n",
       "    .dataframe tbody tr th {\n",
       "        vertical-align: top;\n",
       "    }\n",
       "</style>\n",
       "<table border=\"1\" class=\"dataframe\">\n",
       "  <thead>\n",
       "    <tr style=\"text-align: right;\">\n",
       "      <th></th>\n",
       "      <th>Name</th>\n",
       "      <th>Lx</th>\n",
       "      <th>Ly</th>\n",
       "      <th>Lz</th>\n",
       "    </tr>\n",
       "  </thead>\n",
       "  <tbody>\n",
       "    <tr>\n",
       "      <th>0</th>\n",
       "      <td>Sagittarius dSph</td>\n",
       "      <td>-0.124260</td>\n",
       "      <td>-0.655163</td>\n",
       "      <td>-0.745198</td>\n",
       "    </tr>\n",
       "    <tr>\n",
       "      <th>1</th>\n",
       "      <td>LMC</td>\n",
       "      <td>-0.960540</td>\n",
       "      <td>0.021683</td>\n",
       "      <td>-0.277297</td>\n",
       "    </tr>\n",
       "    <tr>\n",
       "      <th>2</th>\n",
       "      <td>SMC</td>\n",
       "      <td>-0.924092</td>\n",
       "      <td>-0.167553</td>\n",
       "      <td>-0.343483</td>\n",
       "    </tr>\n",
       "    <tr>\n",
       "      <th>3</th>\n",
       "      <td>Draco</td>\n",
       "      <td>0.223965</td>\n",
       "      <td>0.546454</td>\n",
       "      <td>-0.806986</td>\n",
       "    </tr>\n",
       "    <tr>\n",
       "      <th>4</th>\n",
       "      <td>Ursa Minor</td>\n",
       "      <td>0.551391</td>\n",
       "      <td>-0.522210</td>\n",
       "      <td>0.650588</td>\n",
       "    </tr>\n",
       "    <tr>\n",
       "      <th>5</th>\n",
       "      <td>Sculptor</td>\n",
       "      <td>-0.998724</td>\n",
       "      <td>-0.039275</td>\n",
       "      <td>-0.031747</td>\n",
       "    </tr>\n",
       "    <tr>\n",
       "      <th>6</th>\n",
       "      <td>Carina</td>\n",
       "      <td>-0.985351</td>\n",
       "      <td>0.170504</td>\n",
       "      <td>0.003480</td>\n",
       "    </tr>\n",
       "    <tr>\n",
       "      <th>7</th>\n",
       "      <td>Fornax</td>\n",
       "      <td>-0.967215</td>\n",
       "      <td>-0.035401</td>\n",
       "      <td>0.251478</td>\n",
       "    </tr>\n",
       "    <tr>\n",
       "      <th>8</th>\n",
       "      <td>Leo II</td>\n",
       "      <td>0.943779</td>\n",
       "      <td>0.073065</td>\n",
       "      <td>0.322400</td>\n",
       "    </tr>\n",
       "    <tr>\n",
       "      <th>9</th>\n",
       "      <td>Leo I</td>\n",
       "      <td>0.832752</td>\n",
       "      <td>-0.525779</td>\n",
       "      <td>0.173436</td>\n",
       "    </tr>\n",
       "  </tbody>\n",
       "</table>\n",
       "</div>"
      ],
      "text/plain": [
       "               Name        Lx        Ly        Lz\n",
       "0  Sagittarius dSph -0.124260 -0.655163 -0.745198\n",
       "1               LMC -0.960540  0.021683 -0.277297\n",
       "2               SMC -0.924092 -0.167553 -0.343483\n",
       "3             Draco  0.223965  0.546454 -0.806986\n",
       "4        Ursa Minor  0.551391 -0.522210  0.650588\n",
       "5          Sculptor -0.998724 -0.039275 -0.031747\n",
       "6            Carina -0.985351  0.170504  0.003480\n",
       "7            Fornax -0.967215 -0.035401  0.251478\n",
       "8            Leo II  0.943779  0.073065  0.322400\n",
       "9             Leo I  0.832752 -0.525779  0.173436"
      ]
     },
     "execution_count": 19,
     "metadata": {},
     "output_type": "execute_result"
    }
   ],
   "source": [
    "combined_df[['Name', 'Lx', 'Ly', 'Lz']]"
   ]
  },
  {
   "cell_type": "markdown",
   "metadata": {},
   "source": [
    "Compute the first angle."
   ]
  },
  {
   "cell_type": "code",
   "execution_count": 20,
   "metadata": {
    "collapsed": true
   },
   "outputs": [],
   "source": [
    "theta = np.arctan2(L[:, 1], L[:, 0])"
   ]
  },
  {
   "cell_type": "markdown",
   "metadata": {},
   "source": [
    "And the second angle"
   ]
  },
  {
   "cell_type": "code",
   "execution_count": 21,
   "metadata": {
    "collapsed": true
   },
   "outputs": [],
   "source": [
    "phi = np.arccos(L[:, 2]/L_r)"
   ]
  },
  {
   "cell_type": "markdown",
   "metadata": {},
   "source": [
    "Examine the angles in radians."
   ]
  },
  {
   "cell_type": "code",
   "execution_count": 22,
   "metadata": {},
   "outputs": [
    {
     "data": {
      "text/plain": [
       "(array([-1.75823325,  3.11902249, -2.96222525,  1.18182581, -0.75822459,\n",
       "        -3.10228808,  2.97025078, -3.10500838,  0.07726353, -0.56316997]),\n",
       " array([ 2.41162859,  1.85177548,  1.92141894,  2.50982764,  0.86243842,\n",
       "         1.60254818,  1.56731632,  1.31658921,  1.24253253,  1.39647838]))"
      ]
     },
     "execution_count": 22,
     "metadata": {},
     "output_type": "execute_result"
    }
   ],
   "source": [
    "theta, phi"
   ]
  },
  {
   "cell_type": "markdown",
   "metadata": {},
   "source": [
    "And degrees."
   ]
  },
  {
   "cell_type": "code",
   "execution_count": 23,
   "metadata": {},
   "outputs": [
    {
     "data": {
      "text/plain": [
       "(array([-100.73934472,  178.70682505, -169.72300487,   67.71363107,\n",
       "         -43.44306896, -177.74801381,  170.18283365, -177.90387553,\n",
       "           4.42687405,  -32.26726224]),\n",
       " array([ 138.17613975,  106.09891937,  110.08919589,  143.80253101,\n",
       "          49.41408162,   91.81924734,   89.8006101 ,   75.43500501,\n",
       "          71.19186986,   80.01231744]))"
      ]
     },
     "execution_count": 23,
     "metadata": {},
     "output_type": "execute_result"
    }
   ],
   "source": [
    "np.degrees(theta), np.degrees(phi)"
   ]
  },
  {
   "cell_type": "markdown",
   "metadata": {},
   "source": [
    "We appear to be very close to the angle provided by Sales."
   ]
  },
  {
   "cell_type": "markdown",
   "metadata": {},
   "source": [
    "Offset the angles to make the LMC appear at the center of the Aitoff projection."
   ]
  },
  {
   "cell_type": "code",
   "execution_count": 24,
   "metadata": {
    "collapsed": true
   },
   "outputs": [],
   "source": [
    "x = theta-np.pi\n",
    "x[x < -np.pi] += 2*np.pi\n",
    "\n",
    "y = phi-np.pi/2."
   ]
  },
  {
   "cell_type": "markdown",
   "metadata": {},
   "source": [
    "Plot this in aitoff coordinates."
   ]
  },
  {
   "cell_type": "code",
   "execution_count": 25,
   "metadata": {},
   "outputs": [
    {
     "data": {
      "image/png": "[encoded data removed]",
      "text/plain": [
       "<Figure size 1200x800 with 1 Axes>"
      ]
     },
     "metadata": {},
     "output_type": "display_data"
    }
   ],
   "source": [
    "fig, axis = plt.subplots(1, subplot_kw={'projection': 'aitoff'}, dpi=200)\n",
    "\n",
    "axis.plot(x, y, '.', color='gray')\n",
    "axis.plot(x[1], y[1], 'r^')  # LMC\n",
    "\n",
    "for name, x_i, phi_i in zip(combined_df.Name, x, y):\n",
    "    \n",
    "    # change some labels so that they don't overlap\n",
    "    \n",
    "    if phi_i < np.radians(10):\n",
    "        va='top'\n",
    "    else:\n",
    "        va='bottom'\n",
    "    \n",
    "    if name in ['Carina', 'LMC']:\n",
    "        ha = 'right'\n",
    "    else:\n",
    "        ha = 'left'\n",
    "    \n",
    "    axis.text(x_i, phi_i, name, fontsize='xx-small', ha=ha, va=va)\n",
    "    \n",
    "axis.set_xticklabels(['%d$^{\\circ}$' % num for num in np.arange(30, 360, 30)])\n",
    "axis.set_yticklabels(['%d$^{\\circ}$' % num for num in np.arange(15, 180, 15)])\n",
    "\n",
    "axis.set_title('Directon of angular momentum vector\\nspherical coordinates', fontsize='xx-small')\n",
    "\n",
    "axis.grid(True)\n",
    "fig.savefig('/Users/spardy/Research/projects/Auriga/for_paper/angular_momentum.pdf', bbox_inches='tight')"
   ]
  },
  {
   "cell_type": "markdown",
   "metadata": {},
   "source": [
    "Compute the cosine distance between each galaxy's angular momentum vector."
   ]
  },
  {
   "cell_type": "code",
   "execution_count": 26,
   "metadata": {
    "scrolled": true
   },
   "outputs": [],
   "source": [
    "cos_distance = np.dot(unit_L, unit_L[1])"
   ]
  },
  {
   "cell_type": "markdown",
   "metadata": {},
   "source": [
    "Sort these."
   ]
  },
  {
   "cell_type": "code",
   "execution_count": 27,
   "metadata": {
    "collapsed": true
   },
   "outputs": [],
   "source": [
    "s = np.argsort(cos_distance)"
   ]
  },
  {
   "cell_type": "markdown",
   "metadata": {},
   "source": [
    "And plot them with the names appearing on the x-axis."
   ]
  },
  {
   "cell_type": "code",
   "execution_count": 28,
   "metadata": {},
   "outputs": [
    {
     "data": {
      "image/png": "[encoded data removed]",
      "text/plain": [
       "<Figure size 432x288 with 1 Axes>"
      ]
     },
     "metadata": {},
     "output_type": "display_data"
    }
   ],
   "source": [
    "fig, axis = plt.subplots(1)\n",
    "axis.bar(np.arange(len(s)), cos_distance[s])\n",
    "axis.set_xticks(np.arange(len(s)))\n",
    "_ = axis.set_xticklabels(combined_df.Name.iloc[s], rotation=90)\n",
    "axis.set_title('Angular momentum vector similarity with LMC')\n",
    "axis.set_ylabel('Cosine Similarity')\n",
    "\n",
    "fig.tight_layout()\n",
    "\n",
    "fig.savefig('/Users/spardy/Research/projects/Auriga/for_paper/angular_momentum_cosine.pdf')\n"
   ]
  }
 ],
 "metadata": {
  "kernelspec": {
   "display_name": "Python [conda root]",
   "language": "python",
   "name": "conda-root-py"
  },
  "language_info": {
   "codemirror_mode": {
    "name": "ipython",
    "version": 3
   },
   "file_extension": ".py",
   "mimetype": "text/x-python",
   "name": "python",
   "nbconvert_exporter": "python",
   "pygments_lexer": "ipython3",
   "version": "3.6.5"
  }
 },
 "nbformat": 4,
 "nbformat_minor": 2
}
